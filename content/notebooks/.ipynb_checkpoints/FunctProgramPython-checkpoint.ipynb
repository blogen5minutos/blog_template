{
 "metadata": {
  "name": "",
  "signature": "sha256:ef5b7d448607faf57b11eed85ae9802e058a0cd8dc6cd4e0440b0be8a9d865fe"
 },
 "nbformat": 3,
 "nbformat_minor": 0,
 "worksheets": [
  {
   "cells": [
    {
     "cell_type": "markdown",
     "metadata": {},
     "source": [
      "#Programaci\u00f3n Funcional con Python"
     ]
    },
    {
     "cell_type": "markdown",
     "metadata": {},
     "source": [
      "*Esta notebook fue creada originalmente como un blog post por [Ra\u00fal E. L\u00f3pez Briega](http://relopezbriega.com.ar/) en [Mi blog sobre Python](http://relopezbriega.github.io). El contenido esta bajo la licencia BSD.*"
     ]
    },
    {
     "cell_type": "markdown",
     "metadata": {},
     "source": [
      "##Introducci\u00f3n\n",
      "\n",
      "Es bien sabido que existen muchas formas de resolver un mismo problema, \u00e9sto, llevado al mundo de la programaci\u00f3n, a generado que existan o co-existan diferentes *[estilos](http://es.wikipedia.org/wiki/Estilo_de_programaci%C3%B3n)* en los que podemos programar, los cuales son llamados generalmente *[paradigmas](http://es.wikipedia.org/wiki/Paradigma_de_programaci%C3%B3n)*. As\u00ed, podemos encontrar basicamente 4 *[paradigmas](http://es.wikipedia.org/wiki/Paradigma_de_programaci%C3%B3n)* principales de programaci\u00f3n:\n",
      "\n",
      "* **[Programaci\u00f3n imperativa](http://es.wikipedia.org/wiki/Programaci%C3%B3n_imperativa)**: Este suele ser el primer *[paradigma](http://es.wikipedia.org/wiki/Paradigma_de_programaci%C3%B3n)* con el que nos encontramos, el mismo describe a la programaci\u00f3n en t\u00e9rminos de un conjunto de intrucciones que modifican el *estado* del programa y especifican claramente *c\u00f3mo* se deben realiazar las cosas y modificar ese *estado*. Este *[paradigma](http://es.wikipedia.org/wiki/Paradigma_de_programaci%C3%B3n)* esta representado por el lenguaje <a href=\"http://es.wikipedia.org/wiki/C_(lenguaje_de_programaci%C3%B3n)#\" target=\"_blank\">C</a>.\n",
      "\n",
      "\n",
      "* **[Programaci\u00f3n l\u00f3gica](http://es.wikipedia.org/wiki/Programaci%C3%B3n_l%C3%B3gica)**: En este *[paradigma](http://es.wikipedia.org/wiki/Paradigma_de_programaci%C3%B3n)* los programas son escritos en forma *[declarativa](http://es.wikipedia.org/wiki/Programaci%C3%B3n_declarativa)* utilizando expresiones l\u00f3gicas. El principal exponente es el lenguaje [Prolog](http://es.wikipedia.org/wiki/Prolog) (programar en este esoterico lenguaje suele ser una experiencia interesante!).\n",
      "\n",
      "\n",
      "* **[Programaci\u00f3n Orientada a Objetos](http://es.wikipedia.org/wiki/Programaci%C3%B3n_orientada_a_objetos)**: La idea b\u00e1sica detr\u00e1s de este *[paradigma](http://es.wikipedia.org/wiki/Paradigma_de_programaci%C3%B3n)* es que tanto los datos como las funciones que operan sobre estos datos deben estar contenidos en un mismo *objeto*. Estos *objetos* son entidades que tienen un determinado *estado, comportamiento (m\u00e9todo) e identidad*. La [Programaci\u00f3n Orientada a Objetos](http://es.wikipedia.org/wiki/Programaci%C3%B3n_orientada_a_objetos) es sumamente utilizada en el desarrollo de software actual; uno de sus principales impulsores es el lenguaje de programaci\u00f3n <a href=\"http://es.wikipedia.org/wiki/Java_(lenguaje_de_programaci%C3%B3n)\" target=\"_blank\">Java</a>.\n",
      "\n",
      "\n",
      "* **[Programaci\u00f3n Funcional](http://es.wikipedia.org/wiki/Programaci%C3%B3n_funcional)**: Este \u00faltimo *[paradigma](http://es.wikipedia.org/wiki/Paradigma_de_programaci%C3%B3n)* enfatiza la utilizaci\u00f3n de *funciones puras*, es decir, funciones que no tengan efectos secundarios, que no manejan datos mutables o de *estado*. Esta en clara contraposici\u00f3n con la *[programaci\u00f3n imperativa](http://es.wikipedia.org/wiki/Programaci%C3%B3n_imperativa)*. Uno de sus principales representantes es el lenguaje [Haskell](https://wiki.haskell.org/Haskell) (lenguaje, que compite en belleza, elegancia y expresibidad con [Python](http://python.org/)!).\n",
      "\n",
      "La mayor\u00eda de los lenguajes modernos son multiparadigma, es decir, nos permiten programar utilizando m\u00e1s de uno de los *[paradigmas](http://es.wikipedia.org/wiki/Paradigma_de_programaci%C3%B3n)* arriba descriptos. En este art\u00edculo voy a intentar explicar como podemos aplicar la [Programaci\u00f3n Funcional](http://es.wikipedia.org/wiki/Programaci%C3%B3n_funcional) con [Python](http://python.org/)."
     ]
    },
    {
     "cell_type": "markdown",
     "metadata": {},
     "source": [
      "##\u00bfPor qu\u00e9 Programaci\u00f3n Funcional?\n",
      "\n",
      "En estos \u00faltimos a\u00f1os hemos visto el resurgimiento de la [Programaci\u00f3n Funcional](http://es.wikipedia.org/wiki/Programaci%C3%B3n_funcional), nuevos lenguajes como [Scala](http://www.scala-lang.org/) y [Apple Swift](https://developer.apple.com/swift/) ya traen por defecto montones de herramientas para facilitar el  *[paradigma](http://es.wikipedia.org/wiki/Paradigma_de_programaci%C3%B3n) funcional*. La principales razones del crecimiento de la popularidad de la [Programaci\u00f3n Funcional](http://es.wikipedia.org/wiki/Programaci%C3%B3n_funcional) son:\n",
      "\n",
      "1. Los programas escritos en un *estilo funcional* son m\u00e1s f\u00e1ciles de testear y [depurar](http://es.wikipedia.org/wiki/Depuraci%C3%B3n_de_programas).\n",
      "2. Por su caracter\u00edstica modular facilita la [computaci\u00f3n concurrente](http://es.wikipedia.org/wiki/Computaci%C3%B3n_concurrente) y [paralela](http://es.wikipedia.org/wiki/Computaci%C3%B3n_paralela); permitiendonos obtener muchas m\u00e1s ventajas de los [procesadores multin\u00facleo](http://es.wikipedia.org/wiki/Procesador_multin%C3%BAcleo) modernos.\n",
      "3. El *estilo funcional* se lleva muy bien con los datos; permitiendonos crear algoritmos y programas m\u00e1s expresivos para manejar la enorme cantidad de datos de la [Big Data](http://es.wikipedia.org/wiki/Big_data).(Aplicar el estilo funcional me suele recordar a utilizar las formulas en [Excel](http://relopezbriega.com.ar/excel/))."
     ]
    },
    {
     "cell_type": "markdown",
     "metadata": {},
     "source": [
      "##Programaci\u00f3n Funcional con Python\n",
      "\n",
      "Antes de comenzar con ejemplos les voy a mencionar algunos de los modulos que que nos facilitan la [Programaci\u00f3n Funcional](http://es.wikipedia.org/wiki/Programaci%C3%B3n_funcional) en [Python](http://python.org/), ellos son:"
     ]
    },
    {
     "cell_type": "markdown",
     "metadata": {},
     "source": [
      "* **[Intertools](https://docs.python.org/3/library/itertools.html)**: Este es un modulo que viene ya instalado con la distribuci\u00f3n oficial de [Python](http://python.org/); nos brinda un gran n\u00famero de herramientas para facilitarnos la creaci\u00f3n de [iteradores](http://en.wikipedia.org/wiki/Iterator). \n",
      "\n",
      "\n",
      "* **[Operator](https://docs.python.org/3/library/operator.html)**: Este modulo tambi\u00e9n la vamos a encontrar ya instalado con [Python](http://python.org/), en el vamos a poder encontrar a los principales operadores de [Python](http://python.org/) convertidos en funciones.\n",
      "\n",
      "\n",
      "* **[Functools](https://docs.python.org/3/library/functools.html)**: Tambi\u00e9n ya incluido dentro de [Python](http://python.org/) este modulo nos ayuda a crear *[Funciones de orden superio](http://es.wikipedia.org/wiki/Funci%C3%B3n_de_orden_superior)*, es decir, funciones que actuan sobre o nos devuelven otras funciones.\n",
      "\n",
      "\n",
      "* **[Fn](https://github.com/kachayev/fn.py)**: Este modulo, creado por [Alexey Kachayev](https://github.com/kachayev), brinda a [Python](http://python.org/) las *\"baterias\"* adicionales para hacer el *estilo funcional* de programaci\u00f3n mucho m\u00e1s f\u00e1cil.\n",
      "\n",
      "\n",
      "* **[Cytoolz](https://github.com/pytoolz/cytoolz)**: Modulo creado por [Erik Welch](https://github.com/eriknw) que tambi\u00e9n nos proporciona varias herramientas para la [Programaci\u00f3n Funcional](http://es.wikipedia.org/wiki/Programaci%C3%B3n_funcional), especialmente orientado a operaciones de analisis de datos.\n",
      "\n",
      "\n",
      "* **[Macropy](https://github.com/lihaoyi/macropy)**: Este modulo, creado por [Li Haoyi](https://github.com/lihaoyi) trae a [Python](http://python.org/) caracter\u00edsticas propias de los *lenguajes puramente funcionales*, como ser, *[pattern matching](http://es.wikipedia.org/wiki/B%C3%BAsqueda_de_patrones)*, *[tail call optimization](http://en.wikipedia.org/wiki/Tail_call)*, y *[case classes](http://en.wikipedia.org/wiki/Scala_%28programming_language%29#Case_classes_and_pattern_matching)*."
     ]
    },
    {
     "cell_type": "markdown",
     "metadata": {},
     "source": [
      "##Ejemplos"
     ]
    },
    {
     "cell_type": "markdown",
     "metadata": {},
     "source": [
      "###Utilizando Map, Reduce, Filter y Zip\n",
      "\n",
      "Cuando tenemos que realizar operaciones sobre *listas*, en lugar de utilizar los cl\u00e1sicos *loops*, podemos utilizar las funciones Map, Reduce, Filter y Zip.\n",
      "\n",
      "####Map\n",
      "\n",
      "La funci\u00f3n Map nos permite aplicar una operacion sobre cada uno de los items de una *lista*. El primer argumento es la *funci\u00f3n* que vamos a aplicar y el segundo argumento es la lista."
     ]
    },
    {
     "cell_type": "code",
     "collapsed": false,
     "input": [
      "#creamos una lista de n\u00fameros del 1 al 10\n",
      "items = list(xrange(1, 11))\n",
      "items"
     ],
     "language": "python",
     "metadata": {},
     "outputs": [
      {
       "metadata": {},
       "output_type": "pyout",
       "prompt_number": 1,
       "text": [
        "[1, 2, 3, 4, 5, 6, 7, 8, 9, 10]"
       ]
      }
     ],
     "prompt_number": 1
    },
    {
     "cell_type": "code",
     "collapsed": false,
     "input": [
      "#creamos una lista de los cuadrados de la lista items.\n",
      "#forma imperativa.\n",
      "cuadrados = []\n",
      "for i in items:\n",
      "    cuadrados.append(i ** 2)\n",
      "    \n",
      "cuadrados"
     ],
     "language": "python",
     "metadata": {},
     "outputs": [
      {
       "metadata": {},
       "output_type": "pyout",
       "prompt_number": 2,
       "text": [
        "[1, 4, 9, 16, 25, 36, 49, 64, 81, 100]"
       ]
      }
     ],
     "prompt_number": 2
    },
    {
     "cell_type": "code",
     "collapsed": false,
     "input": [
      "#Cuadrados utilizando Map.\n",
      "#forma funcional\n",
      "cuadrados = map(lambda x: x **2, items)\n",
      "cuadrados"
     ],
     "language": "python",
     "metadata": {},
     "outputs": [
      {
       "metadata": {},
       "output_type": "pyout",
       "prompt_number": 3,
       "text": [
        "[1, 4, 9, 16, 25, 36, 49, 64, 81, 100]"
       ]
      }
     ],
     "prompt_number": 3
    },
    {
     "cell_type": "markdown",
     "metadata": {},
     "source": [
      "Como podemos ver, al utilizar map las lineas de c\u00f3digo se reducen y nuestro programa es mucho m\u00e1s simple de comprender. En el ejemplo le estamos pasando a map una *funcion anonima* o *lambda*. Esta es otra caracter\u00edstica que nos ofrece [Python](http://python.org/) para la [Programaci\u00f3n Funcional](http://es.wikipedia.org/wiki/Programaci%C3%B3n_funcional).\n",
      "Map tambien puede ser utilizado con funciones de m\u00e1s de un argumento y m\u00e1s de una lista, por ejemplo:"
     ]
    },
    {
     "cell_type": "code",
     "collapsed": false,
     "input": [
      "#importamos pow.\n",
      "from math import pow"
     ],
     "language": "python",
     "metadata": {},
     "outputs": [],
     "prompt_number": 4
    },
    {
     "cell_type": "code",
     "collapsed": false,
     "input": [
      "#como vemos la funci\u00f3n pow toma dos argumentos, un n\u00famero y su potencia.\n",
      "pow(2, 3)"
     ],
     "language": "python",
     "metadata": {},
     "outputs": [
      {
       "metadata": {},
       "output_type": "pyout",
       "prompt_number": 5,
       "text": [
        "8.0"
       ]
      }
     ],
     "prompt_number": 5
    },
    {
     "cell_type": "code",
     "collapsed": false,
     "input": [
      "#si tenemos las siguientes listas \n",
      "numeros = [2, 3, 4]\n",
      "potencias = [3, 2, 4]"
     ],
     "language": "python",
     "metadata": {},
     "outputs": [],
     "prompt_number": 6
    },
    {
     "cell_type": "code",
     "collapsed": false,
     "input": [
      "#podemos aplicar map con pow y las dos listas.\n",
      "#nos devolvera una sola lista con las potencias aplicadas sobre los n\u00fameros.\n",
      "potenciados = map(pow, numeros, potencias)\n",
      "potenciados"
     ],
     "language": "python",
     "metadata": {},
     "outputs": [
      {
       "metadata": {},
       "output_type": "pyout",
       "prompt_number": 7,
       "text": [
        "[8.0, 9.0, 256.0]"
       ]
      }
     ],
     "prompt_number": 7
    },
    {
     "cell_type": "markdown",
     "metadata": {},
     "source": [
      "####Reduce\n",
      "\n",
      "La funci\u00f3n Reduce reduce los valores de la *lista* a un solo valor aplicandoles una *funcion reductora*. El primer argumento es la *funci\u00f3n reductora* que vamos a aplicar y el segundo argumento es la lista."
     ]
    },
    {
     "cell_type": "code",
     "collapsed": false,
     "input": [
      "#Sumando los valores de la lista items.\n",
      "#forma imperativa\n",
      "suma = 0\n",
      "for i in items:\n",
      "    suma += i\n",
      "\n",
      "suma"
     ],
     "language": "python",
     "metadata": {},
     "outputs": [
      {
       "metadata": {},
       "output_type": "pyout",
       "prompt_number": 8,
       "text": [
        "55"
       ]
      }
     ],
     "prompt_number": 8
    },
    {
     "cell_type": "code",
     "collapsed": false,
     "input": [
      "#Suma utilizando Reduce.\n",
      "#Forma funcional\n",
      "from functools import reduce #en python3 reduce se encuentra en modulo functools\n",
      "\n",
      "suma = reduce(lambda x, y: x + y, items)\n",
      "suma"
     ],
     "language": "python",
     "metadata": {},
     "outputs": [
      {
       "metadata": {},
       "output_type": "pyout",
       "prompt_number": 9,
       "text": [
        "55"
       ]
      }
     ],
     "prompt_number": 9
    },
    {
     "cell_type": "markdown",
     "metadata": {},
     "source": [
      "La funci\u00f3n Reduce tambi\u00e9n cuenta con un tercer argumento que es el valor inicial o default. Por ejemplo si quisieramos sumarle 10 a la suma de los elementos de la lista items, solo tendr\u00edamos que agregar el tercer argumento."
     ]
    },
    {
     "cell_type": "code",
     "collapsed": false,
     "input": [
      "#10 + suma items\n",
      "suma10 = reduce(lambda x, y: x + y, items, 10)\n",
      "suma10"
     ],
     "language": "python",
     "metadata": {},
     "outputs": [
      {
       "metadata": {},
       "output_type": "pyout",
       "prompt_number": 10,
       "text": [
        "65"
       ]
      }
     ],
     "prompt_number": 10
    },
    {
     "cell_type": "markdown",
     "metadata": {},
     "source": [
      "####Filter\n",
      "\n",
      "La funci\u00f3n Filter nos ofrece una forma muy elegante de filtrar elementos de una lista.El primer argumento es la *funci\u00f3n filtradora* que vamos a aplicar y el segundo argumento es la lista."
     ]
    },
    {
     "cell_type": "code",
     "collapsed": false,
     "input": [
      "#Numeros pares de la lista items.\n",
      "#Forma imperativa.\n",
      "pares = []\n",
      "for i in items:\n",
      "    if i % 2 ==0:\n",
      "        pares.append(i)\n",
      "        \n",
      "pares"
     ],
     "language": "python",
     "metadata": {},
     "outputs": [
      {
       "metadata": {},
       "output_type": "pyout",
       "prompt_number": 11,
       "text": [
        "[2, 4, 6, 8, 10]"
       ]
      }
     ],
     "prompt_number": 11
    },
    {
     "cell_type": "code",
     "collapsed": false,
     "input": [
      "#Pares utilizando Filter\n",
      "#Forma funcional.\n",
      "pares = filter(lambda x: x % 2 == 0, items)\n",
      "pares"
     ],
     "language": "python",
     "metadata": {},
     "outputs": [
      {
       "metadata": {},
       "output_type": "pyout",
       "prompt_number": 12,
       "text": [
        "[2, 4, 6, 8, 10]"
       ]
      }
     ],
     "prompt_number": 12
    },
    {
     "cell_type": "markdown",
     "metadata": {},
     "source": [
      "####Zip\n",
      "\n",
      "Zip es una funci\u00f3n para reorganizar listas. Como par\u00e1metros admite un conjunto de listas. Lo hace es tomar el elemento *i\u00e9simo* de cada lista y unirlos en una *[tupla](http://es.wikipedia.org/wiki/Tupla)*, despu\u00e9s une todas las *[tuplas](http://es.wikipedia.org/wiki/Tupla)* en una sola lista."
     ]
    },
    {
     "cell_type": "code",
     "collapsed": false,
     "input": [
      "#Ejemplo de zip\n",
      "nombres = [\"Raul\", \"Pedro\", \"Sofia\"]\n",
      "apellidos = [\"Lopez Briega\", \"Perez\", \"Gonzalez\"]"
     ],
     "language": "python",
     "metadata": {},
     "outputs": [],
     "prompt_number": 13
    },
    {
     "cell_type": "code",
     "collapsed": false,
     "input": [
      "#zip une cada nombre con su apellido en una lista de tuplas.\n",
      "nombreApellido = zip(nombres, apellidos)\n",
      "nombreApellido"
     ],
     "language": "python",
     "metadata": {},
     "outputs": [
      {
       "metadata": {},
       "output_type": "pyout",
       "prompt_number": 14,
       "text": [
        "[('Raul', 'Lopez Briega'), ('Pedro', 'Perez'), ('Sofia', 'Gonzalez')]"
       ]
      }
     ],
     "prompt_number": 14
    },
    {
     "cell_type": "markdown",
     "metadata": {},
     "source": [
      "###Removiendo Efectos Secundarios\n",
      "\n",
      "Una de las buenas practicas que hace al *estilo funcional* es siempre tratar de evitar los *efectos secundarios*, es decir, evitar que nuestran funciones modifiquen los valores de sus parametros, as\u00ed en lugar de escribir c\u00f3digo como el siguiente: "
     ]
    },
    {
     "cell_type": "code",
     "collapsed": false,
     "input": [
      "#Funcion que no sigue las buenas practias de la programacion funcional.\n",
      "#Esta funcion tiene efectos secundarios, ya que modifica la lista que se le pasa como argumento.\n",
      "def cuadrados(lista):\n",
      "    for i, v in enumerate(lista):\n",
      "        lista[i] = v ** 2\n",
      "    return lista"
     ],
     "language": "python",
     "metadata": {},
     "outputs": [],
     "prompt_number": 15
    },
    {
     "cell_type": "markdown",
     "metadata": {},
     "source": [
      "Deber\u00edamos escribir c\u00f3digo como el siguiente, el cual evita los efectos secundarios:"
     ]
    },
    {
     "cell_type": "code",
     "collapsed": false,
     "input": [
      "#Version funcional de la funcion anterior.\n",
      "def fcuadrados(lista):\n",
      "    return map(lambda x: x ** 2, lista)"
     ],
     "language": "python",
     "metadata": {},
     "outputs": [],
     "prompt_number": 16
    },
    {
     "cell_type": "code",
     "collapsed": false,
     "input": [
      "#Aplicando fcuadrados sobre items.\n",
      "fcuadrados(items)"
     ],
     "language": "python",
     "metadata": {},
     "outputs": [
      {
       "metadata": {},
       "output_type": "pyout",
       "prompt_number": 17,
       "text": [
        "[1, 4, 9, 16, 25, 36, 49, 64, 81, 100]"
       ]
      }
     ],
     "prompt_number": 17
    },
    {
     "cell_type": "code",
     "collapsed": false,
     "input": [
      "#items no se modifico\n",
      "items"
     ],
     "language": "python",
     "metadata": {},
     "outputs": [
      {
       "metadata": {},
       "output_type": "pyout",
       "prompt_number": 18,
       "text": [
        "[1, 2, 3, 4, 5, 6, 7, 8, 9, 10]"
       ]
      }
     ],
     "prompt_number": 18
    },
    {
     "cell_type": "code",
     "collapsed": false,
     "input": [
      "#aplicando cuadrados sobre items\n",
      "cuadrados(items)"
     ],
     "language": "python",
     "metadata": {},
     "outputs": [
      {
       "metadata": {},
       "output_type": "pyout",
       "prompt_number": 19,
       "text": [
        "[1, 4, 9, 16, 25, 36, 49, 64, 81, 100]"
       ]
      }
     ],
     "prompt_number": 19
    },
    {
     "cell_type": "code",
     "collapsed": false,
     "input": [
      "#Esta funci\u00f3n tiene efecto secundario.\n",
      "#items fue modificado por cuadrados.\n",
      "items"
     ],
     "language": "python",
     "metadata": {},
     "outputs": [
      {
       "metadata": {},
       "output_type": "pyout",
       "prompt_number": 20,
       "text": [
        "[1, 4, 9, 16, 25, 36, 49, 64, 81, 100]"
       ]
      }
     ],
     "prompt_number": 20
    },
    {
     "cell_type": "markdown",
     "metadata": {},
     "source": [
      "Al escribir funciones que no tengan efectos secundarios nos vamos a ahorrar muchos dolores de cabeza ocasionados por la modificaci\u00f3n involuntaria de objetos."
     ]
    },
    {
     "cell_type": "markdown",
     "metadata": {},
     "source": [
      "###Utilizando el modulo Fn.py\n",
      "\n",
      "Algunas de las cosas que nos ofrece este modulo son: Estructuras de datos inmutables, lambdas al estilo de [Scala](http://www.scala-lang.org/), *[lazy evaluation](http://es.wikipedia.org/wiki/Evaluaci%C3%B3n_perezosa)* de *[streams](http://en.wikipedia.org/wiki/Stream_processing)*, nuevas *[Funciones de orden superio](http://es.wikipedia.org/wiki/Funci%C3%B3n_de_orden_superior)*, entre otras."
     ]
    },
    {
     "cell_type": "code",
     "collapsed": false,
     "input": [
      "#Lambdas al estilo scala\n",
      "from fn import _\n",
      "\n",
      "(_ + _)(10, 3)"
     ],
     "language": "python",
     "metadata": {},
     "outputs": [
      {
       "metadata": {},
       "output_type": "pyout",
       "prompt_number": 21,
       "text": [
        "13"
       ]
      }
     ],
     "prompt_number": 21
    },
    {
     "cell_type": "code",
     "collapsed": false,
     "input": [
      "items = list(xrange(1,11))"
     ],
     "language": "python",
     "metadata": {},
     "outputs": [],
     "prompt_number": 22
    },
    {
     "cell_type": "code",
     "collapsed": false,
     "input": [
      "cuadrados = map( _ ** 2, items)\n",
      "cuadrados"
     ],
     "language": "python",
     "metadata": {},
     "outputs": [
      {
       "metadata": {},
       "output_type": "pyout",
       "prompt_number": 23,
       "text": [
        "[1, 4, 9, 16, 25, 36, 49, 64, 81, 100]"
       ]
      }
     ],
     "prompt_number": 23
    },
    {
     "cell_type": "code",
     "collapsed": false,
     "input": [
      "#Streams\n",
      "from fn import Stream\n",
      "\n",
      "s = Stream() << [1,2,3,4,5]\n",
      "s"
     ],
     "language": "python",
     "metadata": {},
     "outputs": [
      {
       "metadata": {},
       "output_type": "pyout",
       "prompt_number": 24,
       "text": [
        "<fn.stream.Stream at 0x7f873c1d7a70>"
       ]
      }
     ],
     "prompt_number": 24
    },
    {
     "cell_type": "code",
     "collapsed": false,
     "input": [
      "list(s)"
     ],
     "language": "python",
     "metadata": {},
     "outputs": [
      {
       "metadata": {},
       "output_type": "pyout",
       "prompt_number": 25,
       "text": [
        "[1, 2, 3, 4, 5]"
       ]
      }
     ],
     "prompt_number": 25
    },
    {
     "cell_type": "code",
     "collapsed": false,
     "input": [
      "s[1]"
     ],
     "language": "python",
     "metadata": {},
     "outputs": [
      {
       "metadata": {},
       "output_type": "pyout",
       "prompt_number": 26,
       "text": [
        "2"
       ]
      }
     ],
     "prompt_number": 26
    },
    {
     "cell_type": "code",
     "collapsed": false,
     "input": [
      "s << [6, 7, 8, 9]"
     ],
     "language": "python",
     "metadata": {},
     "outputs": [
      {
       "metadata": {},
       "output_type": "pyout",
       "prompt_number": 27,
       "text": [
        "<fn.stream.Stream at 0x7f873c1d7a70>"
       ]
      }
     ],
     "prompt_number": 27
    },
    {
     "cell_type": "code",
     "collapsed": false,
     "input": [
      "s[6]"
     ],
     "language": "python",
     "metadata": {},
     "outputs": [
      {
       "metadata": {},
       "output_type": "pyout",
       "prompt_number": 28,
       "text": [
        "7"
       ]
      }
     ],
     "prompt_number": 28
    },
    {
     "cell_type": "code",
     "collapsed": false,
     "input": [
      "#Stream fibonacci\n",
      "from fn.iters import take, drop, map as imap\n",
      "from operator import add\n",
      "\n",
      "f = Stream()\n",
      "fib = f << [0, 1] << imap(add, f, drop(1, f))\n",
      "\n",
      "#primeros 10 elementos de fibonacci\n",
      "list(take(10, fib)) "
     ],
     "language": "python",
     "metadata": {},
     "outputs": [
      {
       "metadata": {},
       "output_type": "pyout",
       "prompt_number": 29,
       "text": [
        "[0, 1, 1, 2, 3, 5, 8, 13, 21, 34]"
       ]
      }
     ],
     "prompt_number": 29
    },
    {
     "cell_type": "code",
     "collapsed": false,
     "input": [
      "#elemento 20 de la secuencia fibonacci\n",
      "fib[20] "
     ],
     "language": "python",
     "metadata": {},
     "outputs": [
      {
       "metadata": {},
       "output_type": "pyout",
       "prompt_number": 30,
       "text": [
        "6765"
       ]
      }
     ],
     "prompt_number": 30
    },
    {
     "cell_type": "code",
     "collapsed": false,
     "input": [
      "#elementos 40 al 45 de la secuencia fibonacci\n",
      "list(fib[40:45]) "
     ],
     "language": "python",
     "metadata": {},
     "outputs": [
      {
       "metadata": {},
       "output_type": "pyout",
       "prompt_number": 31,
       "text": [
        "[102334155, 165580141, 267914296, 433494437, 701408733]"
       ]
      }
     ],
     "prompt_number": 31
    },
    {
     "cell_type": "code",
     "collapsed": false,
     "input": [
      "#Funciones de orden superior\n",
      "from fn import F\n",
      "from operator import add, mul #operadores de suma y multiplicacion\n",
      "\n",
      "#composici\u00f3n de funciones\n",
      "F(add, 1)(10)"
     ],
     "language": "python",
     "metadata": {},
     "outputs": [
      {
       "metadata": {},
       "output_type": "pyout",
       "prompt_number": 32,
       "text": [
        "11"
       ]
      }
     ],
     "prompt_number": 32
    },
    {
     "cell_type": "code",
     "collapsed": false,
     "input": [
      "#f es una funcion que llama a otra funcion.\n",
      "f = F(add, 5) << F(mul, 100) #<< operador de composicion de funciones."
     ],
     "language": "python",
     "metadata": {},
     "outputs": [],
     "prompt_number": 33
    },
    {
     "cell_type": "code",
     "collapsed": false,
     "input": [
      "#cada valor de la lista primero se multiplica por 100 y luego\n",
      "#se le suma 5, segun composicion de f de arriba.\n",
      "map(f, [0, 1, 2, 3])"
     ],
     "language": "python",
     "metadata": {},
     "outputs": [
      {
       "metadata": {},
       "output_type": "pyout",
       "prompt_number": 34,
       "text": [
        "[5, 105, 205, 305]"
       ]
      }
     ],
     "prompt_number": 34
    },
    {
     "cell_type": "code",
     "collapsed": false,
     "input": [
      "func = F() >> (filter, _ < 6) >> sum"
     ],
     "language": "python",
     "metadata": {},
     "outputs": [],
     "prompt_number": 35
    },
    {
     "cell_type": "code",
     "collapsed": false,
     "input": [
      "#func primero filtra los valores menores a 6\n",
      "#y luego los suma.\n",
      "func(xrange(10))"
     ],
     "language": "python",
     "metadata": {},
     "outputs": [
      {
       "metadata": {},
       "output_type": "pyout",
       "prompt_number": 36,
       "text": [
        "15"
       ]
      }
     ],
     "prompt_number": 36
    },
    {
     "cell_type": "markdown",
     "metadata": {},
     "source": [
      "###Utilizando el modulo cytoolz\n",
      "\n",
      "Este modulo nos provee varias herramienta para trabajar con funtiones, iterados y diccionarios."
     ]
    },
    {
     "cell_type": "code",
     "collapsed": false,
     "input": [
      "#Datos a utilizar en los ejemplos\n",
      "cuentas = [(1, 'Alice', 100, 'F'),  # id, nombre, balance, sexo\n",
      "           (2, 'Bob', 200, 'M'),\n",
      "           (3, 'Charlie', 150, 'M'),\n",
      "           (4, 'Dennis', 50, 'M'),\n",
      "           (5, 'Edith', 300, 'F')]"
     ],
     "language": "python",
     "metadata": {},
     "outputs": [],
     "prompt_number": 37
    },
    {
     "cell_type": "code",
     "collapsed": false,
     "input": [
      "from cytoolz.curried import pipe, map as cmap, filter as cfilter, get\n",
      "#seleccionando el id y el nombre de los que tienen un balance mayor a 150\n",
      "pipe(cuentas, cfilter(lambda (id, nombre, balance, sexo): balance > 150),\n",
      "     cmap(get([1, 2])),\n",
      "     list)"
     ],
     "language": "python",
     "metadata": {},
     "outputs": [
      {
       "metadata": {},
       "output_type": "pyout",
       "prompt_number": 38,
       "text": [
        "[('Bob', 200), ('Edith', 300)]"
       ]
      }
     ],
     "prompt_number": 38
    },
    {
     "cell_type": "code",
     "collapsed": false,
     "input": [
      "#este mismo resultado tambien lo podemos lograr con las listas por comprensi\u00f3n.\n",
      "#mas pythonico.\n",
      "[(nombre, balance) for (id, nombre, balance, sexo) in cuentas \n",
      " if balance > 150]"
     ],
     "language": "python",
     "metadata": {},
     "outputs": [
      {
       "metadata": {},
       "output_type": "pyout",
       "prompt_number": 39,
       "text": [
        "[('Bob', 200), ('Edith', 300)]"
       ]
      }
     ],
     "prompt_number": 39
    },
    {
     "cell_type": "code",
     "collapsed": false,
     "input": [
      "from cytoolz import groupby\n",
      "\n",
      "#agrupando por sexo \n",
      "groupby(get(3), cuentas)"
     ],
     "language": "python",
     "metadata": {},
     "outputs": [
      {
       "metadata": {},
       "output_type": "pyout",
       "prompt_number": 40,
       "text": [
        "{'F': [(1, 'Alice', 100, 'F'), (5, 'Edith', 300, 'F')],\n",
        " 'M': [(2, 'Bob', 200, 'M'), (3, 'Charlie', 150, 'M'), (4, 'Dennis', 50, 'M')]}"
       ]
      }
     ],
     "prompt_number": 40
    },
    {
     "cell_type": "code",
     "collapsed": false,
     "input": [
      "#utilizando reduceby\n",
      "from cytoolz import reduceby\n",
      "\n",
      "def iseven(n):\n",
      "    return n % 2 == 0\n",
      "\n",
      "def add(x, y):\n",
      "    return x + y\n",
      "\n",
      "reduceby(iseven, add, [1, 2, 3, 4])"
     ],
     "language": "python",
     "metadata": {},
     "outputs": [
      {
       "metadata": {},
       "output_type": "pyout",
       "prompt_number": 41,
       "text": [
        "{False: 4, True: 6}"
       ]
      }
     ],
     "prompt_number": 41
    },
    {
     "cell_type": "markdown",
     "metadata": {},
     "source": [
      "###Ordenando objectos con operator itemgetter, attrgetter y methodcaller\n",
      "\n",
      "Existen tres funciones dignas de menci\u00f3n en el modulo operator, las cuales nos permiten ordenar todo tipo de objetos en forma muy sencilla, ellas son itemgetter, attrgetter y methodcaller."
     ]
    },
    {
     "cell_type": "code",
     "collapsed": false,
     "input": [
      "#Datos para los ejemplos\n",
      "estudiantes_tupla = [\n",
      "    ('john', 'A', 15),\n",
      "    ('jane', 'B', 12),\n",
      "    ('dave', 'B', 10),\n",
      "]\n",
      "\n",
      "class Estudiante:\n",
      "    def __init__(self, nombre, nota, edad):\n",
      "        self.nombre = nombre\n",
      "        self.nota = nota\n",
      "        self.edad = edad\n",
      "    def __repr__(self):\n",
      "        return repr((self.nombre, self.nota, self.edad))\n",
      "    def nota_ponderada(self):\n",
      "        return 'CBA'.index(self.nota) / float(self.edad)\n",
      "    \n",
      "estudiantes_objeto = [\n",
      "    Estudiante('john', 'A', 15),\n",
      "    Estudiante('jane', 'B', 12),\n",
      "    Estudiante('dave', 'B', 10),\n",
      "]"
     ],
     "language": "python",
     "metadata": {},
     "outputs": [],
     "prompt_number": 42
    },
    {
     "cell_type": "code",
     "collapsed": false,
     "input": [
      "from operator import itemgetter, attrgetter, methodcaller\n",
      "\n",
      "#ordenar por edad tupla\n",
      "sorted(estudiantes_tupla, key=itemgetter(2))"
     ],
     "language": "python",
     "metadata": {},
     "outputs": [
      {
       "metadata": {},
       "output_type": "pyout",
       "prompt_number": 43,
       "text": [
        "[('dave', 'B', 10), ('jane', 'B', 12), ('john', 'A', 15)]"
       ]
      }
     ],
     "prompt_number": 43
    },
    {
     "cell_type": "code",
     "collapsed": false,
     "input": [
      "#ordenar por edad objetos\n",
      "sorted(estudiantes_objeto, key=attrgetter('edad'))"
     ],
     "language": "python",
     "metadata": {},
     "outputs": [
      {
       "metadata": {},
       "output_type": "pyout",
       "prompt_number": 44,
       "text": [
        "[('dave', 'B', 10), ('jane', 'B', 12), ('john', 'A', 15)]"
       ]
      }
     ],
     "prompt_number": 44
    },
    {
     "cell_type": "code",
     "collapsed": false,
     "input": [
      "#ordenar por nota y edad tupla\n",
      "sorted(estudiantes_tupla, key=itemgetter(1,2))"
     ],
     "language": "python",
     "metadata": {},
     "outputs": [
      {
       "metadata": {},
       "output_type": "pyout",
       "prompt_number": 45,
       "text": [
        "[('john', 'A', 15), ('dave', 'B', 10), ('jane', 'B', 12)]"
       ]
      }
     ],
     "prompt_number": 45
    },
    {
     "cell_type": "code",
     "collapsed": false,
     "input": [
      "#ordenar por nota y edad objetos\n",
      "sorted(estudiantes_objeto, key=attrgetter('nota', 'edad'))"
     ],
     "language": "python",
     "metadata": {},
     "outputs": [
      {
       "metadata": {},
       "output_type": "pyout",
       "prompt_number": 46,
       "text": [
        "[('john', 'A', 15), ('dave', 'B', 10), ('jane', 'B', 12)]"
       ]
      }
     ],
     "prompt_number": 46
    },
    {
     "cell_type": "code",
     "collapsed": false,
     "input": [
      "#ordenando por el resultado del metodo nota_ponderada\n",
      "sorted(estudiantes_objeto, key=methodcaller('nota_ponderada'))"
     ],
     "language": "python",
     "metadata": {},
     "outputs": [
      {
       "metadata": {},
       "output_type": "pyout",
       "prompt_number": 47,
       "text": [
        "[('jane', 'B', 12), ('dave', 'B', 10), ('john', 'A', 15)]"
       ]
      }
     ],
     "prompt_number": 47
    },
    {
     "cell_type": "markdown",
     "metadata": {},
     "source": [
      "\n",
      "Hasta aqu\u00ed llega esta introducci\u00f3n. Tengan en cuenta que [Python](http://python.org/) no es un lenguaje puramente funcional, por lo que algunas soluciones pueden verse m\u00e1s como un *hack* y no ser del todo *pythonicas*. El concepto m\u00e1s importante es el de evitar los ***efectos secundarios*** en nuestras funciones. Debemos mantener un equilibrio entre los diferentes *paradigmas* y utilizar las opciones que nos ofrece [Python](http://python.org/) que haga m\u00e1s legible nuestro c\u00f3digo. Para m\u00e1s informaci\u00f3n sobre la [Programaci\u00f3n Funcional](http://es.wikipedia.org/wiki/Programaci%C3%B3n_funcional) en [Python](http://python.org/) tambi\u00e9n puede visitar el siguiente [documento](https://docs.python.org/2/howto/functional.html#introduction) y darse una vuelta por la ducumentaci\u00f3n de los modulos mencionados m\u00e1s arriba. Por \u00faltimo, los que quieran incursionar con un lenguaje puramente funcional, les recomiendo [Haskell](https://wiki.haskell.org/Haskell)."
     ]
    },
    {
     "cell_type": "markdown",
     "metadata": {},
     "source": [
      "Saludos!\n",
      "\n",
      "*Este post fue escrito utilizando IPython notebook. Pueden descargar este [notebook](https://github.com/relopezbriega/relopezbriega.github.io/blob/master/downloads/FunctProgramPython.ipynb) o ver su version est\u00e1tica en [nbviewer](http://nbviewer.ipython.org/github/relopezbriega/relopezbriega.github.io/blob/master/downloads/FunctProgramPython.ipynb).*"
     ]
    }
   ],
   "metadata": {}
  }
 ]
}