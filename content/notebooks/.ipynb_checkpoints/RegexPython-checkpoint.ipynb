{
 "cells": [
  {
   "cell_type": "markdown",
   "metadata": {},
   "source": [
    "#Expresiones Regulares con Python"
   ]
  },
  {
   "cell_type": "markdown",
   "metadata": {},
   "source": [
    "*Esta notebook fue creada originalmente como un blog post por [Raúl E. López Briega](http://relopezbriega.com.ar/) en [Mi blog sobre Python](http://relopezbriega.github.io). El contenido esta bajo la licencia BSD.*"
   ]
  },
  {
   "cell_type": "markdown",
   "metadata": {},
   "source": [
    "<img alt=\"Expresiones regulares\" title=\"Expresiones regulares\" src=\"http://relopezbriega.github.io/images/regex.png\" width=\"700\">"
   ]
  },
  {
   "cell_type": "markdown",
   "metadata": {},
   "source": [
    "##Introducción\n",
    "\n",
    "Uno de los problemas más comunes con que nos solemos encontrar al desarrollar cualquier programa infórmatico, es el de procesamiento de texto. Esta tarea puede resultar bastante trivial para el cerebro humano, ya que nosotros podemos detectar con facilidad que es un número y que una letra, o cuales son palabras que cumplen con un determinado patrón y cuales no; pero estas mismas tareas no son tan fáciles para una computadora. Es por esto, que el procesamiento de texto siempre ha sido uno de los temas más relevantes en las [ciencias de la computación](https://es.wikipedia.org/wiki/Ciencias_de_la_computaci%C3%B3n). Luego de varias décadas de investigación se logró desarrollar un poderoso y versátil lenguaje que cualquier computadora puede utilizar para reconocer patrones de texto; este lenguale es lo que hoy en día se conoce con el nombre de [expresiones regulares](https://es.wikipedia.org/wiki/Expresi%C3%B3n_regular); las operaciones de validación, búsqueda, extracción y sustitución de texto ahora son tareas mucho más sencillas para las computadoras gracias a las [expresiones regulares](https://es.wikipedia.org/wiki/Expresi%C3%B3n_regular).\n",
    "\n",
    "##¿Qué son las Expresiones Regulares?\n",
    "\n",
    "Las [expresiones regulares](https://es.wikipedia.org/wiki/Expresi%C3%B3n_regular), a menudo llamada también **regex**, son unas secuencias de caracteres que forma un patrón de búsqueda, las cuales son formalizadas por medio de una sintaxis espécifica. Los patrones se interpretan como un conjunto de instrucciones, que luego se ejecutan sobre un texto de entrada para producir un subconjunto o una versión modificada del texto original. Las [expresiones regulares](https://es.wikipedia.org/wiki/Expresi%C3%B3n_regular) pueden incluir patrones de coincidencia literal, de repetición, de composición, de ramificación, y otras sofisticadas reglas de reconocimiento de texto . Las [expresiones regulares](https://es.wikipedia.org/wiki/Expresi%C3%B3n_regular) deberían formar parte del arsenal de cualquier buen programador ya que un gran número de problemas de procesamiento de texto pueden ser facilmente resueltos con ellas.\n",
    "\n",
    "##Componentes de las Expresiones Regulares\n",
    "\n",
    "Las [expresiones regulares](https://es.wikipedia.org/wiki/Expresi%C3%B3n_regular) son un mini lenguaje en sí mismo, por lo que para poder utilizarlas eficientemente primero debemos entender los componentes de su sintaxsis; ellos son:\n",
    "\n",
    "* **Literales**: Cualquier caracter se encuentra a sí mismo, a menos que se trate de un ***metacaracter*** con significado especial. Una serie de caracteres encuentra esa misma serie en el texto de entrada, por lo tanto la plantilla \"raul\" encontrará todas las aparciones de \"raul\" en el texto que procesamos.\n",
    "\n",
    "* **Secuencias de escape**: La sintaxis de las [expresiones regulares](https://es.wikipedia.org/wiki/Expresi%C3%B3n_regular) nos permite utilizar las *[secuencias de escape](https://msdn.microsoft.com/es-es/library/h21280bw.aspx)* que ya conocemos de otros lenguajes de programación para esos casos especiales como ser finales de linea, tabs, barras diagonales, etc. Las principales *[secuencias de escape](https://msdn.microsoft.com/es-es/library/h21280bw.aspx)* que podemos encontrar, son:\n",
    "\n",
    "Secuencia de escape | Significado\n",
    "---|---\n",
    "\\n | Nueva línea (new line). El cursor pasa a la primera posición de la línea siguiente.\n",
    "\\t | Tabulador. El cursor pasa a la siguiente posición de tabulación. \n",
    "\\\\\\ | Barra diagonal inversa\n",
    "\\v | Tabulación vertical.\n",
    "\\ooo | Carácter ASCII en notación octal.\n",
    "\\xhh | Carácter ASCII en notación hexadecimal.\n",
    "\\xhhhh | Carácter Unicode en notación hexadecimal. \n",
    "\n",
    "* **Clases de caracteres**: Se pueden especificar clases de caracteres encerrando una lista de caracteres entre corchetes [], la que que encontrará uno cualquiera de los caracteres de la lista. Si el primer símbolo después del \"[\" es \"^\", la clase encuentra cualquier caracter que no está en la lista.\n",
    "\n",
    "* **Metacaracteres**: Los metacaracteres son caracteres especiales que son la esencia de las [expresiones regulares](https://es.wikipedia.org/wiki/Expresi%C3%B3n_regular). Como son sumamente importantes para entender la sintaxis de las [expresiones regulares](https://es.wikipedia.org/wiki/Expresi%C3%B3n_regular) y existen diferentes tipos, voy a dedicar una seccion a explicarlos un poco más en detalle."
   ]
  },
  {
   "cell_type": "markdown",
   "metadata": {},
   "source": [
    "##Metacaracteres\n",
    "\n",
    "###Metacaracteres - delimitadores\n",
    "\n",
    "Esta clase de metacaracteres nos permite delimitar dónde queremos buscar los patrones de búsqueda. Ellos son:\n",
    "\n",
    "Metacaracter | Descripcion\n",
    "---|---\n",
    "^ | inicio de línea. \n",
    "$ | fin de línea. \n",
    "\\A | inicio de texto. \n",
    "\\Z | fin de texto. \n",
    ". | cualquier caracter en la línea. \n",
    "\\b | encuentra límite de palabra. \n",
    "\\B | encuentra distinto a límite de palabra.\n",
    "\n",
    "\n",
    "###Metacaracteres - clases predefinidas\n",
    "\n",
    "Estas son clases predefinidas que nos facilitan la utilización de las [expresiones regulares](https://es.wikipedia.org/wiki/Expresi%C3%B3n_regular). Ellos son:\n",
    "\n",
    "Metacaracter | Descripcion\n",
    "---|---\n",
    "\\w |    un caracter alfanumérico (incluye \"_\"). \n",
    "\\W |    un caracter no alfanumérico. \n",
    "\\d |    un caracter numérico. \n",
    "\\D |    un caracter no numérico. \n",
    "\\s |    cualquier espacio (lo mismo que [ \\t\\n\\r\\f]).\n",
    "\\S |    un no espacio.\n",
    "\n",
    "###Metacaracteres - iteradores \n",
    "\n",
    "Cualquier elemento de una [expresion regular](https://es.wikipedia.org/wiki/Expresi%C3%B3n_regular) puede ser seguido por otro tipo de metacaracteres, los *iteradores*. Usando estos metacaracteres se puede especificar el número de ocurrencias del caracter previo, de un metacaracter o de una subexpresion. Ellos son:\n",
    "\n",
    "Metacaracter | Descripcion\n",
    "---|---\n",
    "*  |    cero o más, similar a {0,}. \n",
    "+  |    una o más, similar a {1,}. \n",
    "?   |   cero o una, similar a {0,1}.\n",
    "{n}  |  exactamente n veces. \n",
    "{n,}  | por lo menos n veces. \n",
    "{n,m} | por lo menos n pero no más de m veces.\n",
    "*?  |   cero o más, similar a {0,}?. \n",
    "+?   |  una o más, similar a {1,}?.\n",
    "??    | cero o una, similar a {0,1}?. \n",
    "{n}? |  exactamente n veces.\n",
    "{n,}?  |por lo menos n veces. \n",
    "{n,m}? |por lo menos n pero no más de m veces.\n",
    "\n",
    "En estos metacaracteres, los dígitos entre llaves de la forma {n,m}, especifican el mínimo número de ocurrencias en n y el máximo en m. \n",
    "\n",
    "###Metacaracteres - alternativas \n",
    "\n",
    "Se puede especificar una serie de alternativas para una plantilla usando \"|\" para separarlas, entonces do|re|mi encontrará cualquier \"do\", \"re\", o \"mi\" en el texto de entrada.Las alternativas son evaluadas de izquierda a derecha, por lo tanto la primera alternativa que coincide plenamente con la expresión analizada es la que se selecciona. Por ejemplo: si se buscan foo|foot en \"barefoot'', sólo la parte \"foo\" da resultado positivo, porque es la primera alternativa probada, y porque tiene éxito en la búsqueda de la cadena analizada. \n",
    "\n",
    "**Ejemplo**: \n",
    "\n",
    "foo(bar|foo) --> encuentra las cadenas 'foobar' o 'foofoo'. \n",
    "\n",
    "\n",
    "###Metacaracteres - subexpresiones \n",
    "\n",
    "La construcción ( ... ) también puede ser empleada para definir subexpresiones de [expresiones regulares](https://es.wikipedia.org/wiki/Expresi%C3%B3n_regular). \n",
    "\n",
    "**Ejemplos**: \n",
    "\n",
    "(foobar){10} --> encuentra cadenas que contienen 8, 9 o 10 instancias de 'foobar' \n",
    "\n",
    "foob([0-9]|a+)r --> encuentra 'foob0r', 'foob1r' , 'foobar', 'foobaar', 'foobaar' etc. \n",
    "\n",
    "\n",
    "###Metacaracteres - memorias (backreferences) \n",
    "\n",
    "Los metacaracteres \\1 a \\9 son interpretados como memorias. \\<n> encuentra la subexpresión previamente encontrada #<n>. \n",
    "\n",
    "**Ejemplos**: \n",
    "\n",
    "(.)\\1+  --> encuentra 'aaaa' y 'cc'. \n",
    "\n",
    "(.+)\\1+  --> también encuentra 'abab' y '123123'\n",
    "\n",
    "(['\"]?)(\\d+)\\1 --> encuentra '\"13\" (entre comillas dobles), o '4' (entre comillas simples) o 77 (sin comillas) etc. \n"
   ]
  },
  {
   "cell_type": "markdown",
   "metadata": {},
   "source": [
    "##Expresiones Regulares con Python\n",
    "\n",
    "Luego de esta introducción, llegó el tiempo de empezar a jugar con las [expresiones regulares](https://es.wikipedia.org/wiki/Expresi%C3%B3n_regular) y [Python](https://www.python.org/).\n",
    "\n",
    "Como no podría ser de otra forma tratandose de [Python](https://www.python.org/) y su filosofía de *todas las baterías incluídas*; en la librería estandar de [Python](https://www.python.org/) podemos encontrar el módulo [re](https://docs.python.org/3/library/re.html), el cual nos proporciona todas las operaciones necesarias para trabajar con las [expresiones regulares](https://es.wikipedia.org/wiki/Expresi%C3%B3n_regular). \n",
    "\n",
    "Por lo tanto, en primer lugar lo que debemos hacer es importar el modulo [re](https://docs.python.org/3/library/re.html)."
   ]
  },
  {
   "cell_type": "code",
   "execution_count": 1,
   "metadata": {
    "collapsed": true
   },
   "outputs": [],
   "source": [
    "# importando el modulo de regex de python\n",
    "import re  "
   ]
  },
  {
   "cell_type": "markdown",
   "metadata": {
    "collapsed": true
   },
   "source": [
    "### Buscando coincidencias\n",
    "\n",
    "Una vez que hemos importado el módulo, podemos empezar a tratar de buscar coincidentcias con un determinado patrón de búsqueda. Para hacer esto, primero debemos [compilar](https://es.wikipedia.org/wiki/Compilador) nuestra [expresion regular](https://es.wikipedia.org/wiki/Expresi%C3%B3n_regular) en un *objeto de patrones de [Python](https://www.python.org/)*, el cúal posee métodos para diversas operaciones, tales como la búsqueda de coincidencias de patrones o realizar sustituciones de texto."
   ]
  },
  {
   "cell_type": "code",
   "execution_count": 2,
   "metadata": {
    "collapsed": true
   },
   "outputs": [],
   "source": [
    "# compilando la regex\n",
    "patron = re.compile(r'\\bfoo\\b')  # busca la palabra foo"
   ]
  },
  {
   "cell_type": "markdown",
   "metadata": {
    "collapsed": true
   },
   "source": [
    "Ahora que ya tenemos el *objeto de expresion regular* compilado podemos utilizar alguno de los siguientes métodos para buscar coincidencias con nuestro texto.\n",
    "\n",
    "* **match()**: El cual determinda si la regex tiene coincidencias en el comienzo del texto.\n",
    "* **search()**: El cual escanea todo el texto buscando cualquier ubicación donde haya una coincidencia.\n",
    "* **findall()**: El cual encuentra todos los subtextos donde haya una coincidencia y nos devuelve estas coincidencias como una lista.\n",
    "* **finditer()**: El cual es similar al anterior pero en lugar de devolvernos una lista nos devuelve un <a href=\"https://es.wikipedia.org/wiki/Iterador_(patr%C3%B3n_de_dise%C3%B1o)\">iterador</a>.\n",
    "\n",
    "Veamoslos en accion."
   ]
  },
  {
   "cell_type": "code",
   "execution_count": 3,
   "metadata": {
    "collapsed": false
   },
   "outputs": [],
   "source": [
    "# texto de entrada\n",
    "texto = \"\"\" bar foo bar\n",
    "foo barbarfoo\n",
    "foofoo foo bar\n",
    "\"\"\""
   ]
  },
  {
   "cell_type": "code",
   "execution_count": 4,
   "metadata": {
    "collapsed": false
   },
   "outputs": [
    {
     "name": "stdout",
     "output_type": "stream",
     "text": [
      "None\n"
     ]
    }
   ],
   "source": [
    "# match nos devuelve None porque no hubo coincidencia al comienzo del texto\n",
    "print(patron.match(texto))"
   ]
  },
  {
   "cell_type": "code",
   "execution_count": 5,
   "metadata": {
    "collapsed": false
   },
   "outputs": [
    {
     "data": {
      "text/plain": [
       "<_sre.SRE_Match object; span=(0, 3), match='foo'>"
      ]
     },
     "execution_count": 5,
     "metadata": {},
     "output_type": "execute_result"
    }
   ],
   "source": [
    "# match encuentra una coindencia en el comienzo del texto\n",
    "m = patron.match('foo bar')\n",
    "m"
   ]
  },
  {
   "cell_type": "code",
   "execution_count": 6,
   "metadata": {
    "collapsed": false
   },
   "outputs": [
    {
     "data": {
      "text/plain": [
       "<_sre.SRE_Match object; span=(5, 8), match='foo'>"
      ]
     },
     "execution_count": 6,
     "metadata": {},
     "output_type": "execute_result"
    }
   ],
   "source": [
    "# search nos devuelve la coincidencia en cualquier ubicacion.\n",
    "s = patron.search(texto)\n",
    "s"
   ]
  },
  {
   "cell_type": "code",
   "execution_count": 7,
   "metadata": {
    "collapsed": false
   },
   "outputs": [
    {
     "data": {
      "text/plain": [
       "['foo', 'foo', 'foo']"
      ]
     },
     "execution_count": 7,
     "metadata": {},
     "output_type": "execute_result"
    }
   ],
   "source": [
    "# findall nos devuelve una lista con todas las coincidencias\n",
    "fa = patron.findall(texto)\n",
    "fa"
   ]
  },
  {
   "cell_type": "code",
   "execution_count": 8,
   "metadata": {
    "collapsed": false
   },
   "outputs": [
    {
     "data": {
      "text/plain": [
       "<callable_iterator at 0x7f413db74240>"
      ]
     },
     "execution_count": 8,
     "metadata": {},
     "output_type": "execute_result"
    }
   ],
   "source": [
    "# finditer nos devuelve un iterador\n",
    "fi = patron.finditer(texto)\n",
    "fi"
   ]
  },
  {
   "cell_type": "code",
   "execution_count": 9,
   "metadata": {
    "collapsed": false
   },
   "outputs": [
    {
     "data": {
      "text/plain": [
       "<_sre.SRE_Match object; span=(5, 8), match='foo'>"
      ]
     },
     "execution_count": 9,
     "metadata": {},
     "output_type": "execute_result"
    }
   ],
   "source": [
    "# iterando por las distintas coincidencias\n",
    "next(fi)"
   ]
  },
  {
   "cell_type": "code",
   "execution_count": 10,
   "metadata": {
    "collapsed": false
   },
   "outputs": [
    {
     "data": {
      "text/plain": [
       "<_sre.SRE_Match object; span=(13, 16), match='foo'>"
      ]
     },
     "execution_count": 10,
     "metadata": {},
     "output_type": "execute_result"
    }
   ],
   "source": [
    "next(fi)"
   ]
  },
  {
   "cell_type": "markdown",
   "metadata": {
    "collapsed": true
   },
   "source": [
    "Como podemos ver en estos ejemplos, cuando hay coincidencias, [Python](https://www.python.org/) nos devuelve un *Objeto de coincidencia* (salvo por el método `findall()` que devuelve una lista). Este *Objeto de coincidencia* tambien tiene sus propios métodos que nos proporcionan información adicional sobre la coincidencia; éstos métodos son:\n",
    "\n",
    "* **group()**: El cual devuelve el texto que coincide con la [expresion regular](https://es.wikipedia.org/wiki/Expresi%C3%B3n_regular).\n",
    "* **start()**: El cual devuelve la posición inicial de la coincidencia.\t\n",
    "* **end()**: El cual devuelve la posición final de la coincidencia.\n",
    "* **span()**: El cual devuelve una tupla con la posicion inicial y final de la coincidencia."
   ]
  },
  {
   "cell_type": "code",
   "execution_count": 11,
   "metadata": {
    "collapsed": false
   },
   "outputs": [
    {
     "data": {
      "text/plain": [
       "('foo', 0, 3, (0, 3))"
      ]
     },
     "execution_count": 11,
     "metadata": {},
     "output_type": "execute_result"
    }
   ],
   "source": [
    "# Métodos del objeto de coincidencia\n",
    "m.group(), m.start(), m.end(), m.span()"
   ]
  },
  {
   "cell_type": "code",
   "execution_count": 12,
   "metadata": {
    "collapsed": false
   },
   "outputs": [
    {
     "data": {
      "text/plain": [
       "('foo', 5, 8, (5, 8))"
      ]
     },
     "execution_count": 12,
     "metadata": {},
     "output_type": "execute_result"
    }
   ],
   "source": [
    "s.group(), s.start(), s.end(), s.span()"
   ]
  },
  {
   "cell_type": "markdown",
   "metadata": {},
   "source": [
    "###Modificando el texto de entrada\n",
    "\n",
    "Ademas de buscar coicidencias de nuestro patrón de búsqueda en un texto, podemos utilizar ese mismo patron para realizar modificaciones al texto de entrada. Para estos casos podemos utlizar los siguientes métodos:\n",
    "\n",
    "* **split()**:\tEl cual divide el texto en una lista, realizando las divisiones del texto en cada lugar donde se cumple con la [expresion regular](https://es.wikipedia.org/wiki/Expresi%C3%B3n_regular).\n",
    "* **sub()**: El cual encuentra todos los subtextos donde existe una coincidencia con la [expresion regular](https://es.wikipedia.org/wiki/Expresi%C3%B3n_regular) y luego los reemplaza con un nuevo texto.\n",
    "* **subn()**: El cual es similar al anterior pero ademas de devolver el nuevo texto, también devuelve el numero de reemplazos que realizó.\n",
    "\n",
    "Veamoslos en acción."
   ]
  },
  {
   "cell_type": "code",
   "execution_count": 13,
   "metadata": {
    "collapsed": true
   },
   "outputs": [],
   "source": [
    "# texto de entrada\n",
    "becquer = \"\"\"Podrá nublarse el sol eternamente; \n",
    "Podrá secarse en un instante el mar; \n",
    "Podrá romperse el eje de la tierra \n",
    "como un débil cristal. \n",
    "¡todo sucederá! Podrá la muerte \n",
    "cubrirme con su fúnebre crespón; \n",
    "Pero jamás en mí podrá apagarse \n",
    "la llama de tu amor.\"\"\""
   ]
  },
  {
   "cell_type": "code",
   "execution_count": 14,
   "metadata": {
    "collapsed": true
   },
   "outputs": [],
   "source": [
    "# patron para dividir donde no encuentre un caracter alfanumerico\n",
    "patron = re.compile(r'\\W+')"
   ]
  },
  {
   "cell_type": "code",
   "execution_count": 15,
   "metadata": {
    "collapsed": false
   },
   "outputs": [
    {
     "data": {
      "text/plain": [
       "['Podrá',\n",
       " 'nublarse',\n",
       " 'el',\n",
       " 'sol',\n",
       " 'eternamente',\n",
       " 'Podrá',\n",
       " 'secarse',\n",
       " 'en',\n",
       " 'un',\n",
       " 'instante']"
      ]
     },
     "execution_count": 15,
     "metadata": {},
     "output_type": "execute_result"
    }
   ],
   "source": [
    "palabras = patron.split(becquer)\n",
    "palabras[:10]  # 10 primeras palabras"
   ]
  },
  {
   "cell_type": "code",
   "execution_count": 16,
   "metadata": {
    "collapsed": false
   },
   "outputs": [
    {
     "data": {
      "text/plain": [
       "['Podrá nublarse el sol eternamente; ',\n",
       " 'Podrá secarse en un instante el mar; ',\n",
       " 'Podrá romperse el eje de la tierra ',\n",
       " 'como un débil cristal. ',\n",
       " '¡todo sucederá! Podrá la muerte ',\n",
       " 'cubrirme con su fúnebre crespón; ',\n",
       " 'Pero jamás en mí podrá apagarse ',\n",
       " 'la llama de tu amor.']"
      ]
     },
     "execution_count": 16,
     "metadata": {},
     "output_type": "execute_result"
    }
   ],
   "source": [
    "# Utilizando la version no compilada de split.\n",
    "re.split(r'\\n', becquer)  # Dividiendo por linea."
   ]
  },
  {
   "cell_type": "code",
   "execution_count": 17,
   "metadata": {
    "collapsed": false
   },
   "outputs": [
    {
     "data": {
      "text/plain": [
       "['Podrá',\n",
       " 'nublarse',\n",
       " 'el',\n",
       " 'sol',\n",
       " 'eternamente',\n",
       " 'Podrá secarse en un instante el mar; \\nPodrá romperse el eje de la tierra \\ncomo un débil cristal. \\n¡todo sucederá! Podrá la muerte \\ncubrirme con su fúnebre crespón; \\nPero jamás en mí podrá apagarse \\nla llama de tu amor.']"
      ]
     },
     "execution_count": 17,
     "metadata": {},
     "output_type": "execute_result"
    }
   ],
   "source": [
    "# Utilizando el tope de divisiones\n",
    "patron.split(becquer, 5)"
   ]
  },
  {
   "cell_type": "code",
   "execution_count": 18,
   "metadata": {
    "collapsed": false
   },
   "outputs": [
    {
     "name": "stdout",
     "output_type": "stream",
     "text": [
      "Puede nublarse el sol eternamente; \n",
      "Puede secarse en un instante el mar; \n",
      "Puede romperse el eje de la tierra \n",
      "como un débil cristal. \n",
      "¡todo sucederá! Puede la muerte \n",
      "cubrirme con su fúnebre crespón; \n",
      "Pero jamás en mí Puede apagarse \n",
      "la llama de tu amor.\n"
     ]
    }
   ],
   "source": [
    "# Cambiando \"Podrá\" o \"podra\" por \"Puede\"\n",
    "podra = re.compile(r'\\b(P|p)odrá\\b')\n",
    "puede = podra.sub(\"Puede\", becquer)\n",
    "print(puede)"
   ]
  },
  {
   "cell_type": "code",
   "execution_count": 19,
   "metadata": {
    "collapsed": false
   },
   "outputs": [
    {
     "name": "stdout",
     "output_type": "stream",
     "text": [
      "Puede nublarse el sol eternamente; \n",
      "Puede secarse en un instante el mar; \n",
      "Podrá romperse el eje de la tierra \n",
      "como un débil cristal. \n",
      "¡todo sucederá! Podrá la muerte \n",
      "cubrirme con su fúnebre crespón; \n",
      "Pero jamás en mí podrá apagarse \n",
      "la llama de tu amor.\n"
     ]
    }
   ],
   "source": [
    "# Limitando el número de reemplazos\n",
    "puede = podra.sub(\"Puede\", becquer, 2)\n",
    "print(puede)"
   ]
  },
  {
   "cell_type": "code",
   "execution_count": 20,
   "metadata": {
    "collapsed": false
   },
   "outputs": [
    {
     "data": {
      "text/plain": [
       "('Puede nublarse el sol eternamente; \\nPuede secarse en un instante el mar; \\nPuede romperse el eje de la tierra \\ncomo un débil cristal. \\n¡todo sucederá! Puede la muerte \\ncubrirme con su fúnebre crespón; \\nPero jamás en mí Puede apagarse \\nla llama de tu amor.',\n",
       " 5)"
      ]
     },
     "execution_count": 20,
     "metadata": {},
     "output_type": "execute_result"
    }
   ],
   "source": [
    "# Utilizando la version no compilada de subn\n",
    "re.subn(r'\\b(P|p)odrá\\b', \"Puede\", becquer)  # se realizaron 5 reemplazos"
   ]
  },
  {
   "cell_type": "markdown",
   "metadata": {},
   "source": [
    "###Funciones no compiladas\n",
    "\n",
    "En estos últimos ejemplos, pudimos ver casos donde utilizamos las funciones al nivel del módulo `split()` y `subn()`. Para cada uno de los ejemplos que vimos (match, search, findall, finditer, split, sub y subn) existe una versión al nivel del módulo que se puede utilizar sin necesidad de compilar primero el patron de búsqueda; simplemente le pasamos como primer argumento la [expresion regular](https://es.wikipedia.org/wiki/Expresi%C3%B3n_regular) y el resultado será el mismo. La ventaja que tiene la versión compila sobre las funciones no compiladas es que si vamos a utilizar la [expresion regular](https://es.wikipedia.org/wiki/Expresi%C3%B3n_regular) dentro de un *bucle* nos vamos a ahorrar varias llamadas de funciones y por lo tanto mejorar la performance de nuestro programa."
   ]
  },
  {
   "cell_type": "code",
   "execution_count": 21,
   "metadata": {
    "collapsed": false
   },
   "outputs": [
    {
     "data": {
      "text/plain": [
       "['foo', 'foo', 'foo']"
      ]
     },
     "execution_count": 21,
     "metadata": {},
     "output_type": "execute_result"
    }
   ],
   "source": [
    "# Ejemplo de findall con la funcion a nivel del modulo\n",
    "# findall nos devuelve una lista con todas las coincidencias\n",
    "re.findall(r'\\bfoo\\b', texto)"
   ]
  },
  {
   "cell_type": "markdown",
   "metadata": {},
   "source": [
    "###Banderas de compilación\n",
    "\n",
    "Las banderas de compilación permiten modificar algunos aspectos de cómo funcionan las [expresiones regulares](https://es.wikipedia.org/wiki/Expresi%C3%B3n_regular). Todas ellas están disponibles en el módulo [re](https://docs.python.org/3/library/re.html) bajo dos nombres, un nombre largo como IGNORECASE y una forma abreviada de una sola letra como I. Múltiples banderas pueden ser especificadas utilizando el operador \"|\" OR; Por ejemplo, re.I | RE.M establece las banderas de E y M. \n",
    "\n",
    "Algunas de las banderas de compilación que podemos encontrar son:\n",
    "\n",
    "* **IGNORECASE, I**: Para realizar búsquedas sin tener en cuenta las minúsculas o mayúsculas.\n",
    "* **VERBOSE, X**: Que habilita la modo verborrágico, el cual permite organizar el patron de búsqueda de una forma que sea más sencilla de entender y leer.\n",
    "* **ASCII, A**: Que hace que las [secuencias de escape](https://msdn.microsoft.com/es-es/library/h21280bw.aspx) \\w, \\b, \\s and \\d funciones para coincidencias con los caracteres ASCII.\n",
    "* **DOTALL, S**: La cual hace que el metacaracter . funcione para cualquier caracter, incluyendo el las líneas nuevas.\n",
    "* **LOCALE, L**: Esta opción hace que \\w, \\W, \\b, \\B, \\s, y \\S dependientes de la localización actual.\n",
    "* **MULTILINE, M**: Que\thabilita la coincidencia en multiples lineas, afectando el funcionamiento de los metacaracteres ^ and $."
   ]
  },
  {
   "cell_type": "code",
   "execution_count": 22,
   "metadata": {
    "collapsed": false
   },
   "outputs": [
    {
     "name": "stdout",
     "output_type": "stream",
     "text": [
      "puede nublarse el sol eternamente; \n",
      "puede secarse en un instante el mar; \n",
      "puede romperse el eje de la tierra \n",
      "como un débil cristal. \n",
      "¡todo sucederá! puede la muerte \n",
      "cubrirme con su fúnebre crespón; \n",
      "Pero jamás en mí puede apagarse \n",
      "la llama de tu amor.\n"
     ]
    }
   ],
   "source": [
    "# Ejemplo de IGNORECASE\n",
    "# Cambiando \"Podrá\" o \"podra\" por \"Puede\"\n",
    "podra = re.compile(r'podrá\\b', re.I)  # el patrón se vuelve más sencillo\n",
    "puede = podra.sub(\"puede\", becquer)\n",
    "print(puede)"
   ]
  },
  {
   "cell_type": "code",
   "execution_count": 23,
   "metadata": {
    "collapsed": true
   },
   "outputs": [],
   "source": [
    "# Ejemplo de VERBOSE\n",
    "mail = re.compile(r\"\"\"\n",
    "\\b             # comienzo de delimitador de palabra\n",
    "[\\w.%+-]       # usuario: Cualquier caracter alfanumerico mas los signos (.%+-)\n",
    "+@             # seguido de @\n",
    "[\\w.-]         # dominio: Cualquier caracter alfanumerico mas los signos (.-)\n",
    "+\\.            # seguido de .\n",
    "[a-zA-Z]{2,6}  # dominio de alto nivel: 2 a 6 letras en minúsculas o mayúsculas.\n",
    "\\b             # fin de delimitador de palabra\n",
    "\"\"\", re.X)"
   ]
  },
  {
   "cell_type": "code",
   "execution_count": 24,
   "metadata": {
    "collapsed": false
   },
   "outputs": [],
   "source": [
    "mails = \"\"\"raul.lopez@relopezbriega.com, Raul Lopez Briega,\n",
    "foo bar, relopezbriega@relopezbriega.com.ar, raul@github.io, \n",
    "http://relopezbriega.com.ar, http://relopezbriega.github.io, \n",
    "python@python, river@riverplate.com.ar, pythonAR@python.pythonAR\n",
    "\"\"\""
   ]
  },
  {
   "cell_type": "code",
   "execution_count": 25,
   "metadata": {
    "collapsed": false
   },
   "outputs": [
    {
     "data": {
      "text/plain": [
       "['raul.lopez@relopezbriega.com',\n",
       " 'relopezbriega@relopezbriega.com.ar',\n",
       " 'raul@github.io',\n",
       " 'river@riverplate.com.ar']"
      ]
     },
     "execution_count": 25,
     "metadata": {},
     "output_type": "execute_result"
    }
   ],
   "source": [
    "# filtrando los mails con estructura válida\n",
    "mail.findall(mails)"
   ]
  },
  {
   "cell_type": "markdown",
   "metadata": {},
   "source": [
    "Como podemos ver en este último ejemplo, la opción VERBOSE puede ser muy util para que cualquier persona que lea nuestra [expresion regular](https://es.wikipedia.org/wiki/Expresi%C3%B3n_regular) pueda entenderla más facilmente."
   ]
  },
  {
   "cell_type": "markdown",
   "metadata": {},
   "source": [
    "###Nombrando los grupos\n",
    "\n",
    "Otra de las funciones interesantes que nos ofrece el módulo [re](https://docs.python.org/3/library/re.html) de [Python](https://www.python.org/); es la posibilidad de ponerle nombres a los grupos de nuestras [expresiones regulares](https://es.wikipedia.org/wiki/Expresi%C3%B3n_regular). Así por ejemplo, en lugar de acceder a los grupos por sus indices, como en este caso..."
   ]
  },
  {
   "cell_type": "code",
   "execution_count": 26,
   "metadata": {
    "collapsed": true
   },
   "outputs": [],
   "source": [
    "# Accediendo a los grupos por sus indices\n",
    "patron = re.compile(r\"(\\w+) (\\w+)\")\n",
    "s = patron.search(\"Raul Lopez\")"
   ]
  },
  {
   "cell_type": "code",
   "execution_count": 27,
   "metadata": {
    "collapsed": false
   },
   "outputs": [
    {
     "data": {
      "text/plain": [
       "'Raul'"
      ]
     },
     "execution_count": 27,
     "metadata": {},
     "output_type": "execute_result"
    }
   ],
   "source": [
    "# grupo 1\n",
    "s.group(1)"
   ]
  },
  {
   "cell_type": "code",
   "execution_count": 28,
   "metadata": {
    "collapsed": false
   },
   "outputs": [
    {
     "data": {
      "text/plain": [
       "'Lopez'"
      ]
     },
     "execution_count": 28,
     "metadata": {},
     "output_type": "execute_result"
    }
   ],
   "source": [
    "# grupo 2\n",
    "s.group(2)"
   ]
  },
  {
   "cell_type": "markdown",
   "metadata": {},
   "source": [
    "Podemos utilizar la sintaxis especial `(?P<nombre>patron)` que nos ofrece [Python](https://www.python.org/) para nombrar estos grupos y que sea más fácil identificarlos."
   ]
  },
  {
   "cell_type": "code",
   "execution_count": 29,
   "metadata": {
    "collapsed": true
   },
   "outputs": [],
   "source": [
    "# Accediendo a los grupos por nombres\n",
    "patron = re.compile(r\"(?P<nombre>\\w+) (?P<apellido>\\w+)\")\n",
    "s = patron.search(\"Raul Lopez\")"
   ]
  },
  {
   "cell_type": "code",
   "execution_count": 30,
   "metadata": {
    "collapsed": false
   },
   "outputs": [
    {
     "data": {
      "text/plain": [
       "'Raul'"
      ]
     },
     "execution_count": 30,
     "metadata": {},
     "output_type": "execute_result"
    }
   ],
   "source": [
    "# grupo nombre\n",
    "s.group(\"nombre\")"
   ]
  },
  {
   "cell_type": "code",
   "execution_count": 31,
   "metadata": {
    "collapsed": false
   },
   "outputs": [
    {
     "data": {
      "text/plain": [
       "'Lopez'"
      ]
     },
     "execution_count": 31,
     "metadata": {},
     "output_type": "execute_result"
    }
   ],
   "source": [
    "# grupo apellido\n",
    "s.group(\"apellido\")"
   ]
  },
  {
   "cell_type": "markdown",
   "metadata": {},
   "source": [
    "##Otros ejemplos de expresiones regulares\n",
    "\n",
    "Por último, para ir cerrando esta introducción a las [expresiones regulares](https://es.wikipedia.org/wiki/Expresi%C3%B3n_regular), les dejo algunos ejemplos de las [expresiones regulares](https://es.wikipedia.org/wiki/Expresi%C3%B3n_regular) más utilizadas.\n",
    "\n",
    "###Validando mails\n",
    "\n",
    "Para validar que un mail tenga la estructura correcta, podemos utilizar la siguiente [expresion regular](https://es.wikipedia.org/wiki/Expresi%C3%B3n_regular):\n",
    "\n",
    "**regex**: `\\b[\\w.%+-]+@[\\w.-]+\\.[a-zA-Z]{2,6}\\b`\n",
    "\n",
    "Este es el patron que utilizamos en el ejemplo de la opción VERBOSE.\n",
    "\n",
    "###Validando una URL\n",
    "\n",
    "Para validar que una URL tenga una estructura correcta, podemos utilizar esta [expresion regular](https://es.wikipedia.org/wiki/Expresi%C3%B3n_regular):\n",
    "\n",
    "**regex**: `^(https?:\\/\\/)?([\\da-z\\.-]+)\\.([a-z\\.]{2,6})([\\/\\w \\.-]*)*\\/?$`"
   ]
  },
  {
   "cell_type": "code",
   "execution_count": 32,
   "metadata": {
    "collapsed": false
   },
   "outputs": [
    {
     "data": {
      "text/plain": [
       "<_sre.SRE_Match object; span=(0, 27), match='http://relopezbriega.com.ar'>"
      ]
     },
     "execution_count": 32,
     "metadata": {},
     "output_type": "execute_result"
    }
   ],
   "source": [
    "# Validando una URL\n",
    "url = re.compile(r\"^(https?:\\/\\/)?([\\da-z\\.-]+)\\.([a-z\\.]{2,6})([\\/\\w \\.-]*)*\\/?$\")\n",
    "\n",
    "# vemos que http://relopezbriega.com.ar lo acepta como una url válida.\n",
    "url.search(\"http://relopezbriega.com.ar\")"
   ]
  },
  {
   "cell_type": "code",
   "execution_count": 33,
   "metadata": {
    "collapsed": false
   },
   "outputs": [
    {
     "name": "stdout",
     "output_type": "stream",
     "text": [
      "None\n"
     ]
    }
   ],
   "source": [
    "# pero http://google.com/un/archivo!.html no la acepta por el carcter !\n",
    "print(url.search(\"http://google.com/un/archivo!.html\"))"
   ]
  },
  {
   "cell_type": "markdown",
   "metadata": {},
   "source": [
    "###Validando una dirección IP\n",
    "\n",
    "Para validar que una dirección IP tenga una estructura correcta, podemos utilizar esta [expresion regular](https://es.wikipedia.org/wiki/Expresi%C3%B3n_regular):\n",
    "\n",
    "**regex**: `^(?:(?:25[0-5]|2[0-4][0-9]|[01]?[0-9][0-9]?)\\.){3}(?:25[0-5]|2[0-4][0-9]|[01]?[0-9][0-9]?)$`"
   ]
  },
  {
   "cell_type": "code",
   "execution_count": 34,
   "metadata": {
    "collapsed": false
   },
   "outputs": [
    {
     "data": {
      "text/plain": [
       "<_sre.SRE_Match object; span=(0, 13), match='73.60.124.136'>"
      ]
     },
     "execution_count": 34,
     "metadata": {},
     "output_type": "execute_result"
    }
   ],
   "source": [
    "# Validando una dirección IP\n",
    "patron = ('^(?:(?:25[0-5]|2[0-4][0-9]|'\n",
    "          '[01]?[0-9][0-9]?)\\.){3}'\n",
    "          '(?:25[0-5]|2[0-4][0-9]|[01]?[0-9][0-9]?)$')\n",
    "\n",
    "ip = re.compile(patron)\n",
    "\n",
    "# la ip 73.60.124.136 es valida\n",
    "ip.search(\"73.60.124.136\")"
   ]
  },
  {
   "cell_type": "code",
   "execution_count": 35,
   "metadata": {
    "collapsed": false
   },
   "outputs": [
    {
     "name": "stdout",
     "output_type": "stream",
     "text": [
      "None\n"
     ]
    }
   ],
   "source": [
    "# pero la ip 256.60.124.136 no es valida\n",
    "print(ip.search(\"256.60.124.136\"))"
   ]
  },
  {
   "cell_type": "markdown",
   "metadata": {},
   "source": [
    "###Validando una fecha\n",
    "\n",
    "Para validar que una fecha tenga una estructura dd/mm/yyyy, podemos utilizar esta [expresion regular](https://es.wikipedia.org/wiki/Expresi%C3%B3n_regular):\n",
    "\n",
    "**regex**: `^(0?[1-9]|[12][0-9]|3[01])/(0?[1-9]|1[012])/((19|20)\\d\\d)$`"
   ]
  },
  {
   "cell_type": "code",
   "execution_count": 36,
   "metadata": {
    "collapsed": false
   },
   "outputs": [
    {
     "data": {
      "text/plain": [
       "<_sre.SRE_Match object; span=(0, 10), match='13/02/1982'>"
      ]
     },
     "execution_count": 36,
     "metadata": {},
     "output_type": "execute_result"
    }
   ],
   "source": [
    "# Validando una fecha\n",
    "fecha = re.compile(r'^(0?[1-9]|[12][0-9]|3[01])/(0?[1-9]|1[012])/((19|20)\\d\\d)$')\n",
    "\n",
    "# validando 13/02/1982\n",
    "fecha.search(\"13/02/1982\")"
   ]
  },
  {
   "cell_type": "code",
   "execution_count": 37,
   "metadata": {
    "collapsed": false
   },
   "outputs": [
    {
     "name": "stdout",
     "output_type": "stream",
     "text": [
      "None\n"
     ]
    }
   ],
   "source": [
    "# no valida 13-02-1982\n",
    "print(fecha.search(\"13-02-1982\"))"
   ]
  },
  {
   "cell_type": "code",
   "execution_count": 38,
   "metadata": {
    "collapsed": false
   },
   "outputs": [
    {
     "name": "stdout",
     "output_type": "stream",
     "text": [
      "None\n"
     ]
    }
   ],
   "source": [
    "# no valida 32/12/2015\n",
    "print(fecha.search(\"32/12/2015\"))"
   ]
  },
  {
   "cell_type": "code",
   "execution_count": 39,
   "metadata": {
    "collapsed": false
   },
   "outputs": [
    {
     "name": "stdout",
     "output_type": "stream",
     "text": [
      "None\n"
     ]
    }
   ],
   "source": [
    "# no valida 30/14/2015\n",
    "print(fecha.search(\"30/14/2015\"))"
   ]
  },
  {
   "cell_type": "markdown",
   "metadata": {},
   "source": [
    "Y con estos ejemplos termino este tutorial, espero que les haya sido de utilidad.\n",
    "\n",
    "Saludos!\n",
    "\n",
    "*Este post fue escrito utilizando IPython notebook. Pueden descargar este [notebook](https://github.com/relopezbriega/relopezbriega.github.io/blob/master/downloads/RegexPython.ipynb) o ver su version estática en [nbviewer](http://nbviewer.ipython.org/github/relopezbriega/relopezbriega.github.io/blob/master/downloads/RegexPython.ipynb).*"
   ]
  }
 ],
 "metadata": {
  "kernelspec": {
   "display_name": "Python 3",
   "language": "python",
   "name": "python3"
  },
  "language_info": {
   "codemirror_mode": {
    "name": "ipython",
    "version": 3
   },
   "file_extension": ".py",
   "mimetype": "text/x-python",
   "name": "python",
   "nbconvert_exporter": "python",
   "pygments_lexer": "ipython3",
   "version": "3.4.3"
  }
 },
 "nbformat": 4,
 "nbformat_minor": 0
}
