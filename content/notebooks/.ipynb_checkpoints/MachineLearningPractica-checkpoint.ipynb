{
 "cells": [
  {
   "cell_type": "markdown",
   "metadata": {},
   "source": [
    "#Ejemplo práctico de Machine Learning con Python"
   ]
  },
  {
   "cell_type": "markdown",
   "metadata": {},
   "source": [
    "*Esta notebook fue creada originalmente como un blog post por [Raúl E. López Briega](http://relopezbriega.com.ar/) en [Matemáticas, Analisis de datos y Python](http://relopezbriega.github.io). El contenido esta bajo la licencia BSD.*"
   ]
  },
  {
   "cell_type": "markdown",
   "metadata": {},
   "source": [
    "<img alt=\"Machine Learning\" title=\"Machine Learning\" src=\"http://relopezbriega.github.io/images/machine-learning.jpg\">"
   ]
  },
  {
   "cell_type": "markdown",
   "metadata": {},
   "source": [
    "Aquí termino con este ejemplo práctico de [Machine Learning](https://es.wikipedia.org/wiki/Aprendizaje_autom%C3%A1tico) con [Python](http://python.org/), espero hayan disfrutado del artículo tanto como yo disfrute en escribirlo!\n",
    "\n",
    "Saludos!\n",
    "\n",
    "*Este post fue escrito utilizando IPython notebook. Pueden descargar este [notebook](https://github.com/relopezbriega/relopezbriega.github.io/blob/master/downloads/MachineLearningPractica.ipynb) o ver su version estática en [nbviewer](http://nbviewer.ipython.org/github/relopezbriega/relopezbriega.github.io/blob/master/downloads/MachineLearningPractica.ipynb).*"
   ]
  },
  {
   "cell_type": "markdown",
   "metadata": {},
   "source": [
    "##Introducción\n",
    "\n",
    "En mi anterior artículo, [Machine Learning con Python](http://relopezbriega.github.io/blog/2015/10/10/machine-learning-con-python/), hice una breve introducción a los principales conceptos que debemos conocer de [Machine Learning](https://es.wikipedia.org/wiki/Aprendizaje_autom%C3%A1tico). En este artículo, la idea es profundizar un poco más en ellos y presentar algunos conceptos nuevos con la ayuda de un ejemplo práctico.\n",
    "\n",
    "###Descripción del ejemplo\n",
    "\n",
    "En el ejemplo que vamos a utilizar, vamos a imaginarnos que una organización sin fines de lucro soporta su\n",
    "operación mediante la organización periódica de una campaña para recaudar fondos por correo. Esta organización ha creado una base de datos con más de 40 mil personas que por lo menos una vez en el pasado ha sido donante.\n",
    "La campaña de recaudación de fondos se realiza mediante el envío a una lista de correo (o un subconjunto de ella) de un regalo simbólico y la solicitud de una donación.\n",
    "Una vez que se planifica la campaña, el costo total de la misma se conoce de forma automática:\n",
    "\n",
    "**[número de potenciales donantes a contactar] x ([costo de regalo] + [costo de correo])**\n",
    "\n",
    "Sin embargo, el resultado de la recaudación de fondos depende tanto del número de donantes que responde a la campaña, como del importe medio de dinero que es donado.\n",
    "\n",
    "La idea es que, utilizando las técnicas de [Machine Learning](https://es.wikipedia.org/wiki/Aprendizaje_autom%C3%A1tico) sobre la base de datos de esta organización, podamos ayudarla a maximizar los beneficios de la campaña de recaudación, esto es, lograr el máximo importe posible de dinero recaudado, minimizando lo más que se pueda el costo total de la campaña.\n",
    "Debemos tener en cuenta que un miembro de la organización le enviará el correo a un potencial donante, siempre que el rendimiento esperado del pedido excede el costo del correo con la solicitud de donación. Para nuestro ejemplo, el costo por donante de la campaña va a ser igual al **[costo de regalo] + [costo de correo]**, y esto va a ser igual a **\\$ 0.75** por correo enviado. Los ingresos netos de la campaña se calculan como la suma **(importe de donación real - \\$ 0.75)** sobre todos los donantes a los que se ha enviado el correo con la solicitud de colaboración. Nuestro objetivo es ayudar a esta organización sin fines de lucro a seleccionar de su gran lista de correo, los donantes a los que debe abordar.\n",
    "\n",
    "###El Dataset\n",
    "\n",
    "El [dataset](https://es.wikipedia.org/wiki/Conjunto_de_datos) que vamos a utilizar, consiste en la base de datos de la organización sin fines de lucro con la lista de correo de los donantes de sus campañas anteriores. El mismo, ya lo hemos dividido en un [dataset](https://es.wikipedia.org/wiki/Conjunto_de_datos) de aprendizaje que se pueden descargar del siguiente [enlace](https://github.com/relopezbriega/relopezbriega.github.io/blob/master/downloads/LEARNING.csv); y un [dataset](https://es.wikipedia.org/wiki/Conjunto_de_datos) que vamos a utilizar para realizar las predicciones, el cual se lo pueden descargar desde este otro [enlace](https://github.com/relopezbriega/relopezbriega.github.io/blob/master/downloads/VALIDATION.csv).\n",
    "Algunos otros datos a tener en cuenta, son los siguientes:\n",
    "\n",
    "1. El [dataset](https://es.wikipedia.org/wiki/Conjunto_de_datos) de aprendizaje contiene 47720 registros y 481 campos. La primera fila / cabecera del mismo contiene los nombres de cada campo.\n",
    "2. El [dataset](https://es.wikipedia.org/wiki/Conjunto_de_datos) de validación contiene 47692 registros y 479 variables. Al igual que en el caso anterior, la primera fila contiene los nombres de cada campo.\n",
    "3. Los registros del [dataset](https://es.wikipedia.org/wiki/Conjunto_de_datos) de validación son idénticos a los registros del [dataset](https://es.wikipedia.org/wiki/Conjunto_de_datos) de aprendizaje, excepto que los valores para nuestros campos objetivo que necesitamos para el aprendizaje, no existen(es decir, los campos DONOR_FLAG y DONOR_AMOUNT no están incluidas en el [dataset](https://es.wikipedia.org/wiki/Conjunto_de_datos) de validación).\n",
    "4. Los espacios en blanco en los campos de tipo texto y los puntos en los campos de tipo numérico corresponden a valores faltantes o perdidos.\n",
    "5. Cada registro tiene un identificador único de registro o índice (campo IDX). Para cada registro, hay dos variables objetivo (campos DONOR_FLAG y DONOR_AMOUNT). DONOR_FLAG es una variable binaria que indica si ese registro fue donante o no; mientras que DONOR_AMOUNT contiene el importe de la donación para los casos que fueron donantes.\n",
    "6. Algunos de los valores en el [dataset](https://es.wikipedia.org/wiki/Conjunto_de_datos) pueden contener errores de formato o de ingreso. Por lo que se deberían corregir o limpiar.\n",
    "7. Los datos faltantes deberían ser inferidas a partir de valores conocidos (por ejemplo, medio, mediana, moda, un valor modelado, o cualquier otra forma).\n",
    "8. Una descripción detallada del significado de cada columna del [dataset](https://es.wikipedia.org/wiki/Conjunto_de_datos), la pueden encontrar en el siguiente [enlace](https://github.com/relopezbriega/relopezbriega.github.io/blob/master/downloads/describe_dataset.txt).\n"
   ]
  },
  {
   "cell_type": "markdown",
   "metadata": {
    "collapsed": true
   },
   "source": [
    "##Analisis exploratorio\n",
    "\n",
    "El primer paso que deberíamos emprender, es realizar un pequeño [análisis exploratorio](https://es.wikipedia.org/wiki/An%C3%A1lisis_exploratorio_de_datos) de nuestro [dataset](https://es.wikipedia.org/wiki/Conjunto_de_datos); es decir, valernos de algunos herramientas de la [estadística](https://es.wikipedia.org/wiki/Estad%C3%ADstica), junto con algunas visualizaciones para entender un poco más los datos de los que disponemos. Veamos como podemos hacer esto."
   ]
  },
  {
   "cell_type": "code",
   "execution_count": 36,
   "metadata": {
    "collapsed": true
   },
   "outputs": [],
   "source": [
    "# Importando las librerías que vamos a utilizar\n",
    "import pandas as pd\n",
    "import numpy as np \n",
    "import matplotlib.pyplot as plt \n",
    "import seaborn as sns "
   ]
  },
  {
   "cell_type": "code",
   "execution_count": 2,
   "metadata": {
    "collapsed": true
   },
   "outputs": [],
   "source": [
    "# graficos incrustados\n",
    "%matplotlib inline"
   ]
  },
  {
   "cell_type": "code",
   "execution_count": 5,
   "metadata": {
    "collapsed": false
   },
   "outputs": [],
   "source": [
    "# importando el dataset a un Dataframe de Pandas\n",
    "ONG_data = pd.read_csv('LEARNING.csv', header=0)"
   ]
  },
  {
   "cell_type": "code",
   "execution_count": 9,
   "metadata": {
    "collapsed": false
   },
   "outputs": [
    {
     "data": {
      "text/html": [
       "<div style=\"max-height:1000px;max-width:1500px;overflow:auto;\">\n",
       "<table border=\"1\" class=\"dataframe\">\n",
       "  <thead>\n",
       "    <tr style=\"text-align: right;\">\n",
       "      <th></th>\n",
       "      <th>ODATEDW</th>\n",
       "      <th>OSOURCE</th>\n",
       "      <th>TCODE</th>\n",
       "      <th>STATE</th>\n",
       "      <th>ZIP</th>\n",
       "      <th>MAILCODE</th>\n",
       "      <th>PVASTATE</th>\n",
       "      <th>DOB</th>\n",
       "      <th>NOEXCH</th>\n",
       "      <th>RECINHSE</th>\n",
       "    </tr>\n",
       "  </thead>\n",
       "  <tbody>\n",
       "    <tr>\n",
       "      <th>0</th>\n",
       "      <td>8901</td>\n",
       "      <td>GRI</td>\n",
       "      <td>0</td>\n",
       "      <td>IL</td>\n",
       "      <td>61081</td>\n",
       "      <td></td>\n",
       "      <td></td>\n",
       "      <td>3712</td>\n",
       "      <td>0</td>\n",
       "      <td></td>\n",
       "    </tr>\n",
       "    <tr>\n",
       "      <th>1</th>\n",
       "      <td>9401</td>\n",
       "      <td>NWN</td>\n",
       "      <td>0</td>\n",
       "      <td>LA</td>\n",
       "      <td>70611</td>\n",
       "      <td></td>\n",
       "      <td></td>\n",
       "      <td>0</td>\n",
       "      <td>0</td>\n",
       "      <td></td>\n",
       "    </tr>\n",
       "    <tr>\n",
       "      <th>2</th>\n",
       "      <td>9401</td>\n",
       "      <td>MSD</td>\n",
       "      <td>1</td>\n",
       "      <td>TN</td>\n",
       "      <td>37127-</td>\n",
       "      <td></td>\n",
       "      <td></td>\n",
       "      <td>3211</td>\n",
       "      <td>0</td>\n",
       "      <td></td>\n",
       "    </tr>\n",
       "    <tr>\n",
       "      <th>3</th>\n",
       "      <td>8901</td>\n",
       "      <td>ENQ</td>\n",
       "      <td>0</td>\n",
       "      <td>MN</td>\n",
       "      <td>56475</td>\n",
       "      <td></td>\n",
       "      <td></td>\n",
       "      <td>2603</td>\n",
       "      <td>0</td>\n",
       "      <td></td>\n",
       "    </tr>\n",
       "    <tr>\n",
       "      <th>4</th>\n",
       "      <td>9201</td>\n",
       "      <td>HCC</td>\n",
       "      <td>1</td>\n",
       "      <td>LA</td>\n",
       "      <td>70791</td>\n",
       "      <td></td>\n",
       "      <td></td>\n",
       "      <td>0</td>\n",
       "      <td>0</td>\n",
       "      <td>X</td>\n",
       "    </tr>\n",
       "    <tr>\n",
       "      <th>5</th>\n",
       "      <td>9301</td>\n",
       "      <td>USB</td>\n",
       "      <td>1</td>\n",
       "      <td>UT</td>\n",
       "      <td>84720</td>\n",
       "      <td></td>\n",
       "      <td></td>\n",
       "      <td>2709</td>\n",
       "      <td>0</td>\n",
       "      <td></td>\n",
       "    </tr>\n",
       "    <tr>\n",
       "      <th>6</th>\n",
       "      <td>9401</td>\n",
       "      <td>FRC</td>\n",
       "      <td>1</td>\n",
       "      <td>CA</td>\n",
       "      <td>90056</td>\n",
       "      <td></td>\n",
       "      <td></td>\n",
       "      <td>0</td>\n",
       "      <td>0</td>\n",
       "      <td></td>\n",
       "    </tr>\n",
       "    <tr>\n",
       "      <th>7</th>\n",
       "      <td>8801</td>\n",
       "      <td>PCH</td>\n",
       "      <td>2</td>\n",
       "      <td>IL</td>\n",
       "      <td>62376</td>\n",
       "      <td></td>\n",
       "      <td></td>\n",
       "      <td>5201</td>\n",
       "      <td>0</td>\n",
       "      <td></td>\n",
       "    </tr>\n",
       "    <tr>\n",
       "      <th>8</th>\n",
       "      <td>8601</td>\n",
       "      <td>AMB</td>\n",
       "      <td>28</td>\n",
       "      <td>FL</td>\n",
       "      <td>32810</td>\n",
       "      <td>B</td>\n",
       "      <td></td>\n",
       "      <td>3601</td>\n",
       "      <td>0</td>\n",
       "      <td></td>\n",
       "    </tr>\n",
       "    <tr>\n",
       "      <th>9</th>\n",
       "      <td>9501</td>\n",
       "      <td>L15</td>\n",
       "      <td>1</td>\n",
       "      <td>NC</td>\n",
       "      <td>27850</td>\n",
       "      <td></td>\n",
       "      <td></td>\n",
       "      <td>0</td>\n",
       "      <td>0</td>\n",
       "      <td></td>\n",
       "    </tr>\n",
       "    <tr>\n",
       "      <th>10</th>\n",
       "      <td>8701</td>\n",
       "      <td>BBK</td>\n",
       "      <td>2</td>\n",
       "      <td>MN</td>\n",
       "      <td>55125</td>\n",
       "      <td></td>\n",
       "      <td></td>\n",
       "      <td>3601</td>\n",
       "      <td>0</td>\n",
       "      <td></td>\n",
       "    </tr>\n",
       "  </tbody>\n",
       "</table>\n",
       "</div>"
      ],
      "text/plain": [
       "    ODATEDW OSOURCE  TCODE STATE     ZIP MAILCODE PVASTATE   DOB NOEXCH  \\\n",
       "0      8901     GRI      0    IL   61081                    3712      0   \n",
       "1      9401     NWN      0    LA   70611                       0      0   \n",
       "2      9401     MSD      1    TN  37127-                    3211      0   \n",
       "3      8901     ENQ      0    MN   56475                    2603      0   \n",
       "4      9201     HCC      1    LA   70791                       0      0   \n",
       "5      9301     USB      1    UT   84720                    2709      0   \n",
       "6      9401     FRC      1    CA   90056                       0      0   \n",
       "7      8801     PCH      2    IL   62376                    5201      0   \n",
       "8      8601     AMB     28    FL   32810        B           3601      0   \n",
       "9      9501     L15      1    NC   27850                       0      0   \n",
       "10     8701     BBK      2    MN   55125                    3601      0   \n",
       "\n",
       "   RECINHSE  \n",
       "0            \n",
       "1            \n",
       "2            \n",
       "3            \n",
       "4         X  \n",
       "5            \n",
       "6            \n",
       "7            \n",
       "8            \n",
       "9            \n",
       "10           "
      ]
     },
     "execution_count": 9,
     "metadata": {},
     "output_type": "execute_result"
    }
   ],
   "source": [
    "# Examinando las primeras 10 filas y 10 columnas del dataset\n",
    "ONG_data.ix[:10, :10]"
   ]
  },
  {
   "cell_type": "code",
   "execution_count": 11,
   "metadata": {
    "collapsed": false
   },
   "outputs": [
    {
     "data": {
      "text/plain": [
       "47720"
      ]
     },
     "execution_count": 11,
     "metadata": {},
     "output_type": "execute_result"
    }
   ],
   "source": [
    "# Controlando la cantidad de registros\n",
    "ONG_data['DONOR_AMOUNT'].count()"
   ]
  },
  {
   "cell_type": "markdown",
   "metadata": {},
   "source": [
    "Como podemos ver, utilizando simples expresiones de [Python](http://python.org/), podemos cargar la base de datos de la ONG en un *[Dataframe](http://pandas.pydata.org/pandas-docs/stable/dsintro.html)* de [Pandas](http://pandas.pydata.org/); lo que nos va a permitir manipular los datos con suma facilidad. Comenzemos a explorar un poco más en detalle este [dataset](https://es.wikipedia.org/wiki/Conjunto_de_datos)!"
   ]
  },
  {
   "cell_type": "code",
   "execution_count": 21,
   "metadata": {
    "collapsed": false
   },
   "outputs": [
    {
     "name": "stdout",
     "output_type": "stream",
     "text": [
      "El procentaje de donantes de la base de datos es 5.08%\n"
     ]
    }
   ],
   "source": [
    "# Calculando el porcentaje de donantes sobre toda la base de datos\n",
    "porcent_donantes = (ONG_data[ONG_data.DONOR_AMOUNT > 0]['DONOR_AMOUNT'].count() * 1.0\n",
    "       / ONG_data['DONOR_AMOUNT'].count()) * 100.0\n",
    "print(\"El procentaje de donantes de la base de datos es {0:.2f}%\".format(porcent_donantes))"
   ]
  },
  {
   "cell_type": "code",
   "execution_count": 25,
   "metadata": {
    "collapsed": false
   },
   "outputs": [
    {
     "data": {
      "image/png": "[encoded data removed]",
      "text/plain": [
       "<matplotlib.figure.Figure at 0x7f626c476c50>"
      ]
     },
     "metadata": {},
     "output_type": "display_data"
    }
   ],
   "source": [
    "# Grafico de totas del porcentaje de donantes\n",
    "# Agrupando por DONOR_FLAG\n",
    "donantes = ONG_data.groupby('DONOR_FLAG').IDX.count() \n",
    "# Creando las leyendas del grafico.\n",
    "labels = [ 'Donante\\n' + str(round(x * 1.0 / donantes.sum() * \n",
    "                            100.0, 2)) + '%'  for x in donantes ]\n",
    "labels[0] = 'No ' + labels[0]\n",
    "\n",
    "plt.pie(donantes, labels=labels)\n",
    "plt.title('Porcion de donantes')\n",
    "plt.show()"
   ]
  },
  {
   "cell_type": "markdown",
   "metadata": {},
   "source": [
    "Aquí podemos ver que el porcentaje de personas que fueron donantes en el pasado es realmente muy bajo, solo un 5 % del total de la base de datos. Este es un dato importante a tener en cuenta ya que al existir tanta diferencia entre las *clases* a clasificar, esto puede afectar considerablemente a nuestro [algoritmo](https://es.wikipedia.org/wiki/Algoritmo) de aprendizaje.\n",
    "Exploremos también un poco más en detalle a este grupo pequeño de personas que fueron donantes."
   ]
  },
  {
   "cell_type": "code",
   "execution_count": 27,
   "metadata": {
    "collapsed": true
   },
   "outputs": [],
   "source": [
    "# Creando subset con solo los donates\n",
    "ONG_donantes = ONG_data[ONG_data.DONOR_AMOUNT > 0]"
   ]
  },
  {
   "cell_type": "code",
   "execution_count": 33,
   "metadata": {
    "collapsed": false
   },
   "outputs": [
    {
     "data": {
      "image/png": "[encoded data removed]",
      "text/plain": [
       "<matplotlib.figure.Figure at 0x7f626c1d7d30>"
      ]
     },
     "metadata": {},
     "output_type": "display_data"
    }
   ],
   "source": [
    "# Analizando el importe de donanciones\n",
    "# Creando un segmentos de importes\n",
    "imp_segm = pd.cut(ONG_donantes['DONOR_AMOUNT'], [0, 10,  20, 30, 40, 50, 60, 100, 200])\n",
    "# Creando el grafico de barras desde pandas\n",
    "plot = pd.value_counts(imp_segm).plot(kind='bar', title='Importes de donacion')\n",
    "plot.set_ylabel('Cant de donantes')\n",
    "plot.set_xlabel('Rango de importes')\n",
    "plt.show()"
   ]
  },
  {
   "cell_type": "code",
   "execution_count": 34,
   "metadata": {
    "collapsed": false
   },
   "outputs": [
    {
     "data": {
      "text/plain": [
       "2423"
      ]
     },
     "execution_count": 34,
     "metadata": {},
     "output_type": "execute_result"
    }
   ],
   "source": [
    "len(ONG_donantes)"
   ]
  },
  {
   "cell_type": "code",
   "execution_count": 35,
   "metadata": {
    "collapsed": false
   },
   "outputs": [
    {
     "data": {
      "text/plain": [
       "(0, 10]       1026\n",
       "(10, 20]       921\n",
       "(20, 30]       358\n",
       "(30, 40]        53\n",
       "(40, 50]        43\n",
       "(60, 100]       15\n",
       "(50, 60]         4\n",
       "(100, 200]       3\n",
       "dtype: int64"
      ]
     },
     "execution_count": 35,
     "metadata": {},
     "output_type": "execute_result"
    }
   ],
   "source": [
    "pd.value_counts(imp_segm)"
   ]
  },
  {
   "cell_type": "code",
   "execution_count": null,
   "metadata": {
    "collapsed": true
   },
   "outputs": [],
   "source": []
  }
 ],
 "metadata": {
  "kernelspec": {
   "display_name": "Python 3",
   "language": "python",
   "name": "python3"
  },
  "language_info": {
   "codemirror_mode": {
    "name": "ipython",
    "version": 3
   },
   "file_extension": ".py",
   "mimetype": "text/x-python",
   "name": "python",
   "nbconvert_exporter": "python",
   "pygments_lexer": "ipython3",
   "version": "3.4.3"
  }
 },
 "nbformat": 4,
 "nbformat_minor": 0
}
