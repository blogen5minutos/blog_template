{
 "metadata": {
  "name": "",
  "signature": "sha256:f2b02c404579c6af22969a1bf93718920b7cf259130fb4e5022bdf0782fd53da"
 },
 "nbformat": 3,
 "nbformat_minor": 0,
 "worksheets": [
  {
   "cells": [
    {
     "cell_type": "markdown",
     "metadata": {},
     "source": [
      "#Ipython y Spark para el analisis de datos"
     ]
    },
    {
     "cell_type": "markdown",
     "metadata": {},
     "source": [
      "*Esta notebook fue creada originalmente como un blog post por [Ra\u00fal E. L\u00f3pez Briega](http://relopezbriega.com.ar/) en [Mi blog sobre Python](http://relopezbriega.github.io). El contenido esta bajo la licencia BSD.*"
     ]
    },
    {
     "cell_type": "markdown",
     "metadata": {},
     "source": [
      "Una de las nuevas estrellas en el analisis de datos masivos es [Apache Spark](http://spark.apache.org/). Desarrollado en [Scala](http://www.scala-lang.org/), [Apache Spark](http://spark.apache.org/) es una plataforma de computaci\u00f3n de c\u00f3digo abierto para el an\u00e1lisis y procesamiento de grandes vol\u00famenes de datos. \n",
      "\n",
      "Algunas de las ventajas que nos ofrece [Apache Spark](http://spark.apache.org/) sobre otros [frameworks](http://es.wikipedia.org/wiki/Framework), son:\n",
      "\n",
      "* **Velocidad:** Sin dudas la velocidad es una de las principales fortalezas de [Apache Spark](http://spark.apache.org/), como esta dise\u00f1ado para soportar el [procesameinto en memoria](http://en.wikipedia.org/wiki/In-Memory_Processing), puede alcanzar una performance sorprendente en analisis avanzados de datos. Algunos programas escritos utilizando [Apache Spark](http://spark.apache.org/), pueden correr hasta 100x m\u00e1s r\u00e1pido que utilizando [Hadoop](http://hadoop.apache.org/).\n",
      "* **F\u00e1cil de usar:** Podemos escribir programas en [Python](http://python.org/), [Scala](http://www.scala-lang.org/) o [Java](http://java.com/en/) que hagan uso de las herramientas que ofrece [Apache Spark](http://spark.apache.org/); asismismo nos permite trabajar en forma interactiva (con [Python](http://python.org/) o con [Scala](http://www.scala-lang.org/)) y su [API](http://es.wikipedia.org/wiki/Interfaz_de_programaci%C3%B3n_de_aplicaciones) es muy f\u00e1cil de aprender. \n",
      "* **Generalismo:** El mundo del analisis de datos incluye muchos subgrupos de distinta \u00edndole, estan los que hacen un analisis investigativo, los que que realizan analisis exploratorios, los que construyen sistemas de procesamientos de datos, etc. Los usuarios de cada uno de esos subgrupos, al tener objectivos distintos, suelen utilizar una gran variedad de herramientas totalmente diferentes. [Apache Spark](http://spark.apache.org/) nos proprociona un gran n\u00famero de herramientas de alto nivel como [Spark SQL](http://spark.apache.org/sql/), [MLlib](http://spark.apache.org/mllib/) para [machine learning](http://es.wikipedia.org/wiki/Machine_learning), [GraphX](http://spark.apache.org/graphx/), y [Spark Streaming](http://spark.apache.org/streaming/); las cuales pueden ser combinadas para crear aplicaciones multiprop\u00f3sito que ataquen los diferentes dominios del Analisis de datos. \n",
      "\n"
     ]
    },
    {
     "cell_type": "markdown",
     "metadata": {},
     "source": [
      "##RDD o  Resilient Distributed Datasets"
     ]
    },
    {
     "cell_type": "markdown",
     "metadata": {},
     "source": [
      "En el coraz\u00f3n de [Apache Spark](http://spark.apache.org/) se encuentran los [RDDs](http://www.cs.berkeley.edu/~matei/papers/2012/nsdi_spark.pdf).\n",
      "Los [RDDs](http://www.cs.berkeley.edu/~matei/papers/2012/nsdi_spark.pdf) son una abstracci\u00f3n distribu\u00edda que le permite a los programadores realizar computos [en memoria](http://en.wikipedia.org/wiki/In-Memory_Processing)  sobre grandes <a href='http://es.wikipedia.org/wiki/Cl%C3%BAster_(inform%C3%A1tica)' target='_blank'>clusters</a> de computadoras sin errores o p\u00e9rdidas de informaci\u00f3n. Estan especialmente dise\u00f1ados para el analisis de datos interactivo ([data mining](http://es.wikipedia.org/wiki/Miner%C3%ADa_de_datos)) y para la aplicacion de algoritmos iterativos ([MapReduce](http://es.wikipedia.org/wiki/MapReduce)). En ambos casos, mantener los datos en la memoria puede mejorar el rendimiento en una gran proproci\u00f3n. Para lograr la tolerancia a fallos de manera eficiente, [RDDs](http://www.cs.berkeley.edu/~matei/papers/2012/nsdi_spark.pdf) utiliza una forma restringida de memoria compartida. \n",
      "Los [RDDs](http://www.cs.berkeley.edu/~matei/papers/2012/nsdi_spark.pdf) son los suficientemente experesivos como para capturar una gran variedad de c\u00e1lculos."
     ]
    },
    {
     "cell_type": "markdown",
     "metadata": {},
     "source": [
      "##Instalando Apache Spark"
     ]
    },
    {
     "cell_type": "markdown",
     "metadata": {},
     "source": [
      "Para instalar [Apache Spark](http://spark.apache.org/) en forma local y poder comenzar a utilizarlo, pueden seguir los siguientes pasos:"
     ]
    },
    {
     "cell_type": "markdown",
     "metadata": {},
     "source": [
      "1. En primer lugar, necesitamos tener instalado [Oracle JDK](http://www.oracle.com/technetwork/java/javase/downloads/jdk7-downloads-1880260.html). Para instalarlo en [Ubuntu](http://www.ubuntu.com/) podemos utilizar los siguientes comandos:\n",
      "<pre>\n",
      "$ sudo add-apt-repository ppa:webupd8team/java\n",
      "$ sudo apt-get update\n",
      "$ sudo apt-get install oracle-jdk7-installer\n",
      "</pre>\n",
      "\n",
      "2. Luego nos instalamos las herramientas para trabajar con [Scala](http://www.scala-lang.org/), [SBT](http://www.scala-sbt.org/) con el siguiente comando:\n",
      "<pre>\n",
      "$ sudo apt-get install sbt\n",
      "</pre>\n",
      "\n",
      "3. Despues nos descargamos la \u00faltima versi\u00f3n de [Apache Spark](http://spark.apache.org/) desde [aqu\u00ed](http://d3kbcqa49mib13.cloudfront.net/spark-1.0.2.tgz)\n",
      "<pre></pre>\n",
      "4. Ahora descomprimimos el archivo:\n",
      "<pre>\n",
      "$ tar -xvf spark-1.0.2.tgz \n",
      "</pre>\n",
      "\n",
      "5. Nos movemos a la carpeta recien descomprimida y realizamos la compilaci\u00f3n de [Apache Spark](http://spark.apache.org/) utilizando [SBT](http://www.scala-sbt.org/). (tener paciencia, es sabido que [Scala](http://www.scala-lang.org/) tarda mucho en compilar) \n",
      "<pre>\n",
      "$ cd spark-1.0.2\n",
      "$ sbt/sbt assembly\n",
      "</pre>\n",
      "\n",
      "6. Opcionalmente, para facilitar la utilizaci\u00f3n de [Apache Spark](http://spark.apache.org/) desde la l\u00ednea de comando, yo modifique mi archivo .bashrc para incluir los siguientes alias:\n",
      "<pre>\n",
      "$ echo \"alias ipyspark='IPYTHON_OPTS=\"notebook --pylab inline\" ~/spark-1.0.2/bin/pyspark'\" >> ~/.bashrc\n",
      "$ echo \"alias pyspark='~/spark-1.0.2/bin/pyspark'\" >> ~/.bashrc\n",
      "$ echo \"alias spark='~/spark-1.0.2/bin/spark-shell'\" >> ~/.bashrc\n",
      "</pre>\n",
      "\n",
      "7. Ahora simplemente tipeando `pyspark` nos abre el interprete interactivo de [Python](http://python.org/) con [Apache Spark](http://spark.apache.org/), tipeando `spark` nos abre el interprete interactivo de [Scala](http://www.scala-lang.org/), y tipeando `ipyspark` nos abre el [notebook de Ipython](http://ipython.org/notebook.html) integrado con [Apache Spark](http://spark.apache.org/)!\n",
      "<pre>$ ./bin/pyspark #o pyspark si creamos el alias</pre>\n"
     ]
    },
    {
     "cell_type": "markdown",
     "metadata": {},
     "source": [
      "##Ejemplo de utilizaci\u00f3n de Spark con Ipython"
     ]
    },
    {
     "cell_type": "markdown",
     "metadata": {},
     "source": [
      "Ahora lleg\u00f3 el momento de ensuciarse las manos y probar [Apache Spark](http://spark.apache.org/), vamos a hacer el t\u00edpico ejercicio de wordcounts; en este caso vamos a contar todas las palabras que posee la Biblia en su versi\u00f3n en ingl\u00e9s y vamos a ver cuantas veces aparece la palabra Dios(God). Para esto nos descargamos la versi\u00f3n de la Biblia en texto plano del [proyecto Gutemberg](http://www.gutenberg.org/ebooks/10).\n"
     ]
    },
    {
     "cell_type": "code",
     "collapsed": false,
     "input": [
      "# Comenzamos con algunos imports.\n",
      "# No necesitamos importar pyspark porque ya se autoimporta como sc.\n",
      "from operator import add\n",
      "import pandas as pd"
     ],
     "language": "python",
     "metadata": {},
     "outputs": [],
     "prompt_number": 1
    },
    {
     "cell_type": "code",
     "collapsed": false,
     "input": [
      "lineas = sc.textFile(\"/home/raul/spark-1.0.2/examples/data/Bible.txt\") # usamos la funci\u00f3n textFile para subir el texto a Spark"
     ],
     "language": "python",
     "metadata": {},
     "outputs": [],
     "prompt_number": 2
    },
    {
     "cell_type": "code",
     "collapsed": false,
     "input": [
      "# Mapeamos las funciones para realizar la cuenta de las palabras y generamos el RDD.\n",
      "cuenta = lineas.flatMap(lambda x: x.split(' ')) \\\n",
      "                  .map(lambda x: (x.replace(',' , '').upper(), 1)) \\\n",
      "                  .reduceByKey(add)"
     ],
     "language": "python",
     "metadata": {},
     "outputs": [],
     "prompt_number": 3
    },
    {
     "cell_type": "code",
     "collapsed": false,
     "input": [
      "# Creamos la lista con las palabras y su respectiva frecuencia.\n",
      "lista = cuenta.collect()"
     ],
     "language": "python",
     "metadata": {},
     "outputs": [],
     "prompt_number": 4
    },
    {
     "cell_type": "code",
     "collapsed": false,
     "input": [
      "# Creamos un DataFrame de Pandas para facilitar el manejo de los datos.\n",
      "dataframe = pd.DataFrame(lista, columns=['palabras', 'cuenta'])"
     ],
     "language": "python",
     "metadata": {},
     "outputs": [],
     "prompt_number": 5
    },
    {
     "cell_type": "code",
     "collapsed": false,
     "input": [
      "# Nos quedamos solo con las palabras que hacen referencia a Dios\n",
      "god = dataframe[dataframe['palabras'].apply(lambda x: x.upper() in ['GOD', 'LORD', 'JESUS', 'FATHER'])]\n",
      "god"
     ],
     "language": "python",
     "metadata": {},
     "outputs": [
      {
       "html": [
        "<div style=\"max-height:1000px;max-width:1500px;overflow:auto;\">\n",
        "<table border=\"1\" class=\"dataframe\">\n",
        "  <thead>\n",
        "    <tr style=\"text-align: right;\">\n",
        "      <th></th>\n",
        "      <th>palabras</th>\n",
        "      <th>cuenta</th>\n",
        "    </tr>\n",
        "  </thead>\n",
        "  <tbody>\n",
        "    <tr>\n",
        "      <th>2867 </th>\n",
        "      <td> FATHER</td>\n",
        "      <td>  814</td>\n",
        "    </tr>\n",
        "    <tr>\n",
        "      <th>7329 </th>\n",
        "      <td>    GOD</td>\n",
        "      <td> 3330</td>\n",
        "    </tr>\n",
        "    <tr>\n",
        "      <th>8902 </th>\n",
        "      <td>   LORD</td>\n",
        "      <td> 6448</td>\n",
        "    </tr>\n",
        "    <tr>\n",
        "      <th>21404</th>\n",
        "      <td>  JESUS</td>\n",
        "      <td>  893</td>\n",
        "    </tr>\n",
        "  </tbody>\n",
        "</table>\n",
        "</div>"
       ],
       "metadata": {},
       "output_type": "pyout",
       "prompt_number": 6,
       "text": [
        "      palabras  cuenta\n",
        "2867    FATHER     814\n",
        "7329       GOD    3330\n",
        "8902      LORD    6448\n",
        "21404    JESUS     893"
       ]
      }
     ],
     "prompt_number": 6
    },
    {
     "cell_type": "code",
     "collapsed": false,
     "input": [
      "# Realizamos un gr\u00e1fico de barras sobre los datos\n",
      "god.set_index('palabras').plot(kind = 'bar')"
     ],
     "language": "python",
     "metadata": {},
     "outputs": [
      {
       "metadata": {},
       "output_type": "pyout",
       "prompt_number": 7,
       "text": [
        "<matplotlib.axes.AxesSubplot at 0x7f071e10ea10>"
       ]
      },
      {
       "metadata": {},
       "output_type": "display_data",
       "png": "[encoded data removed]",
       "text": [
        "<matplotlib.figure.Figure at 0x7f071e10e590>"
       ]
      }
     ],
     "prompt_number": 7
    },
    {
     "cell_type": "code",
     "collapsed": false,
     "input": [
      "# Realizamos la sumatoria de las 4 palabras combinadas\n",
      "god.sum()"
     ],
     "language": "python",
     "metadata": {},
     "outputs": [
      {
       "metadata": {},
       "output_type": "pyout",
       "prompt_number": 8,
       "text": [
        "palabras    FATHERGODLORDJESUS\n",
        "cuenta                   11485\n",
        "dtype: object"
       ]
      }
     ],
     "prompt_number": 8
    },
    {
     "cell_type": "markdown",
     "metadata": {},
     "source": [
      "Como demuestra el ejemplo, Dios ser\u00eda nombrado en la Biblia, ya sea como lord, god, jesus o father; unas 11485 veces!\n"
     ]
    },
    {
     "cell_type": "markdown",
     "metadata": {},
     "source": [
      "##Conclusi\u00f3n"
     ]
    },
    {
     "cell_type": "markdown",
     "metadata": {},
     "source": [
      "[Apache Spark](http://spark.apache.org/) es realmente una herramienta muy prometedora, con ella podemos analizar datos con un rendimiento muy alto y combinado con otras herramientas como [Python](http://python.org/), [Numpy](http://www.numpy.org/), [Pandas](http://pandas.pydata.org/) e [IPython](http://ipython.org/); se convierten en un [framework](http://es.wikipedia.org/wiki/Framework) sumamente completo y efectivo para el analisis de grandes volumenes de datos en forma muy sencilla.\n",
      "\n",
      "Para m\u00e1s informaci\u00f3n sobre [Apache Spark](http://spark.apache.org/), pueden visitar su la secci\u00f3n de [ejemplos](http://spark.apache.org/examples.html) de su p\u00e1gina oficial.\n",
      "\n",
      "Espero les haya sido de utilidad este [notebook]((http://ipython.org/notebook.html)).\n",
      "\n",
      "Saludos!!"
     ]
    },
    {
     "cell_type": "markdown",
     "metadata": {},
     "source": [
      "*Este post fue escrito utilizando IPython notebook. Pueden descargar este [notebook](https://github.com/relopezbriega/relopezbriega.github.io/blob/master/downloads/pyspark.ipynb) o ver su version est\u00e1tica en [nbviewer](http://nbviewer.ipython.org/github/relopezbriega/relopezbriega.github.io/blob/master/downloads/pyspark.ipynb).*"
     ]
    }
   ],
   "metadata": {}
  }
 ]
}