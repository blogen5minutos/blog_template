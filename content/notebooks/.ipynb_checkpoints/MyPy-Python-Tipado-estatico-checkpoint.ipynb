{
 "metadata": {
  "name": "",
  "signature": "sha256:83d18b24ff376a4bc2bba8d2a283640321ab3c4b65bc5a53ee700f1c3c9bfedd"
 },
 "nbformat": 3,
 "nbformat_minor": 0,
 "worksheets": [
  {
   "cells": [
    {
     "cell_type": "markdown",
     "metadata": {},
     "source": [
      "#MyPy - Python y un sistema de tipado est\u00e1tico"
     ]
    },
    {
     "cell_type": "markdown",
     "metadata": {},
     "source": [
      "*Esta notebook fue creada originalmente como un blog post por [Ra\u00fal E. L\u00f3pez Briega](http://relopezbriega.com.ar/) en [Mi blog sobre Python](http://relopezbriega.github.io). El contenido esta bajo la licencia BSD.*"
     ]
    },
    {
     "cell_type": "markdown",
     "metadata": {},
     "source": [
      "Una de las razones por la que solemos amar a [Python](http://python.org/), es por su sistema de [tipado din\u00e1mico](http://es.wikipedia.org/wiki/Sistema_de_tipos#Tipado_din.C3.A1mico), el cual lo convierte en un lenguaje de programaci\u00f3n sumamente flexible y f\u00e1cil de aprender; al no tener que preocuparnos por definir los tipos de los objetos, ya que [Python](http://python.org/) los infiere por nosotros, podemos escribir programas en una forma mucho m\u00e1s productiva, sin verbosidad y utilizando menos l\u00edneas de c\u00f3digo.\n",
      "\n",
      "Ahora bien, este sistema de [tipado din\u00e1mico](http://es.wikipedia.org/wiki/Sistema_de_tipos#Tipado_din.C3.A1mico) tambi\u00e9n puede convertirse en una pesadilla en proyectos de gran escala, requiriendo varias horas de [pruebas unitarias](http://es.wikipedia.org/wiki/Unit_testing) para evitar que los objetos adquieran un tipo de datos que no deber\u00edan y complicando el su mantenimiento o futura [refactorizaci\u00f3n](http://es.wikipedia.org/wiki/Refactorizaci%C3%B3n). \n",
      "\n",
      "Por ejemplo, en un c\u00f3digo tan trivial como el siguiente:"
     ]
    },
    {
     "cell_type": "code",
     "collapsed": false,
     "input": [
      "def saludo(nombre):\n",
      "    return 'Hola {}'.format(nombre)"
     ],
     "language": "python",
     "metadata": {},
     "outputs": [],
     "prompt_number": 1
    },
    {
     "cell_type": "markdown",
     "metadata": {},
     "source": [
      "Esta simple funci\u00f3n nos va a devolver el texto 'Hola' seguido del nombre que le ingresemos; pero como no contiene ningun control sobre el tipo de datos que pude admitir la varible *nombre*, los siguientes casos ser\u00edan igualmente v\u00e1lidos:"
     ]
    },
    {
     "cell_type": "code",
     "collapsed": false,
     "input": [
      "print (saludo('Raul'))\n",
      "print (saludo(1))"
     ],
     "language": "python",
     "metadata": {},
     "outputs": [
      {
       "output_type": "stream",
       "stream": "stdout",
       "text": [
        "Hola Raul\n",
        "Hola 1\n"
       ]
      }
     ],
     "prompt_number": 2
    },
    {
     "cell_type": "markdown",
     "metadata": {},
     "source": [
      "En cambio, si pusieramos un control sobre el tipo de datos que admitiera la variable *nombre*, para que siempre fuera un *string*, entonces el segundo caso ya no ser\u00eda v\u00e1lido y lo podr\u00edamos detectar facilmente antes de que nuestro programa se llegara a ejecutar.\n",
      "\n",
      "Obviamente, para poder detectar el segundo error y que nuestra funci\u00f3n *saludo* solo admita una variable del tipo *string* como argumento, podr\u00edamos reescribrir nuestra funci\u00f3n, agregando un control del tipo de datos de la siguiente manera:"
     ]
    },
    {
     "cell_type": "code",
     "collapsed": false,
     "input": [
      "def saludo(nombre):\n",
      "    if type(nombre) != str:\n",
      "        return \"Error: el argumento debe ser del tipo String(str)\"\n",
      "    return 'Hola {}'.format(nombre)\n",
      "\n",
      "print(saludo('Raul'))\n",
      "print(saludo(1))"
     ],
     "language": "python",
     "metadata": {},
     "outputs": [
      {
       "output_type": "stream",
       "stream": "stdout",
       "text": [
        "Hola Raul\n",
        "Error: el argumento debe ser del tipo String(str)\n"
       ]
      }
     ],
     "prompt_number": 3
    },
    {
     "cell_type": "markdown",
     "metadata": {},
     "source": [
      "Pero una soluci\u00f3n m\u00e1s sencilla a tener que ir escribiendo condiciones para controlar los tipos de las variables o de las funciones es utilizar [MyPy](http://www.mypy-lang.org/)"
     ]
    },
    {
     "cell_type": "markdown",
     "metadata": {},
     "source": [
      "##MyPy##"
     ]
    },
    {
     "cell_type": "markdown",
     "metadata": {},
     "source": [
      "[MyPy](http://www.mypy-lang.org/) es un proyecto que busca combinar los beneficios de un sistema de [tipado din\u00e1mico](http://es.wikipedia.org/wiki/Sistema_de_tipos#Tipado_din.C3.A1mico) con los de uno de [tipado est\u00e1tico](http://es.wikipedia.org/wiki/Sistema_de_tipos#Tipado_est.C3.A1tico). Su meta es tener el poder y la expresividad de [Python](http://python.org/) combinada con los beneficios que otorga el chequeo de los *tipos* de datos al momento de la compilaci\u00f3n.\n",
      "\n",
      "Algunos de los beneficios que proporciona utilizar [MyPy](http://www.mypy-lang.org/) son:\n",
      "\n",
      "* **Chequeo de tipos al momento de la compilacion:** Un sistema de [tipado est\u00e1tico](http://es.wikipedia.org/wiki/Sistema_de_tipos#Tipado_est.C3.A1tico) hace m\u00e1s f\u00e1cil detectar errores y con menos esfuerzo de [debugging](http://es.wikipedia.org/wiki/Debug). \n",
      "* **Facilita el mantenimiento:** Las declaraciones expl\u00edcitas de tipos act\u00faan como documentaci\u00f3n, haciendo que nuestro c\u00f3digo sea m\u00e1s f\u00e1cil de entender y de modificar sin introducir nuevos errores. \n",
      "* **Permite creecer nuestro programa desde un tipado din\u00e1mico hacia uno est\u00e1tico:** Nos permite comenzar desarrollando nuestros programas con un [tipado din\u00e1mico](http://es.wikipedia.org/wiki/Sistema_de_tipos#Tipado_din.C3.A1mico) y a mediada que el mismo vaya madurando podr\u00edamos modificarlo hacia un [tipado est\u00e1tico](http://es.wikipedia.org/wiki/Sistema_de_tipos#Tipado_est.C3.A1tico) de forma muy sencilla. De esta manera, podr\u00edamos beneficiarnos no solo de la comodidad de [tipado din\u00e1mico](http://es.wikipedia.org/wiki/Sistema_de_tipos#Tipado_din.C3.A1mico) en el desarrollo inicial, sino tambi\u00e9n aprovecharnos de los beneficios de los [tipos est\u00e1ticos](http://es.wikipedia.org/wiki/Sistema_de_tipos#Tipado_est.C3.A1tico) cuando el c\u00f3digo crece en tama\u00f1o y complejidad."
     ]
    },
    {
     "cell_type": "markdown",
     "metadata": {},
     "source": [
      "###Tipos de datos###"
     ]
    },
    {
     "cell_type": "markdown",
     "metadata": {},
     "source": [
      "Estos son algunos de los tipos de datos m\u00e1s comunes que podemos encontrar en [Python](http://python.org/):\n",
      "\n",
      "* **`int`**: N\u00famero entero de tama\u00f1o arbitrario\n",
      "* **`float`**: N\u00famero flotante.\n",
      "* **`bool`**: Valor booleano (True o False)\n",
      "* **`str`**: Unicode string\n",
      "* **`bytes`**: 8-bit string\n",
      "* **`object`**: Clase base del que derivan todos los objecto en [Python](http://python.org/).\n",
      "* **`List[str]`**: lista de objetos del tipo string.\n",
      "* **`Dict[str, int]`**: Diccionario de string hacia enteros\n",
      "* **`Iterable[int]`**: Objeto iterable que contiene solo enteros.\n",
      "* **`Sequence[bool]`**: Secuencia de valores booleanos\n",
      "* **`Any`**: Admite cualquier valor. (tipado din\u00e1mico)\n",
      "\n",
      "El tipo **Any** y los constructores **List, Dict, Iterable y Sequence** estan definidos en el modulo **typing** que viene junto con [MyPy](http://www.mypy-lang.org/).\n"
     ]
    },
    {
     "cell_type": "markdown",
     "metadata": {},
     "source": [
      "###Ejemplos"
     ]
    },
    {
     "cell_type": "markdown",
     "metadata": {},
     "source": [
      "Por ejemplo, volviendo al ejemplo del comienzo, podr\u00edamos reescribir la funci\u00f3n *saludo* utilizando [MyPy](http://www.mypy-lang.org/) de forma tal que los tipos de datos sean expl\u00edcitos y puedan ser chequeados al momento de la compilaci\u00f3n."
     ]
    },
    {
     "cell_type": "code",
     "collapsed": false,
     "input": [
      "%%writefile typeTest.py\n",
      "import typing\n",
      "\n",
      "def saludo(nombre: str) -> str:\n",
      "    return 'Hola {}'.format(nombre)\n",
      "\n",
      "print(saludo('Raul'))\n",
      "print(saludo(1))"
     ],
     "language": "python",
     "metadata": {},
     "outputs": [
      {
       "output_type": "stream",
       "stream": "stdout",
       "text": [
        "Overwriting typeTest.py\n"
       ]
      }
     ],
     "prompt_number": 4
    },
    {
     "cell_type": "markdown",
     "metadata": {},
     "source": [
      "En este ejemplo estoy creando un peque\u00f1o script y guardando en un archivo con el nombre 'typeTest.py', en la primer linea del script estoy importando la librer\u00eda *typing* que viene con [MyPy](http://www.mypy-lang.org/) y es la que nos agrega la funcionalidad del chequeo de los tipos de datos. Luego simplemente ejecutamos este script utlizando el interprete de [MyPy](http://www.mypy-lang.org/) y podemos ver que nos va a detectar el error de tipo de datos en la segunda llamada a la funci\u00f3n *saludo*."
     ]
    },
    {
     "cell_type": "code",
     "collapsed": false,
     "input": [
      "!mypy typeTest.py"
     ],
     "language": "python",
     "metadata": {},
     "outputs": [
      {
       "output_type": "stream",
       "stream": "stdout",
       "text": [
        "typeTest.py, line 7: Argument 1 to \"saludo\" has incompatible type \"int\"; expected \"str\"\r\n"
       ]
      }
     ],
     "prompt_number": 5
    },
    {
     "cell_type": "markdown",
     "metadata": {},
     "source": [
      "Si ejecutaramos este mismo script utilizando el interprete de [Python](http://python.org/), veremos que obtendremos los mismos resultados que al comienzo de este *notebook*; lo que quiere decir, que la sintaxis que utilizamos al reescribir nuesta funci\u00f3n *saludo* es c\u00f3digo [Python](http://python.org/) perfectamente v\u00e1lido!"
     ]
    },
    {
     "cell_type": "code",
     "collapsed": false,
     "input": [
      "!python3 typeTest.py"
     ],
     "language": "python",
     "metadata": {},
     "outputs": [
      {
       "output_type": "stream",
       "stream": "stdout",
       "text": [
        "Hola Raul\r\n",
        "Hola 1\r\n"
       ]
      }
     ],
     "prompt_number": 6
    },
    {
     "cell_type": "markdown",
     "metadata": {},
     "source": [
      "####Tipado explicito para variables y colecciones"
     ]
    },
    {
     "cell_type": "markdown",
     "metadata": {},
     "source": [
      "En el ejemplo anterior, vimos como es la sistaxis para asignarle un *tipo de datos* a una funci\u00f3n, la cual utiliza la sintaxis de [Python3](http://python.org/), *[annotations](http://legacy.python.org/dev/peps/pep-3107/)*. \n",
      "\n",
      "Si quisieramos asignarle un *tipo* a una variable, podr\u00edamos utilizar la funci\u00f3n **`Undefined`** que viene junto con [MyPy](http://www.mypy-lang.org/)."
     ]
    },
    {
     "cell_type": "code",
     "collapsed": false,
     "input": [
      "%%writefile typeTest.py\n",
      "from typing import Undefined, List, Dict\n",
      "\n",
      "# Declaro los tipos de las variables\n",
      "texto = Undefined(str)\n",
      "entero = Undefined(int)\n",
      "lista_enteros = List[int]()\n",
      "dic_str_int = Dict[str, int]()\n",
      "\n",
      "# Asigno valores a las variables.\n",
      "texto = 'Raul'\n",
      "entero = 13\n",
      "lista_enteros = [1, 2, 3, 4]\n",
      "dic_str_int = {'raul': 1, 'ezequiel': 2}\n",
      "\n",
      "# Intento asignar valores de otro tipo.\n",
      "texto = 1\n",
      "entero = 'raul'\n",
      "lista_enteros = ['raul', 1, '2']\n",
      "dic_str_int = {1: 'raul'}\n"
     ],
     "language": "python",
     "metadata": {},
     "outputs": [
      {
       "output_type": "stream",
       "stream": "stdout",
       "text": [
        "Overwriting typeTest.py\n"
       ]
      }
     ],
     "prompt_number": 7
    },
    {
     "cell_type": "code",
     "collapsed": false,
     "input": [
      "!mypy typeTest.py"
     ],
     "language": "python",
     "metadata": {},
     "outputs": [
      {
       "output_type": "stream",
       "stream": "stdout",
       "text": [
        "typeTest.py, line 16: Incompatible types in assignment (expression has type \"int\", variable has type \"str\")\r\n",
        "typeTest.py, line 17: Incompatible types in assignment (expression has type \"str\", variable has type \"int\")\r\n",
        "typeTest.py, line 18: List item 1 has incompatible type \"str\"\r\n",
        "typeTest.py, line 18: List item 3 has incompatible type \"str\"\r\n",
        "typeTest.py, line 19: List item 1 has incompatible type \"Tuple[int, str]\"\r\n"
       ]
      }
     ],
     "prompt_number": 8
    },
    {
     "cell_type": "markdown",
     "metadata": {},
     "source": [
      "Otra alternativa que nos ofrece [MyPy](http://www.mypy-lang.org/) para asignar un *tipo de datos* a las variables, es utilizar comentarios; as\u00ed, el ejemplo anterior lo podr\u00edamos reescribir de la siguiente forma, obteniendo el mismo resultado:"
     ]
    },
    {
     "cell_type": "code",
     "collapsed": false,
     "input": [
      "%%writefile typeTest.py\n",
      "from typing import List, Dict\n",
      "\n",
      "# Declaro los tipos de las variables\n",
      "texto = ''              # type: str\n",
      "entero = 0              # type: int\n",
      "lista_enteros = []      # type: List[int]\n",
      "dic_str_int = {}        # type: Dict[str, int]\n",
      "\n",
      "# Asigno valores a las variables.\n",
      "texto = 'Raul'\n",
      "entero = 13\n",
      "lista_enteros = [1, 2, 3, 4]\n",
      "dic_str_int = {'raul': 1, 'ezequiel': 2}\n",
      "\n",
      "# Intento asignar valores de otro tipo.\n",
      "texto = 1\n",
      "entero = 'raul'\n",
      "lista_enteros = ['raul', 1, '2']\n",
      "dic_str_int = {1: 'raul'}"
     ],
     "language": "python",
     "metadata": {},
     "outputs": [
      {
       "output_type": "stream",
       "stream": "stdout",
       "text": [
        "Overwriting typeTest.py\n"
       ]
      }
     ],
     "prompt_number": 9
    },
    {
     "cell_type": "code",
     "collapsed": false,
     "input": [
      "!mypy typeTest.py"
     ],
     "language": "python",
     "metadata": {},
     "outputs": [
      {
       "output_type": "stream",
       "stream": "stdout",
       "text": [
        "typeTest.py, line 16: Incompatible types in assignment (expression has type \"int\", variable has type \"str\")\r\n",
        "typeTest.py, line 17: Incompatible types in assignment (expression has type \"str\", variable has type \"int\")\r\n",
        "typeTest.py, line 18: List item 1 has incompatible type \"str\"\r\n",
        "typeTest.py, line 18: List item 3 has incompatible type \"str\"\r\n",
        "typeTest.py, line 19: List item 1 has incompatible type \"Tuple[int, str]\"\r\n"
       ]
      }
     ],
     "prompt_number": 10
    },
    {
     "cell_type": "markdown",
     "metadata": {},
     "source": [
      "###Instalando MyPy"
     ]
    },
    {
     "cell_type": "markdown",
     "metadata": {},
     "source": [
      "Instalar [MyPy](http://www.mypy-lang.org/) es bastante f\u00e1cil, simplemente debemos seguir los siguientes pasos:\n",
      "\n",
      "Si utilizan [git](https://github.com/), pueden clonar el repositorio de mypy:\n",
      "\n",
      "**$ git clone https://github.com/JukkaL/mypy.git **\n",
      "\n",
      "Si no utilizan [git](https://github.com/), como alternativa, se pueden descargar la \u00faltima versi\u00f3n de mypy en el siguiente link:\n",
      "\n",
      "https://github.com/JukkaL/mypy/archive/master.zip\n",
      "\n",
      "\n",
      "Una vez que ya se lo descargaron, se posicionan dentro de la carpeta de mypy y ejecutan el script `setup.py` para instalarlo:\n",
      "\n",
      "**$ python3 setup.py install **\n",
      "\n",
      "Reemplacen 'python3' con su interprete para python3."
     ]
    },
    {
     "cell_type": "markdown",
     "metadata": {},
     "source": [
      "###MyPy como parte de Python 3.5 ?"
     ]
    },
    {
     "cell_type": "markdown",
     "metadata": {},
     "source": [
      "Guido van Rossum, el creador de [Python](http://python.org/), ha enviado reciente una propuesta a la lista de correo de python-ideas, en la cual sugiere agregar en la pr\u00f3xima versi\u00f3n de [Python](http://python.org/) la sintaxis de [MyPy](http://www.mypy-lang.org/) para las [functions annotations](http://legacy.python.org/dev/peps/pep-3107/). Pueden encontrar la propuesta en el siguiente link:\n",
      "\n",
      "https://mail.python.org/pipermail/python-ideas/2014-August/028618.html\n",
      "\n",
      "Tambi\u00e9n pueden seguir las discusiones que se generaron sobre este tema en [Reddit](http://www.reddit.com/r/programming/comments/2disob/proposal_for_python_type_annotations_from_guido/)\n",
      "\n"
     ]
    },
    {
     "cell_type": "markdown",
     "metadata": {},
     "source": [
      "Saludos!\n",
      "\n",
      "*Este post fue escrito utilizando IPython notebook. Pueden descargar este [notebook](https://github.com/relopezbriega/relopezbriega.github.io/blob/master/downloads/MyPy-Python-Tipado-estatico.ipynb) o ver su version est\u00e1tica en [nbviewer](http://nbviewer.ipython.org/github/relopezbriega/relopezbriega.github.io/blob/master/downloads/MyPy-Python-Tipado-estatico.ipynb).*"
     ]
    }
   ],
   "metadata": {}
  }
 ]
}