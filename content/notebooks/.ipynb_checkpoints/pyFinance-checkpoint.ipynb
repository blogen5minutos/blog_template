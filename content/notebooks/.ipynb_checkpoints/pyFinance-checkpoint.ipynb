{
 "cells": [
  {
   "cell_type": "markdown",
   "metadata": {},
   "source": [
    "#Introducción a Finanzas con Python"
   ]
  },
  {
   "cell_type": "markdown",
   "metadata": {},
   "source": [
    "*Esta notebook fue creada originalmente como un blog post por [Raúl E. López Briega](http://relopezbriega.com.ar/) en [Mi blog sobre Python](http://relopezbriega.github.io). El contenido esta bajo la licencia BSD.*"
   ]
  },
  {
   "cell_type": "markdown",
   "metadata": {},
   "source": [
    "<img alt=\"Introducción a Finanzas\" title=\"Introducción a Finanzas\" src=\"http://relopezbriega.github.io/images/Finance.jpg\" width=\"500px\" height=\"400px\">"
   ]
  },
  {
   "cell_type": "markdown",
   "metadata": {},
   "source": [
    "##Introducción\n",
    "\n",
    "En el vertiginoso mundo actual de las [finanzas](https://es.wikipedia.org/wiki/Finanzas); dónde la velocidad, frecuencia y volumen de los datos aumentan a un ritmo considerable; la aplicación combinada de tecnologia y software, junto con algoritmos avanzados y diferentes métodos para recopilar, procesar y analizar datos se ha vuelto fundamental para obtener la información necesaria para una eficiente toma de decisiones. Es dentro de este contexto,  que se viene produciendo un gran crecimento en la utilización de [Python](https://www.python.org/) dentro de la [industria de las finanzas](https://es.wikipedia.org/wiki/Servicios_financieros).\n",
    "\n",
    "[Python](https://www.python.org/) se esta comenzando a utilizar ampliamente en diversos sectores de las [finanzas](https://es.wikipedia.org/wiki/Finanzas), como la banca, la gestión de inversiones, los seguros, e incluso en los bienes raíces; se utiliza principalmente para la construcción de herramientas que ayuden en la creación de [modelos financieros](https://en.wikipedia.org/wiki/Financial_modeling), [gestión de riesgos](https://es.wikipedia.org/wiki/Gesti%C3%B3n_de_riesgos), y el comercio. Incluso las grandes corporaciones financieras, como [Bank of America](https://www.bankofamerica.com/) o [JP Morgan](https://www.jpmorgan.com/pages/jpmorgan), estan comenzando a utilizar [Python](https://www.python.org/) para construir su infraestructura para la gestión de posiciones financieras, [precios de activos](https://es.wikipedia.org/wiki/Modelo_de_valoraci%C3%B3n_de_activos_financieros), [gestión de riesgos](https://es.wikipedia.org/wiki/Gesti%C3%B3n_de_riesgos), sistemas de comercio y [comercio algoritmico](https://en.wikipedia.org/wiki/Algorithmic_trading).\n",
    "\n",
    "Algunas de las razones que hacen de [Python](https://www.python.org/) un [lenguaje de programación](https://es.wikipedia.org/wiki/Lenguaje_de_programaci%C3%B3n) tan atractivo en el mundo de las finanzas son:\n",
    "\n",
    "* **Su simple sintaxis**: [Python](https://www.python.org/) es mundialmente conocido por lo fácil que resulta leerlo, muchas veces no existen casi diferencias entre seudo código y [Python](https://www.python.org/); tampoco suelen existir muchas diferencias entre expresar un [algoritmo](https://es.wikipedia.org/wiki/Algoritmo) matematicamente o en [Python](https://www.python.org/). \n",
    "\n",
    "\n",
    "* **Su ecosistema**: [Python](https://www.python.org/) es mucho más que un [lenguaje de programación](https://es.wikipedia.org/wiki/Lenguaje_de_programaci%C3%B3n), es todo un ecosistema en sí mismo; ya que podemos encontrar un sinnúmero de herramientas para realizar cualquier tipo de tareas; en [Python](https://www.python.org/) podemos encontrar módulos para realizar cálculos científicos, módulos para desarrollar aplicaciones webs, módulos para realizar tareas de adiminstración de sistemas, módulos para trabajar con bases de datos; entre otros. Todos ellos muy facilmente integrables dentro del lenguaje. La variedad del ecosistema de herramientas de [Python](https://www.python.org/), nos ofrece la posibilidad de desarrollar una solución completa a cualquier tipo de problema utilizando un solo [lenguaje de programación](https://es.wikipedia.org/wiki/Lenguaje_de_programaci%C3%B3n).\n",
    "\n",
    "\n",
    "* **Su integración**: Otras de las características por la que [Python](https://www.python.org/) es también famoso, es por su fácil integración con otros [lenguajes de programación](https://es.wikipedia.org/wiki/Lenguaje_de_programaci%C3%B3n). Generalmente, las grandes empresas suelen tener herramientas desarrolladas en distintos [lenguajes de programación](https://es.wikipedia.org/wiki/Lenguaje_de_programaci%C3%B3n); las carácterísticas dinámicas de [Python](https://www.python.org/), hacen que sea ideal para unir todos esos distintos componenetes en una sola gran aplicación. [Python](https://www.python.org/) puede ser enlazado facilmente a herramientas desarrollas en <a href=\"https://es.wikipedia.org/wiki/C_(lenguaje_de_programaci%C3%B3n)\">C</a>, [C++](https://es.wikipedia.org/wiki/C%2B%2B) o [Fortran](https://es.wikipedia.org/wiki/Fortran).  \n",
    "\n",
    "\n",
    "* **Eficiencia y productividad**: Por último, otra de las características que hacen a [Python](https://www.python.org/) tan atractivo, es que con él, se pueden lograr resultados de calidad en una forma mucho más eficiente y productiva. La mayoría de sus módulos estan ampliamente testeados y cuentan con el soporte de una amplia comunidad de usuarios; sus características dinámicas e interactivas lo hacen ideal para el analisis exploratorio de datos facilitando los analisis financieros. También es sabido, que la elegancia de su sintaxis hace que se necesiten mucho menos lineas de código para desarrollar un programa en [Python](https://www.python.org/) que en casi cualquier otro  [lenguaje de programación](https://es.wikipedia.org/wiki/Lenguaje_de_programaci%C3%B3n). \n",
    "\n",
    "###Principales librerías\n",
    "\n",
    "Las principales librerías que vamos a utilizar para realizar tareas de analisis financiero con [Python](https://www.python.org/) son muchas de las que ya he venido hablando en anteriores artículos; principalmente:\n",
    "\n",
    "* **[Pandas](http://pandas.pydata.org/)**: La cual fue diseñada desde un comienzo para facilitar el analisis de datos financieros, principalmente las [series de tiempo](https://es.wikipedia.org/wiki/Serie_temporal) propias del mercado cambiario de acciones. Con las [estructuras de datos](https://es.wikipedia.org/wiki/Estructura_de_datos) que nos brinda esta librería se vuelve sumamente fácil modelar y resolver problemas financieros.\n",
    "\n",
    "* **[Numpy](http://www.numpy.org/)**: El principal modulo matemático que nos ofrece [Python](https://www.python.org/), en el no solo vamos a encontrar las siempre prácticas <a href='http://es.wikipedia.org/wiki/Matriz_(matem%C3%A1ticas)' target='_blank'>matrices</a> que facilitan en sobremanera el manejo de información númerica; sino que también vamos a poder encontrar un gran número de funciones matemáticas.\n",
    "\n",
    "* **[Matplotlib](http://matplotlib.org/)**: La siempre vigente librería para realizar gráficos en [Python](https://www.python.org/).\n",
    "\n",
    "* **[statsmodels](http://statsmodels.sourceforge.net/)**: Si de estadística se trata, no hay como esta librería para realizar cualquier tipo de analisis estadístico.\n",
    "\n",
    "* **[PuLP](http://pythonhosted.org//PuLP/)**: La cual nos permite crear modelos de [programación lineal](http://es.wikipedia.org/wiki/Programaci%C3%B3n_lineal) en forma muy sencilla.\n",
    "\n",
    "* **[Quandl](https://www.quandl.com/help/python)**: Este módulo nos permite interactuar facimente con la [API](https://es.wikipedia.org/wiki/Interfaz_de_programaci%C3%B3n_de_aplicaciones) de [quandl.com](https://www.quandl.com/) para obtener en forma muy sencilla todo tipo de información financiera.\n",
    "\n",
    "* **[Zipline](http://www.zipline.io/)**: [Zipline](http://www.zipline.io/) es una librería para el [comercio algoritmico](https://en.wikipedia.org/wiki/Algorithmic_trading); esta basada en eventos y trata de aproximarse lo más cerca posible a como operan los verdades sistemas de comercio electronico de las principales bolsas del mundo. [Zipline](http://www.zipline.io/) es una de las principales tecnologías detras del popular sitio [quantopian.com](https://www.quantopian.com/), la comunidad web que pone a prueba distintos [algoritmos](https://es.wikipedia.org/wiki/Algoritmo) de [comercio algoritmico](https://en.wikipedia.org/wiki/Algorithmic_trading).\n",
    "\n",
    "Bueno, pero basta de introducciones y pasamos a describir los principales conceptos financieros y como podemos calcularlos con la ayuda de [Python](https://www.python.org/), ya que el tiempo es dinero!!."
   ]
  },
  {
   "cell_type": "markdown",
   "metadata": {
    "collapsed": true
   },
   "source": [
    "##Conceptos básicos de Finanzas\n",
    "\n",
    "Los conceptos más básicos que podemos encontrar dentro de las finanzas son: [valor futuro](https://es.wikipedia.org/wiki/Valor_tiempo_del_dinero), [valor presente](https://es.wikipedia.org/wiki/Valor_tiempo_del_dinero), y la [tasa interna de retorno](https://es.wikipedia.org/wiki/Tasa_interna_de_retorno). Estos conceptos nos dicen cuanto nuestro dinero va a crecer si lo depositamos en un banco ([valor futuro](https://es.wikipedia.org/wiki/Valor_tiempo_del_dinero)), cuanto vale hoy la promesa de unos pagos que recibiremos en el futuro([valor presente](https://es.wikipedia.org/wiki/Valor_tiempo_del_dinero)), y qué tasa de rendimiento podemos obtener de nuestras inversiones ([tasa interna de retorno](https://es.wikipedia.org/wiki/Tasa_interna_de_retorno)). Recordemos que todos los activos financieros y toda planificación financiera siempre tiene una dimensión de tiempo; así por ejemplo si depositamos \\$ 100 en un banco que nos paga una tasa de interes anual de 6 % , luego de un año obtendríamos un importe de \\$ 106. \n",
    "\n",
    "###Valor Futuro\n",
    "\n",
    "El [valor futuro](https://es.wikipedia.org/wiki/Valor_tiempo_del_dinero) o FV (por sus siglas en inglés), nos indica el valor en el futuro que tendrá el dinero depositado hoy en una cuenta bancaria que nos pague intereses. El *[valor futuro](https://es.wikipedia.org/wiki/Valor_tiempo_del_dinero)* de  \\$ X depositado hoy en una cuenta que paga r % de interés anual y que es dejado en la cuenta durante n años es $X * (1 + r)^n$. \n",
    "El [valor futuro](https://es.wikipedia.org/wiki/Valor_tiempo_del_dinero) es nuestro primer ejemplo de [interés compuesto](https://es.wikipedia.org/wiki/Inter%C3%A9s_compuesto), es decir, el principio de que podemos ganar intereses sobre los intereses.\n",
    "De la definición que dimos del [valor futuro](https://es.wikipedia.org/wiki/Valor_tiempo_del_dinero), podemos obtener su expresión matemática:\n",
    "\n",
    "$$FV = X * ( 1 + r )^n$$\n",
    "\n",
    "Como podemos ver, su cálculo es bastante simple. Veamos un ejemplo de como calcular el FV de un depósito de \\$ 1000 a 3 años y con una tasa de interes del 6 % anual."
   ]
  },
  {
   "cell_type": "code",
   "execution_count": 1,
   "metadata": {
    "collapsed": false
   },
   "outputs": [],
   "source": [
    "# graficos embebidos\n",
    "%matplotlib inline  "
   ]
  },
  {
   "cell_type": "code",
   "execution_count": 2,
   "metadata": {
    "collapsed": false
   },
   "outputs": [
    {
     "data": {
      "text/plain": [
       "1191.0160000000001"
      ]
     },
     "execution_count": 2,
     "metadata": {},
     "output_type": "execute_result"
    }
   ],
   "source": [
    "# Ejemplo FV con python\n",
    "# $1000 al 6% anual por 3 años.\n",
    "\n",
    "# importando librerías\n",
    "import numpy as np\n",
    "import matplotlib.pyplot as plt\n",
    "\n",
    "x = -1000  # deposito\n",
    "r = .06    # tasa de interes\n",
    "n = 3      # cantidad de años\n",
    "\n",
    "# usando la funcion fv de numpy\n",
    "FV = np.fv(pv=x, rate=r, nper=n, pmt=0)\n",
    "FV"
   ]
  },
  {
   "cell_type": "code",
   "execution_count": 3,
   "metadata": {
    "collapsed": false
   },
   "outputs": [
    {
     "data": {
      "text/plain": [
       "-1191.016"
      ]
     },
     "execution_count": 3,
     "metadata": {},
     "output_type": "execute_result"
    }
   ],
   "source": [
    "# Controlando el resultado\n",
    "x * (1 + r)**n"
   ]
  },
  {
   "cell_type": "code",
   "execution_count": 4,
   "metadata": {
    "collapsed": false
   },
   "outputs": [],
   "source": [
    "# Graficando las funciones con interes de 6 y 12 % a 20 años.\n",
    "t = list(range(0, 21))\n",
    "\n",
    "def fv6(num):\n",
    "    return np.fv(pv=-1000, rate=r, pmt=0, nper=num)\n",
    "\n",
    "def fv12(num):\n",
    "    return np.fv(pv=-1000, rate=.12, pmt=0, nper=num)"
   ]
  },
  {
   "cell_type": "code",
   "execution_count": 5,
   "metadata": {
    "collapsed": false
   },
   "outputs": [
    {
     "data": {
      "image/png": "[encoded data removed]",
      "text/plain": [
       "<matplotlib.figure.Figure at 0x7f5445b2ec88>"
      ]
     },
     "metadata": {},
     "output_type": "display_data"
    }
   ],
   "source": [
    "plt.title(\"Graficando FV 6 y 12 %\")\n",
    "plt.plot(t, fv6(t), label=\"interes 6 %\")\n",
    "plt.plot(t, fv12(t), label=\"interes 12 %\")\n",
    "plt.legend(loc='upper left')\n",
    "plt.show()"
   ]
  },
  {
   "cell_type": "markdown",
   "metadata": {},
   "source": [
    "Al graficar dos funciones de [FV](https://es.wikipedia.org/wiki/Valor_tiempo_del_dinero), una con una tasa de interes del 6% y otra con una tasa más alta del 12%, podemos ver que el [valor futuro](https://es.wikipedia.org/wiki/Valor_tiempo_del_dinero) suele ser bastante sensitivo a los cambios en la tasa de interes, pequeñas variaciones en ella pueden generar grandes saltos a lo largo del tiempo.\n",
    "\n",
    "####Anualidades\n",
    "\n",
    "Como podemos ver en el ejemplo anterior, la función fv de [Numpy](http://www.numpy.org/) tiene varios parametros, esto es así, porque existen otros casos en los que el cálculo del [valor futuro](https://es.wikipedia.org/wiki/Valor_tiempo_del_dinero) se puede volver más complicado; es aquí cuando comenzamos a hablar de *anulidades*. La idea de las *anulidades* es no solo quedarse con el cálculo simple de cuanto me va a rendir un solo deposito inicial a fin de un período, sino tambien poder calcular el [valor futuro](https://es.wikipedia.org/wiki/Valor_tiempo_del_dinero) de multiples depositos que se reinvierten a una misma tasa de interes. Supongamos por ejemplo que queremos hacer 10 depositos anuales de \\$ 1000 cada uno, los cuales vamos a ir depositando al comienzo de cada año. ¿Cuál sería en este caso el [valor futuro](https://es.wikipedia.org/wiki/Valor_tiempo_del_dinero) de nuestra *anualidad* luego del décimo año?.\n",
    "Ayudemonos de [Python](https://www.python.org/) para calcular la respuesta!"
   ]
  },
  {
   "cell_type": "code",
   "execution_count": 6,
   "metadata": {
    "collapsed": false
   },
   "outputs": [
    {
     "data": {
      "text/plain": [
       "13971.642638923764"
      ]
     },
     "execution_count": 6,
     "metadata": {},
     "output_type": "execute_result"
    }
   ],
   "source": [
    "# Calculando el valor de la anualidad con 6% anual\n",
    "x = -1000 # valor de depositos\n",
    "r = .06   # tasa de interes\n",
    "n = 10    # cantidad de años\n",
    "\n",
    "# usando la funcion fv de numpy\n",
    "FV = np.fv(pv=0, rate=r, nper=n, pmt=x, when='begin')\n",
    "FV"
   ]
  },
  {
   "cell_type": "markdown",
   "metadata": {},
   "source": [
    "Aquí comenzamos con un [valor presente](https://es.wikipedia.org/wiki/Valor_tiempo_del_dinero)(PV) de cero, luego realizamos el primer deposito de \\$ 1000 al comienzo del primer año y continuamos con los sucesivos depositos al comienzo de cada uno de los restantes años. Para poder entender mejor como funciona la función `fv` de [Numpy](http://www.numpy.org/) voy a explicar un poco más sus parametros.\n",
    "\n",
    "* **pv** = este parametro es el [valor presente](https://es.wikipedia.org/wiki/Valor_tiempo_del_dinero) de nuestra inversion o *anualidad*; en nuestro ejemplo empezamos con un valor de cero; ya que luego vamos a ir realizando los diferentes depositos de \\$ 1000.\n",
    "* **rate** = es la tasa efectiva de interes que nos rendirá la *anualidad* por cada período.\n",
    "* **nper** = Es el número de períodos. Tener en cuenta que si aquí estamos utilizando como unidad de medida de años, nuestra tasa de interes deberá estar expresada en la misma unidad.\n",
    "* **pmt** = El valor de los depositos que vamos a ir invirtiendo en nuestra *anualidad*. En nuestro caso el valor de -1000 refleja el importe que vamos a ir depositando año a año.(se expresa con signo negativo, ya que un deposito implica una salida de dinero).\n",
    "* **when** = Este parametro nos dice cuando se van a hacer efectivos nuestros depositos, ya que el resultado puede ser muy distinto si realizamos el deposito al comienzo(como en nuestro ejemplo) o al final de cada período."
   ]
  },
  {
   "cell_type": "code",
   "execution_count": 7,
   "metadata": {
    "collapsed": false
   },
   "outputs": [
    {
     "data": {
      "text/plain": [
       "13180.79494238091"
      ]
     },
     "execution_count": 7,
     "metadata": {},
     "output_type": "execute_result"
    }
   ],
   "source": [
    "# mismo caso pero con la diferencia de que los depositos se \n",
    "# realizan al final de cada período.\n",
    "FV = np.fv(pv=0, rate=r, nper=n, pmt=x, when='end')\n",
    "FV"
   ]
  },
  {
   "cell_type": "markdown",
   "metadata": {},
   "source": [
    "En este último ejemplo, el valor es menor por las perdidas realitivas de interes que vamos teniendo al realizar los depósitos al final de cada período en lugar de al comienzo. "
   ]
  },
  {
   "cell_type": "markdown",
   "metadata": {},
   "source": [
    "###Valor Presente\n",
    "\n",
    "El [valor presente](https://es.wikipedia.org/wiki/Valor_tiempo_del_dinero) o PV (por sus siglas en inglés), nos indica el valor que tienen hoy un pago o pagos que recibiremos en el futuro. Supongamos por ejemplo que sabemos que un tío nos va a regalar \\$ 1000 dentro de 3 años porque somos su sobrino favorito, si tambien sabemos que un banco nos pagaría un 6% de interes por los depositos en una caja de ahorro, podríamos calcular el [valor presente](https://es.wikipedia.org/wiki/Valor_tiempo_del_dinero) que tendría ese pago futuro de nuestro tío en el día de hoy. La formula para cálcular el [valor presente](https://es.wikipedia.org/wiki/Valor_tiempo_del_dinero) la podemos derivar de la que utilizamos para calcular el [valor futuro](https://es.wikipedia.org/wiki/Valor_tiempo_del_dinero) y se expresaría del siguiente modo:\n",
    "\n",
    "$$PV =\\frac{fv}{(1 + r)^n}$$\n",
    "\n",
    "Aplicando la esta formula sobre los datos con que contamos, podríamos calcular el valor de hoy de la promesa de pago de \\$ 1000 de nuestro tío, los que nos daría un [valor presente](https://es.wikipedia.org/wiki/Valor_tiempo_del_dinero) de \\$ 839.62 como se desprende del siguiente cálculo."
   ]
  },
  {
   "cell_type": "code",
   "execution_count": 8,
   "metadata": {
    "collapsed": false
   },
   "outputs": [
    {
     "data": {
      "text/plain": [
       "839.6192830323018"
      ]
     },
     "execution_count": 8,
     "metadata": {},
     "output_type": "execute_result"
    }
   ],
   "source": [
    "fv = 1000  # valor futuro\n",
    "r = .06   # tasa de interes\n",
    "n = 3     # cantidad de años\n",
    "\n",
    "fv / ((1 + r)**n)"
   ]
  },
  {
   "cell_type": "code",
   "execution_count": 9,
   "metadata": {
    "collapsed": false
   },
   "outputs": [
    {
     "data": {
      "text/plain": [
       "-839.61928303230184"
      ]
     },
     "execution_count": 9,
     "metadata": {},
     "output_type": "execute_result"
    }
   ],
   "source": [
    "# usando la funcion pv de numpy\n",
    "PV = np.pv(fv=fv, rate=r, nper=n, pmt=0)\n",
    "PV"
   ]
  },
  {
   "cell_type": "markdown",
   "metadata": {},
   "source": [
    "Estos \\$ 839.62 en realidad lo que representan es que si nosotros hoy depositaramos en la caja de ahorro de un banco que nos pague 6% anual de interes el importe de \\$ 839.62, obtendríamos dentro de los 3 años los mismos \\$ 1000 que nos ofreció dar nuestro tío dentro de 3 años; o lo que es lo mismo que decir que el [valor futuro](https://es.wikipedia.org/wiki/Valor_tiempo_del_dinero) dentro de 3 años de \\$ 839.62 son los \\$ 1000 de nuestro querido tío."
   ]
  },
  {
   "cell_type": "code",
   "execution_count": 10,
   "metadata": {
    "collapsed": false
   },
   "outputs": [
    {
     "data": {
      "text/plain": [
       "1000.0008539200001"
      ]
     },
     "execution_count": 10,
     "metadata": {},
     "output_type": "execute_result"
    }
   ],
   "source": [
    "# Calculando el valor futuro de los 839.62\n",
    "np.fv(pv=-839.62, rate=r, nper=n, pmt=0)"
   ]
  },
  {
   "cell_type": "markdown",
   "metadata": {
    "collapsed": true
   },
   "source": [
    "####Valor presente y anualidades\n",
    "\n",
    "Al igual que en el caso del [valor futuro](https://es.wikipedia.org/wiki/Valor_tiempo_del_dinero), aquí también podemos encontrarnos con las *anualidades*, es decir, una serie de pagos iguales que recibiremos. El [valor presente](https://es.wikipedia.org/wiki/Valor_tiempo_del_dinero) de una *anualidad* nos va a decir el valor que tienen hoy los futuros pagos de la *anualidad*. Así, por ejemplo si nuestro tío en lugar de regalarnos \\$ 1000 dentro de 3 años, decide darnos \\$ 250 al final de cada año durante 5 años; y asumiendo la misma tasa de interes que nos ofrece el banco de 6% anual. El valor presente de esta *anualidad* sería \\$ 1053.09."
   ]
  },
  {
   "cell_type": "code",
   "execution_count": 11,
   "metadata": {
    "collapsed": false
   },
   "outputs": [
    {
     "data": {
      "text/plain": [
       "1053.090946391429"
      ]
     },
     "execution_count": 11,
     "metadata": {},
     "output_type": "execute_result"
    }
   ],
   "source": [
    "# Calculando el valor de la anualidad\n",
    "PV = np.pv(fv=0, rate=r, nper=5, pmt=-250, when='end')\n",
    "PV"
   ]
  },
  {
   "cell_type": "markdown",
   "metadata": {},
   "source": [
    "####Eligiendo la tasa de descuento\n",
    "\n",
    "Uno de los puntos sobre el que hacer más foco al calcular el [valor presente](https://es.wikipedia.org/wiki/Valor_tiempo_del_dinero) de un flujo de fondos futuro, es el de como elegir la tasa para descontar estos fondos, ya que la tasa que utilicemos es la pieza clave para la exactitud de nuestros cálculos. El principio básico que nos debe guiar la elegir la *tasa de descuento* es el de tratar de elegir que sea apropiada al *riesgo* y la duración de los flujos de fondos que estamos descontando. En el ejemplo que venimos viendo, como sabemos que nuestro tío es una persona muy solvente y de palabra, podemos considerar que no existe mucho *riesgo* en ese flujo de fondos, por lo que utilizar la tasa de interes de una caja de ahorro parece ser un buen criterio para descontar ese flujo. En los casos de las empresas, las mismas suelen utilizar el *costo del capital* como una *tasa de descuento* apropiada para descontrar el flujo futuro de sus inversiones o proyectos."
   ]
  },
  {
   "cell_type": "markdown",
   "metadata": {},
   "source": [
    "###Valor Presente Neto\n",
    "\n",
    "Un concepto que merece una especial mención, por su importancia dentro del mundo de las finanzas, cuando hablamos del [valor presente](https://es.wikipedia.org/wiki/Valor_tiempo_del_dinero), es el de [Valor Presente Neto](https://es.wikipedia.org/wiki/Valor_actual_neto). \n",
    "Cuando estamos *descontando* flujos de fondos futuros para traerlos a su valor actual, puede ser que éstos flujos no sean homogeneos, por lo que ya no podríamos tratarlos como una *anualidad*, ya que los pagos son por importes distintos todos los años; para estos casos debemos utilizar el [Valor Presente Neto](https://es.wikipedia.org/wiki/Valor_actual_neto).\n",
    "\n",
    "El [Valor Presente Neto](https://es.wikipedia.org/wiki/Valor_actual_neto) o NPV (por sus siglas en inglés) de una serie de flujos futuros de fondos es su igual a su [valor presente](https://es.wikipedia.org/wiki/Valor_tiempo_del_dinero) menos el importe de la inversion inicial necesaria para obtener esos mismos flujos de fondos futuros. Su expresión matemática sería la siguiente:\n",
    "\n",
    "$$NPV = \\sum\\limits_{t=1}^n \\frac{V_{t}}{(1 + r)^t} - I_{0}$$\n",
    "\n",
    "donde, $V_{t}$ representa el flujo de fondos de cada período $t$; $I_{0}$ es el valor incial de la inversion; $r$ es la *tasa de descuento* utilizada; y $n$ es la cantidad de períodos considerados.\n",
    "\n",
    "Volviendo al ejemplo que veniamos utilizando de nuestro generoso tío, esta vez no ofrece pagarnos \\$ 500 al final del primer año, \\$ 750 al final del segunto año, \\$ 1000 al final del tercer año, \\$ 1250 al final del cuarto año y \\$ 500 al final del quinto año. El [NPV](https://es.wikipedia.org/wiki/Valor_actual_neto) de este flujo de fondos sería de \\$ 3342.56."
   ]
  },
  {
   "cell_type": "code",
   "execution_count": 12,
   "metadata": {
    "collapsed": false
   },
   "outputs": [
    {
     "data": {
      "text/plain": [
       "3342.5608917310828"
      ]
     },
     "execution_count": 12,
     "metadata": {},
     "output_type": "execute_result"
    }
   ],
   "source": [
    "# Calculando el valor presente neto.\n",
    "NPV = np.npv(rate=.06, values=[0, 500, 750, 1000, 1250, 500])\n",
    "NPV"
   ]
  },
  {
   "cell_type": "markdown",
   "metadata": {},
   "source": [
    "El [Valor Presente Neto](https://es.wikipedia.org/wiki/Valor_actual_neto) es sumamente utilizado en los analisis financieros, principalmente para evaluar inversiones o proyectos. Como regla general se considera que si el [NPV](https://es.wikipedia.org/wiki/Valor_actual_neto) de un proyecto o inversion es positivo, se trata de un proyecto rentable en el que deberíamos invertir; en cambio si el [NPV](https://es.wikipedia.org/wiki/Valor_actual_neto) es negativo estamos ante un mal negocio.\n",
    "\n",
    "Si por ejemplo, tendríamos que invertir hoy \\$ 4000 para poder obtener un flujo de fondos de \\$ 500 al final del primer año, \\$ 750 al final del segunto año, \\$ 1000 al final del tercer año, \\$ 1250 al final del cuarto año y \\$ 500 al final del quinto año; estaríamos haciendo un mal negocio, ya que como sabemos el valor presente de esos flujos de fondos es de \\$ 3342.56, un valor mucho menor a los \\$ 4000 que deberíamos invertir."
   ]
  },
  {
   "cell_type": "code",
   "execution_count": 13,
   "metadata": {
    "collapsed": false
   },
   "outputs": [
    {
     "data": {
      "text/plain": [
       "-657.43910826891715"
      ]
     },
     "execution_count": 13,
     "metadata": {},
     "output_type": "execute_result"
    }
   ],
   "source": [
    "# Calculando el NPV de la inversión de 4000.\n",
    "NPV = np.npv(rate=.06, values=[-4000, 500, 750, 1000, 1250, 500])\n",
    "NPV"
   ]
  },
  {
   "cell_type": "markdown",
   "metadata": {},
   "source": [
    "En el ejemplo podemos ver que al utilizar la función `npv` de [Numpy](http://www.numpy.org/), el primer valor en la lista de valores que le pasamos al parametro `values` debe ser el monto de la inversión inicial, y como implica un desembolso de dinero, su signo es negativo.\n",
    "\n",
    "Si en lugar de tener que invertir \\$ 4000, tendríamos que invertir \\$ 3000 para obtener el mismo flujo de fondos, ya estaríamos realizando una buena inversión, con [NPV](https://es.wikipedia.org/wiki/Valor_actual_neto) positivo."
   ]
  },
  {
   "cell_type": "code",
   "execution_count": 14,
   "metadata": {
    "collapsed": false
   },
   "outputs": [
    {
     "data": {
      "text/plain": [
       "342.56089173108285"
      ]
     },
     "execution_count": 14,
     "metadata": {},
     "output_type": "execute_result"
    }
   ],
   "source": [
    "# Calculando el NPV de la inversión de 3000.\n",
    "NPV = np.npv(rate=.06, values=[-3000, 500, 750, 1000, 1250, 500])\n",
    "NPV"
   ]
  },
  {
   "cell_type": "markdown",
   "metadata": {},
   "source": [
    "###Tasa interna de Retorno\n",
    "\n",
    "La [tasa interna de retorno](https://es.wikipedia.org/wiki/Tasa_interna_de_retorno) o IRR (por sus siglas en inglés) es la *tasa de descuento* que hace que el [Valor Presente Neto](https://es.wikipedia.org/wiki/Valor_actual_neto) de los flujos de fondos futuros sea igual a *cero*; también puede ser definida como la tasa de [interés compuesto](https://es.wikipedia.org/wiki/Inter%C3%A9s_compuesto) que nos paga nuestra inversión. \n",
    "\n",
    "Al igual que como sucede con el [Valor Presente Neto](https://es.wikipedia.org/wiki/Valor_actual_neto), podemos utilizar a la [tasa interna de retorno](https://es.wikipedia.org/wiki/Tasa_interna_de_retorno) para tomar decisiones financieras. Aquí la regla general es que, al momento de decidir entre diferentes inversiones, deberíamos elegir aquella con una [tasa interna de retorno](https://es.wikipedia.org/wiki/Tasa_interna_de_retorno) más alta; ya que es la que en menos tiempo no va a devolver nuestra inversión inicial.\n",
    "\n",
    "Veamos un ejemplo, supongamos que tenemos \\$ 1000 para invertir, y que podemos decidir invertir ese dinero en una compañía que nos va a pagar \\$ 300 al final de cada uno de los proximos cuatro años; o por otra lado, podemos invertir el dinero en una caja de ahorro de un banco que nos va a pagar 5% anual. ¿Dónde deberíamos invertir nuestro dinero?"
   ]
  },
  {
   "cell_type": "code",
   "execution_count": 15,
   "metadata": {
    "collapsed": false
   },
   "outputs": [
    {
     "data": {
      "text/plain": [
       "7.713847295208343"
      ]
     },
     "execution_count": 15,
     "metadata": {},
     "output_type": "execute_result"
    }
   ],
   "source": [
    "# Calculando la tasa interna de retorno de la inversion en la compañía\n",
    "IRR = np.irr([-1000, 300, 300, 300, 300])\n",
    "IRR * 100"
   ]
  },
  {
   "cell_type": "markdown",
   "metadata": {},
   "source": [
    "Al calcular la [IRR](https://es.wikipedia.org/wiki/Tasa_interna_de_retorno) de la inversión que podríamos hacer en la compañía, vemos que nos da un valor de 7.71%; esta tasa es más alta que la tasa del 5% que nos ofrece el banco por el deposito en su caja de ahorro, por lo que deberíamos decidir invertir nuestro dinero en la compañía en lugar de en el banco.\n",
    "\n",
    "####La IRR graficamente\n",
    "\n",
    "Como se desprende de su definición, la [tasa interna de retorno](https://es.wikipedia.org/wiki/Tasa_interna_de_retorno) es la tasa que hace que el [NPV](https://es.wikipedia.org/wiki/Valor_actual_neto) se haga cero, por lo que si nos propusiesemos graficar el [NPV](https://es.wikipedia.org/wiki/Valor_actual_neto) en función de la *tasa de descuento*, podríamos encontrar a simple vista, cual es la [IRR](https://es.wikipedia.org/wiki/Tasa_interna_de_retorno) de un determinado flujo de fondos. Veamos un ejemplo, graficando el flujo de fondos con el que trabajamos anteriormente."
   ]
  },
  {
   "cell_type": "code",
   "execution_count": 16,
   "metadata": {
    "collapsed": false
   },
   "outputs": [
    {
     "data": {
      "image/png": "[encoded data removed]",
      "text/plain": [
       "<matplotlib.figure.Figure at 0x7f54458832e8>"
      ]
     },
     "metadata": {},
     "output_type": "display_data"
    }
   ],
   "source": [
    "# Graficando el NPV en función de la tasa de descuento\n",
    "def npv_irr(tasas):\n",
    "    result = []\n",
    "    for tasa in tasas:\n",
    "        result.append(np.npv(tasa/100,[-1000, 300, 300, 300, 300] ))\n",
    "    return result\n",
    "\n",
    "tasas = list(range(14))\n",
    "\n",
    "plt.title(\"NPV y la tasa de descuento\")\n",
    "plt.plot(tasas, npv_irr(tasas), marker='o', label='NPV')\n",
    "plt.axhline(0, color='red')\n",
    "axes = plt.gca()\n",
    "axes.set_ylim([-200,250])\n",
    "plt.xticks(tasas)\n",
    "plt.legend(loc='upper right')\n",
    "plt.show()\n"
   ]
  },
  {
   "cell_type": "markdown",
   "metadata": {},
   "source": [
    "Como podemos ver en el gráfico, la función de [NPV](https://es.wikipedia.org/wiki/Valor_actual_neto), se hace cero en aproximadamente 7.71%; es decier, el valor de la [IRR](https://es.wikipedia.org/wiki/Tasa_interna_de_retorno) para ese flujo de fondos."
   ]
  },
  {
   "cell_type": "markdown",
   "metadata": {
    "collapsed": true
   },
   "source": [
    "##Información financiera y Pandas\n",
    "\n",
    "En las finanzas, una de las formas de datos más comunes e importantes con la que nos vamos a encontrar son las [series de tiempo](https://es.wikipedia.org/wiki/Serie_temporal); para trabajar con este tipo de información en [Python](https://www.python.org/), no existe mejor librería que [Pandas](http://pandas.pydata.org/); sus dos estructuras de datos básicas, las *Series* y el *Dataframe*, nos ayudan a manipular información financiera de forma muy conveniente. Además [Pandas](http://pandas.pydata.org/) nos proporciona una gran batería de metodos y funciones que nos facilitan la obtención y el analisis de datos financieros. Veamos algunos ejemplos de las cosas que podemos con [Pandas](http://pandas.pydata.org/)."
   ]
  },
  {
   "cell_type": "code",
   "execution_count": 17,
   "metadata": {
    "collapsed": true
   },
   "outputs": [],
   "source": [
    "# Importando pandas y datetime\n",
    "import pandas as pd\n",
    "import pandas.io.data as web\n",
    "import datetime as dt\n",
    "\n",
    "# Extrayendo información financiera de Yahoo! Finance\n",
    "inicio = dt.datetime(2014, 1, 1)\n",
    "fin = dt.datetime(2014, 12, 31)\n",
    "\n",
    "msft = web.DataReader(\"MSFT\", 'yahoo', inicio, fin)  # información de Microsoft\n",
    "aapl = web.DataReader(\"AAPL\", 'yahoo', inicio, fin)  # información de Apple"
   ]
  },
  {
   "cell_type": "code",
   "execution_count": 18,
   "metadata": {
    "collapsed": false
   },
   "outputs": [
    {
     "data": {
      "text/html": [
       "<div style=\"max-height:1000px;max-width:1500px;overflow:auto;\">\n",
       "<table border=\"1\" class=\"dataframe\">\n",
       "  <thead>\n",
       "    <tr style=\"text-align: right;\">\n",
       "      <th></th>\n",
       "      <th>Open</th>\n",
       "      <th>High</th>\n",
       "      <th>Low</th>\n",
       "      <th>Close</th>\n",
       "      <th>Volume</th>\n",
       "      <th>Adj Close</th>\n",
       "    </tr>\n",
       "    <tr>\n",
       "      <th>Date</th>\n",
       "      <th></th>\n",
       "      <th></th>\n",
       "      <th></th>\n",
       "      <th></th>\n",
       "      <th></th>\n",
       "      <th></th>\n",
       "    </tr>\n",
       "  </thead>\n",
       "  <tbody>\n",
       "    <tr>\n",
       "      <th>2014-01-02</th>\n",
       "      <td>37.349998</td>\n",
       "      <td>37.400002</td>\n",
       "      <td>37.099998</td>\n",
       "      <td>37.160000</td>\n",
       "      <td>30632200</td>\n",
       "      <td>35.448341</td>\n",
       "    </tr>\n",
       "    <tr>\n",
       "      <th>2014-01-03</th>\n",
       "      <td>37.200001</td>\n",
       "      <td>37.220001</td>\n",
       "      <td>36.599998</td>\n",
       "      <td>36.910000</td>\n",
       "      <td>31134800</td>\n",
       "      <td>35.209856</td>\n",
       "    </tr>\n",
       "    <tr>\n",
       "      <th>2014-01-06</th>\n",
       "      <td>36.849998</td>\n",
       "      <td>36.889999</td>\n",
       "      <td>36.110001</td>\n",
       "      <td>36.130001</td>\n",
       "      <td>43603700</td>\n",
       "      <td>34.465786</td>\n",
       "    </tr>\n",
       "  </tbody>\n",
       "</table>\n",
       "</div>"
      ],
      "text/plain": [
       "                 Open       High        Low      Close    Volume  Adj Close\n",
       "Date                                                                       \n",
       "2014-01-02  37.349998  37.400002  37.099998  37.160000  30632200  35.448341\n",
       "2014-01-03  37.200001  37.220001  36.599998  36.910000  31134800  35.209856\n",
       "2014-01-06  36.849998  36.889999  36.110001  36.130001  43603700  34.465786"
      ]
     },
     "execution_count": 18,
     "metadata": {},
     "output_type": "execute_result"
    }
   ],
   "source": [
    "msft[:3]"
   ]
  },
  {
   "cell_type": "code",
   "execution_count": 19,
   "metadata": {
    "collapsed": false
   },
   "outputs": [
    {
     "data": {
      "text/html": [
       "<div style=\"max-height:1000px;max-width:1500px;overflow:auto;\">\n",
       "<table border=\"1\" class=\"dataframe\">\n",
       "  <thead>\n",
       "    <tr style=\"text-align: right;\">\n",
       "      <th></th>\n",
       "      <th>Open</th>\n",
       "      <th>High</th>\n",
       "      <th>Low</th>\n",
       "      <th>Close</th>\n",
       "      <th>Volume</th>\n",
       "      <th>Adj Close</th>\n",
       "    </tr>\n",
       "    <tr>\n",
       "      <th>Date</th>\n",
       "      <th></th>\n",
       "      <th></th>\n",
       "      <th></th>\n",
       "      <th></th>\n",
       "      <th></th>\n",
       "      <th></th>\n",
       "    </tr>\n",
       "  </thead>\n",
       "  <tbody>\n",
       "    <tr>\n",
       "      <th>2014-01-02</th>\n",
       "      <td>555.680008</td>\n",
       "      <td>557.029945</td>\n",
       "      <td>552.020004</td>\n",
       "      <td>553.129990</td>\n",
       "      <td>58671200</td>\n",
       "      <td>76.419139</td>\n",
       "    </tr>\n",
       "    <tr>\n",
       "      <th>2014-01-03</th>\n",
       "      <td>552.860023</td>\n",
       "      <td>553.699989</td>\n",
       "      <td>540.430046</td>\n",
       "      <td>540.980019</td>\n",
       "      <td>98116900</td>\n",
       "      <td>74.740527</td>\n",
       "    </tr>\n",
       "    <tr>\n",
       "      <th>2014-01-06</th>\n",
       "      <td>537.450005</td>\n",
       "      <td>546.800018</td>\n",
       "      <td>533.599983</td>\n",
       "      <td>543.930046</td>\n",
       "      <td>103152700</td>\n",
       "      <td>75.148096</td>\n",
       "    </tr>\n",
       "  </tbody>\n",
       "</table>\n",
       "</div>"
      ],
      "text/plain": [
       "                  Open        High         Low       Close     Volume  \\\n",
       "Date                                                                    \n",
       "2014-01-02  555.680008  557.029945  552.020004  553.129990   58671200   \n",
       "2014-01-03  552.860023  553.699989  540.430046  540.980019   98116900   \n",
       "2014-01-06  537.450005  546.800018  533.599983  543.930046  103152700   \n",
       "\n",
       "            Adj Close  \n",
       "Date                   \n",
       "2014-01-02  76.419139  \n",
       "2014-01-03  74.740527  \n",
       "2014-01-06  75.148096  "
      ]
     },
     "execution_count": 19,
     "metadata": {},
     "output_type": "execute_result"
    }
   ],
   "source": [
    "aapl[:3]"
   ]
  },
  {
   "cell_type": "code",
   "execution_count": 20,
   "metadata": {
    "collapsed": false
   },
   "outputs": [
    {
     "data": {
      "text/html": [
       "<div style=\"max-height:1000px;max-width:1500px;overflow:auto;\">\n",
       "<table border=\"1\" class=\"dataframe\">\n",
       "  <thead>\n",
       "    <tr style=\"text-align: right;\">\n",
       "      <th></th>\n",
       "      <th>Adj Close</th>\n",
       "    </tr>\n",
       "    <tr>\n",
       "      <th>Date</th>\n",
       "      <th></th>\n",
       "    </tr>\n",
       "  </thead>\n",
       "  <tbody>\n",
       "    <tr>\n",
       "      <th>2014-01-02</th>\n",
       "      <td>35.448341</td>\n",
       "    </tr>\n",
       "    <tr>\n",
       "      <th>2014-01-03</th>\n",
       "      <td>35.209856</td>\n",
       "    </tr>\n",
       "    <tr>\n",
       "      <th>2014-01-06</th>\n",
       "      <td>34.465786</td>\n",
       "    </tr>\n",
       "  </tbody>\n",
       "</table>\n",
       "</div>"
      ],
      "text/plain": [
       "            Adj Close\n",
       "Date                 \n",
       "2014-01-02  35.448341\n",
       "2014-01-03  35.209856\n",
       "2014-01-06  34.465786"
      ]
     },
     "execution_count": 20,
     "metadata": {},
     "output_type": "execute_result"
    }
   ],
   "source": [
    "# Seleccionando solo el Adj Close price de Enero 2014\n",
    "msft01 = msft['2014-01'][['Adj Close']]\n",
    "aapl01 = aapl['2014-01'][['Adj Close']]\n",
    "\n",
    "msft01[:3]"
   ]
  },
  {
   "cell_type": "code",
   "execution_count": 21,
   "metadata": {
    "collapsed": false
   },
   "outputs": [
    {
     "data": {
      "text/html": [
       "<div style=\"max-height:1000px;max-width:1500px;overflow:auto;\">\n",
       "<table border=\"1\" class=\"dataframe\">\n",
       "  <thead>\n",
       "    <tr style=\"text-align: right;\">\n",
       "      <th></th>\n",
       "      <th>Adj Close</th>\n",
       "    </tr>\n",
       "    <tr>\n",
       "      <th>Date</th>\n",
       "      <th></th>\n",
       "    </tr>\n",
       "  </thead>\n",
       "  <tbody>\n",
       "    <tr>\n",
       "      <th>2014-01-02</th>\n",
       "      <td>76.419139</td>\n",
       "    </tr>\n",
       "    <tr>\n",
       "      <th>2014-01-03</th>\n",
       "      <td>74.740527</td>\n",
       "    </tr>\n",
       "    <tr>\n",
       "      <th>2014-01-06</th>\n",
       "      <td>75.148096</td>\n",
       "    </tr>\n",
       "    <tr>\n",
       "      <th>2014-01-07</th>\n",
       "      <td>74.610653</td>\n",
       "    </tr>\n",
       "    <tr>\n",
       "      <th>2014-01-08</th>\n",
       "      <td>75.083151</td>\n",
       "    </tr>\n",
       "  </tbody>\n",
       "</table>\n",
       "</div>"
      ],
      "text/plain": [
       "            Adj Close\n",
       "Date                 \n",
       "2014-01-02  76.419139\n",
       "2014-01-03  74.740527\n",
       "2014-01-06  75.148096\n",
       "2014-01-07  74.610653\n",
       "2014-01-08  75.083151"
      ]
     },
     "execution_count": 21,
     "metadata": {},
     "output_type": "execute_result"
    }
   ],
   "source": [
    "aapl01.head()  # head() nos muestra los primeros 5 registros"
   ]
  },
  {
   "cell_type": "code",
   "execution_count": 22,
   "metadata": {
    "collapsed": false
   },
   "outputs": [
    {
     "data": {
      "text/html": [
       "<div style=\"max-height:1000px;max-width:1500px;overflow:auto;\">\n",
       "<table border=\"1\" class=\"dataframe\">\n",
       "  <thead>\n",
       "    <tr style=\"text-align: right;\">\n",
       "      <th></th>\n",
       "      <th>Open</th>\n",
       "      <th>High</th>\n",
       "      <th>Low</th>\n",
       "      <th>Close</th>\n",
       "      <th>Volume</th>\n",
       "      <th>Adj Close</th>\n",
       "    </tr>\n",
       "    <tr>\n",
       "      <th>Date</th>\n",
       "      <th></th>\n",
       "      <th></th>\n",
       "      <th></th>\n",
       "      <th></th>\n",
       "      <th></th>\n",
       "      <th></th>\n",
       "    </tr>\n",
       "  </thead>\n",
       "  <tbody>\n",
       "    <tr>\n",
       "      <th>2014-02-03</th>\n",
       "      <td>37.740002</td>\n",
       "      <td>37.990002</td>\n",
       "      <td>36.430000</td>\n",
       "      <td>36.480000</td>\n",
       "      <td>64063100</td>\n",
       "      <td>34.799662</td>\n",
       "    </tr>\n",
       "    <tr>\n",
       "      <th>2014-02-04</th>\n",
       "      <td>36.970001</td>\n",
       "      <td>37.189999</td>\n",
       "      <td>36.250000</td>\n",
       "      <td>36.349998</td>\n",
       "      <td>54697900</td>\n",
       "      <td>34.675649</td>\n",
       "    </tr>\n",
       "    <tr>\n",
       "      <th>2014-02-05</th>\n",
       "      <td>36.290001</td>\n",
       "      <td>36.470001</td>\n",
       "      <td>35.799999</td>\n",
       "      <td>35.820000</td>\n",
       "      <td>55814400</td>\n",
       "      <td>34.170063</td>\n",
       "    </tr>\n",
       "    <tr>\n",
       "      <th>2014-02-06</th>\n",
       "      <td>35.799999</td>\n",
       "      <td>36.250000</td>\n",
       "      <td>35.689999</td>\n",
       "      <td>36.180000</td>\n",
       "      <td>35351800</td>\n",
       "      <td>34.513482</td>\n",
       "    </tr>\n",
       "    <tr>\n",
       "      <th>2014-02-07</th>\n",
       "      <td>36.320000</td>\n",
       "      <td>36.590000</td>\n",
       "      <td>36.009998</td>\n",
       "      <td>36.560001</td>\n",
       "      <td>33260500</td>\n",
       "      <td>34.875979</td>\n",
       "    </tr>\n",
       "    <tr>\n",
       "      <th>2014-02-10</th>\n",
       "      <td>36.630001</td>\n",
       "      <td>36.799999</td>\n",
       "      <td>36.290001</td>\n",
       "      <td>36.799999</td>\n",
       "      <td>26767000</td>\n",
       "      <td>35.104922</td>\n",
       "    </tr>\n",
       "    <tr>\n",
       "      <th>2014-02-11</th>\n",
       "      <td>36.880001</td>\n",
       "      <td>37.259998</td>\n",
       "      <td>36.860001</td>\n",
       "      <td>37.169998</td>\n",
       "      <td>32141400</td>\n",
       "      <td>35.457878</td>\n",
       "    </tr>\n",
       "    <tr>\n",
       "      <th>2014-02-12</th>\n",
       "      <td>37.349998</td>\n",
       "      <td>37.599998</td>\n",
       "      <td>37.299999</td>\n",
       "      <td>37.470001</td>\n",
       "      <td>27051800</td>\n",
       "      <td>35.744063</td>\n",
       "    </tr>\n",
       "    <tr>\n",
       "      <th>2014-02-13</th>\n",
       "      <td>37.330002</td>\n",
       "      <td>37.860001</td>\n",
       "      <td>37.330002</td>\n",
       "      <td>37.610001</td>\n",
       "      <td>37635500</td>\n",
       "      <td>35.877614</td>\n",
       "    </tr>\n",
       "  </tbody>\n",
       "</table>\n",
       "</div>"
      ],
      "text/plain": [
       "                 Open       High        Low      Close    Volume  Adj Close\n",
       "Date                                                                       \n",
       "2014-02-03  37.740002  37.990002  36.430000  36.480000  64063100  34.799662\n",
       "2014-02-04  36.970001  37.189999  36.250000  36.349998  54697900  34.675649\n",
       "2014-02-05  36.290001  36.470001  35.799999  35.820000  55814400  34.170063\n",
       "2014-02-06  35.799999  36.250000  35.689999  36.180000  35351800  34.513482\n",
       "2014-02-07  36.320000  36.590000  36.009998  36.560001  33260500  34.875979\n",
       "2014-02-10  36.630001  36.799999  36.290001  36.799999  26767000  35.104922\n",
       "2014-02-11  36.880001  37.259998  36.860001  37.169998  32141400  35.457878\n",
       "2014-02-12  37.349998  37.599998  37.299999  37.470001  27051800  35.744063\n",
       "2014-02-13  37.330002  37.860001  37.330002  37.610001  37635500  35.877614"
      ]
     },
     "execution_count": 22,
     "metadata": {},
     "output_type": "execute_result"
    }
   ],
   "source": [
    "# tambien se puede seleccionar un rango de tiempo\n",
    "msft['2014-02':'2014-02-13']  # desde el 1 al 13 de febrero"
   ]
  },
  {
   "cell_type": "code",
   "execution_count": 23,
   "metadata": {
    "collapsed": false
   },
   "outputs": [
    {
     "data": {
      "text/html": [
       "<div style=\"max-height:1000px;max-width:1500px;overflow:auto;\">\n",
       "<table border=\"1\" class=\"dataframe\">\n",
       "  <thead>\n",
       "    <tr style=\"text-align: right;\">\n",
       "      <th></th>\n",
       "      <th></th>\n",
       "      <th>Adj Close</th>\n",
       "    </tr>\n",
       "    <tr>\n",
       "      <th></th>\n",
       "      <th>Date</th>\n",
       "      <th></th>\n",
       "    </tr>\n",
       "  </thead>\n",
       "  <tbody>\n",
       "    <tr>\n",
       "      <th rowspan=\"5\" valign=\"top\">MSFT</th>\n",
       "      <th>2014-01-02</th>\n",
       "      <td>35.448341</td>\n",
       "    </tr>\n",
       "    <tr>\n",
       "      <th>2014-01-03</th>\n",
       "      <td>35.209856</td>\n",
       "    </tr>\n",
       "    <tr>\n",
       "      <th>2014-01-06</th>\n",
       "      <td>34.465786</td>\n",
       "    </tr>\n",
       "    <tr>\n",
       "      <th>2014-01-07</th>\n",
       "      <td>34.732887</td>\n",
       "    </tr>\n",
       "    <tr>\n",
       "      <th>2014-01-08</th>\n",
       "      <td>34.112826</td>\n",
       "    </tr>\n",
       "  </tbody>\n",
       "</table>\n",
       "</div>"
      ],
      "text/plain": [
       "                 Adj Close\n",
       "     Date                 \n",
       "MSFT 2014-01-02  35.448341\n",
       "     2014-01-03  35.209856\n",
       "     2014-01-06  34.465786\n",
       "     2014-01-07  34.732887\n",
       "     2014-01-08  34.112826"
      ]
     },
     "execution_count": 23,
     "metadata": {},
     "output_type": "execute_result"
    }
   ],
   "source": [
    "# combinando ambos resultados\n",
    "close = pd.concat([msft01, aapl01], keys=['MSFT', 'AAPL'])\n",
    "close[:5]"
   ]
  },
  {
   "cell_type": "code",
   "execution_count": 24,
   "metadata": {
    "collapsed": false
   },
   "outputs": [
    {
     "data": {
      "text/html": [
       "<div style=\"max-height:1000px;max-width:1500px;overflow:auto;\">\n",
       "<table border=\"1\" class=\"dataframe\">\n",
       "  <thead>\n",
       "    <tr style=\"text-align: right;\">\n",
       "      <th></th>\n",
       "      <th>Adj Close</th>\n",
       "    </tr>\n",
       "    <tr>\n",
       "      <th>Date</th>\n",
       "      <th></th>\n",
       "    </tr>\n",
       "  </thead>\n",
       "  <tbody>\n",
       "    <tr>\n",
       "      <th>2014-01-02</th>\n",
       "      <td>76.419139</td>\n",
       "    </tr>\n",
       "    <tr>\n",
       "      <th>2014-01-03</th>\n",
       "      <td>74.740527</td>\n",
       "    </tr>\n",
       "    <tr>\n",
       "      <th>2014-01-06</th>\n",
       "      <td>75.148096</td>\n",
       "    </tr>\n",
       "    <tr>\n",
       "      <th>2014-01-07</th>\n",
       "      <td>74.610653</td>\n",
       "    </tr>\n",
       "    <tr>\n",
       "      <th>2014-01-08</th>\n",
       "      <td>75.083151</td>\n",
       "    </tr>\n",
       "  </tbody>\n",
       "</table>\n",
       "</div>"
      ],
      "text/plain": [
       "            Adj Close\n",
       "Date                 \n",
       "2014-01-02  76.419139\n",
       "2014-01-03  74.740527\n",
       "2014-01-06  75.148096\n",
       "2014-01-07  74.610653\n",
       "2014-01-08  75.083151"
      ]
     },
     "execution_count": 24,
     "metadata": {},
     "output_type": "execute_result"
    }
   ],
   "source": [
    "# seleccionando los primeros 5 registros de AAPL\n",
    "close.ix['AAPL'][:5]  "
   ]
  },
  {
   "cell_type": "code",
   "execution_count": 25,
   "metadata": {
    "collapsed": false
   },
   "outputs": [
    {
     "data": {
      "text/html": [
       "<div style=\"max-height:1000px;max-width:1500px;overflow:auto;\">\n",
       "<table border=\"1\" class=\"dataframe\">\n",
       "  <thead>\n",
       "    <tr style=\"text-align: right;\">\n",
       "      <th></th>\n",
       "      <th>Symbol</th>\n",
       "      <th>Open</th>\n",
       "      <th>High</th>\n",
       "      <th>Low</th>\n",
       "      <th>Close</th>\n",
       "      <th>Volume</th>\n",
       "      <th>Adj Close</th>\n",
       "    </tr>\n",
       "    <tr>\n",
       "      <th>Date</th>\n",
       "      <th></th>\n",
       "      <th></th>\n",
       "      <th></th>\n",
       "      <th></th>\n",
       "      <th></th>\n",
       "      <th></th>\n",
       "      <th></th>\n",
       "    </tr>\n",
       "  </thead>\n",
       "  <tbody>\n",
       "    <tr>\n",
       "      <th>2014-01-02</th>\n",
       "      <td>MSFT</td>\n",
       "      <td>37.349998</td>\n",
       "      <td>37.400002</td>\n",
       "      <td>37.099998</td>\n",
       "      <td>37.160000</td>\n",
       "      <td>30632200</td>\n",
       "      <td>35.448341</td>\n",
       "    </tr>\n",
       "    <tr>\n",
       "      <th>2014-01-03</th>\n",
       "      <td>MSFT</td>\n",
       "      <td>37.200001</td>\n",
       "      <td>37.220001</td>\n",
       "      <td>36.599998</td>\n",
       "      <td>36.910000</td>\n",
       "      <td>31134800</td>\n",
       "      <td>35.209856</td>\n",
       "    </tr>\n",
       "    <tr>\n",
       "      <th>2014-01-06</th>\n",
       "      <td>MSFT</td>\n",
       "      <td>36.849998</td>\n",
       "      <td>36.889999</td>\n",
       "      <td>36.110001</td>\n",
       "      <td>36.130001</td>\n",
       "      <td>43603700</td>\n",
       "      <td>34.465786</td>\n",
       "    </tr>\n",
       "    <tr>\n",
       "      <th>2014-01-07</th>\n",
       "      <td>MSFT</td>\n",
       "      <td>36.330002</td>\n",
       "      <td>36.490002</td>\n",
       "      <td>36.209999</td>\n",
       "      <td>36.410000</td>\n",
       "      <td>35802800</td>\n",
       "      <td>34.732887</td>\n",
       "    </tr>\n",
       "    <tr>\n",
       "      <th>2014-01-08</th>\n",
       "      <td>MSFT</td>\n",
       "      <td>36.000000</td>\n",
       "      <td>36.139999</td>\n",
       "      <td>35.580002</td>\n",
       "      <td>35.759998</td>\n",
       "      <td>59971700</td>\n",
       "      <td>34.112826</td>\n",
       "    </tr>\n",
       "  </tbody>\n",
       "</table>\n",
       "</div>"
      ],
      "text/plain": [
       "           Symbol       Open       High        Low      Close    Volume  \\\n",
       "Date                                                                      \n",
       "2014-01-02   MSFT  37.349998  37.400002  37.099998  37.160000  30632200   \n",
       "2014-01-03   MSFT  37.200001  37.220001  36.599998  36.910000  31134800   \n",
       "2014-01-06   MSFT  36.849998  36.889999  36.110001  36.130001  43603700   \n",
       "2014-01-07   MSFT  36.330002  36.490002  36.209999  36.410000  35802800   \n",
       "2014-01-08   MSFT  36.000000  36.139999  35.580002  35.759998  59971700   \n",
       "\n",
       "            Adj Close  \n",
       "Date                   \n",
       "2014-01-02  35.448341  \n",
       "2014-01-03  35.209856  \n",
       "2014-01-06  34.465786  \n",
       "2014-01-07  34.732887  \n",
       "2014-01-08  34.112826  "
      ]
     },
     "execution_count": 25,
     "metadata": {},
     "output_type": "execute_result"
    }
   ],
   "source": [
    "# insertando una nueva columna con el simbolo\n",
    "msft.insert(0, 'Symbol', 'MSFT')\n",
    "aapl.insert(0, 'Symbol', 'AAPL')\n",
    "\n",
    "msft.head()"
   ]
  },
  {
   "cell_type": "code",
   "execution_count": 26,
   "metadata": {
    "collapsed": false
   },
   "outputs": [
    {
     "data": {
      "text/html": [
       "<div style=\"max-height:1000px;max-width:1500px;overflow:auto;\">\n",
       "<table border=\"1\" class=\"dataframe\">\n",
       "  <thead>\n",
       "    <tr style=\"text-align: right;\">\n",
       "      <th></th>\n",
       "      <th>Date</th>\n",
       "      <th>Symbol</th>\n",
       "      <th>Open</th>\n",
       "      <th>High</th>\n",
       "      <th>Low</th>\n",
       "      <th>Close</th>\n",
       "      <th>Volume</th>\n",
       "      <th>Adj Close</th>\n",
       "    </tr>\n",
       "  </thead>\n",
       "  <tbody>\n",
       "    <tr>\n",
       "      <th>0</th>\n",
       "      <td>2014-01-02</td>\n",
       "      <td>MSFT</td>\n",
       "      <td>37.349998</td>\n",
       "      <td>37.400002</td>\n",
       "      <td>37.099998</td>\n",
       "      <td>37.160000</td>\n",
       "      <td>30632200</td>\n",
       "      <td>35.448341</td>\n",
       "    </tr>\n",
       "    <tr>\n",
       "      <th>1</th>\n",
       "      <td>2014-01-02</td>\n",
       "      <td>AAPL</td>\n",
       "      <td>555.680008</td>\n",
       "      <td>557.029945</td>\n",
       "      <td>552.020004</td>\n",
       "      <td>553.129990</td>\n",
       "      <td>58671200</td>\n",
       "      <td>76.419139</td>\n",
       "    </tr>\n",
       "    <tr>\n",
       "      <th>2</th>\n",
       "      <td>2014-01-03</td>\n",
       "      <td>MSFT</td>\n",
       "      <td>37.200001</td>\n",
       "      <td>37.220001</td>\n",
       "      <td>36.599998</td>\n",
       "      <td>36.910000</td>\n",
       "      <td>31134800</td>\n",
       "      <td>35.209856</td>\n",
       "    </tr>\n",
       "    <tr>\n",
       "      <th>3</th>\n",
       "      <td>2014-01-03</td>\n",
       "      <td>AAPL</td>\n",
       "      <td>552.860023</td>\n",
       "      <td>553.699989</td>\n",
       "      <td>540.430046</td>\n",
       "      <td>540.980019</td>\n",
       "      <td>98116900</td>\n",
       "      <td>74.740527</td>\n",
       "    </tr>\n",
       "    <tr>\n",
       "      <th>4</th>\n",
       "      <td>2014-01-06</td>\n",
       "      <td>MSFT</td>\n",
       "      <td>36.849998</td>\n",
       "      <td>36.889999</td>\n",
       "      <td>36.110001</td>\n",
       "      <td>36.130001</td>\n",
       "      <td>43603700</td>\n",
       "      <td>34.465786</td>\n",
       "    </tr>\n",
       "  </tbody>\n",
       "</table>\n",
       "</div>"
      ],
      "text/plain": [
       "        Date Symbol        Open        High         Low       Close    Volume  \\\n",
       "0 2014-01-02   MSFT   37.349998   37.400002   37.099998   37.160000  30632200   \n",
       "1 2014-01-02   AAPL  555.680008  557.029945  552.020004  553.129990  58671200   \n",
       "2 2014-01-03   MSFT   37.200001   37.220001   36.599998   36.910000  31134800   \n",
       "3 2014-01-03   AAPL  552.860023  553.699989  540.430046  540.980019  98116900   \n",
       "4 2014-01-06   MSFT   36.849998   36.889999   36.110001   36.130001  43603700   \n",
       "\n",
       "   Adj Close  \n",
       "0  35.448341  \n",
       "1  76.419139  \n",
       "2  35.209856  \n",
       "3  74.740527  \n",
       "4  34.465786  "
      ]
     },
     "execution_count": 26,
     "metadata": {},
     "output_type": "execute_result"
    }
   ],
   "source": [
    "# concatenando toda la información y reseteando el indice\n",
    "combinado = pd.concat([msft, aapl]).sort_index()\n",
    "datos_todo = combinado.reset_index()\n",
    "\n",
    "datos_todo.head()"
   ]
  },
  {
   "cell_type": "code",
   "execution_count": 27,
   "metadata": {
    "collapsed": false
   },
   "outputs": [
    {
     "data": {
      "text/html": [
       "<div style=\"max-height:1000px;max-width:1500px;overflow:auto;\">\n",
       "<table border=\"1\" class=\"dataframe\">\n",
       "  <thead>\n",
       "    <tr style=\"text-align: right;\">\n",
       "      <th>Symbol</th>\n",
       "      <th>AAPL</th>\n",
       "      <th>MSFT</th>\n",
       "    </tr>\n",
       "    <tr>\n",
       "      <th>Date</th>\n",
       "      <th></th>\n",
       "      <th></th>\n",
       "    </tr>\n",
       "  </thead>\n",
       "  <tbody>\n",
       "    <tr>\n",
       "      <th>2014-01-02</th>\n",
       "      <td>76.419139</td>\n",
       "      <td>35.448341</td>\n",
       "    </tr>\n",
       "    <tr>\n",
       "      <th>2014-01-03</th>\n",
       "      <td>74.740527</td>\n",
       "      <td>35.209856</td>\n",
       "    </tr>\n",
       "    <tr>\n",
       "      <th>2014-01-06</th>\n",
       "      <td>75.148096</td>\n",
       "      <td>34.465786</td>\n",
       "    </tr>\n",
       "    <tr>\n",
       "      <th>2014-01-07</th>\n",
       "      <td>74.610653</td>\n",
       "      <td>34.732887</td>\n",
       "    </tr>\n",
       "    <tr>\n",
       "      <th>2014-01-08</th>\n",
       "      <td>75.083151</td>\n",
       "      <td>34.112826</td>\n",
       "    </tr>\n",
       "  </tbody>\n",
       "</table>\n",
       "</div>"
      ],
      "text/plain": [
       "Symbol           AAPL       MSFT\n",
       "Date                            \n",
       "2014-01-02  76.419139  35.448341\n",
       "2014-01-03  74.740527  35.209856\n",
       "2014-01-06  75.148096  34.465786\n",
       "2014-01-07  74.610653  34.732887\n",
       "2014-01-08  75.083151  34.112826"
      ]
     },
     "execution_count": 27,
     "metadata": {},
     "output_type": "execute_result"
    }
   ],
   "source": [
    "# Armando una tabla pivot del precio de cierre\n",
    "pivot = datos_todo.pivot(index='Date', columns='Symbol', \n",
    "                         values='Adj Close')\n",
    "\n",
    "pivot.head()"
   ]
  },
  {
   "cell_type": "code",
   "execution_count": 28,
   "metadata": {
    "collapsed": false
   },
   "outputs": [
    {
     "data": {
      "text/html": [
       "<div style=\"max-height:1000px;max-width:1500px;overflow:auto;\">\n",
       "<table border=\"1\" class=\"dataframe\">\n",
       "  <thead>\n",
       "    <tr style=\"text-align: right;\">\n",
       "      <th></th>\n",
       "      <th></th>\n",
       "      <th>Open</th>\n",
       "      <th>High</th>\n",
       "      <th>Low</th>\n",
       "      <th>Close</th>\n",
       "      <th>Volume</th>\n",
       "      <th>Adj Close</th>\n",
       "    </tr>\n",
       "    <tr>\n",
       "      <th>symbols</th>\n",
       "      <th>Date</th>\n",
       "      <th></th>\n",
       "      <th></th>\n",
       "      <th></th>\n",
       "      <th></th>\n",
       "      <th></th>\n",
       "      <th></th>\n",
       "    </tr>\n",
       "  </thead>\n",
       "  <tbody>\n",
       "    <tr>\n",
       "      <th rowspan=\"5\" valign=\"top\">AAPL</th>\n",
       "      <th>2014-01-02</th>\n",
       "      <td>555.680008</td>\n",
       "      <td>557.029945</td>\n",
       "      <td>552.020004</td>\n",
       "      <td>553.129990</td>\n",
       "      <td>58671200</td>\n",
       "      <td>76.419139</td>\n",
       "    </tr>\n",
       "    <tr>\n",
       "      <th>2014-01-03</th>\n",
       "      <td>552.860023</td>\n",
       "      <td>553.699989</td>\n",
       "      <td>540.430046</td>\n",
       "      <td>540.980019</td>\n",
       "      <td>98116900</td>\n",
       "      <td>74.740527</td>\n",
       "    </tr>\n",
       "    <tr>\n",
       "      <th>2014-01-06</th>\n",
       "      <td>537.450005</td>\n",
       "      <td>546.800018</td>\n",
       "      <td>533.599983</td>\n",
       "      <td>543.930046</td>\n",
       "      <td>103152700</td>\n",
       "      <td>75.148096</td>\n",
       "    </tr>\n",
       "    <tr>\n",
       "      <th>2014-01-07</th>\n",
       "      <td>544.320015</td>\n",
       "      <td>545.960052</td>\n",
       "      <td>537.919975</td>\n",
       "      <td>540.039970</td>\n",
       "      <td>79302300</td>\n",
       "      <td>74.610653</td>\n",
       "    </tr>\n",
       "    <tr>\n",
       "      <th>2014-01-08</th>\n",
       "      <td>538.810036</td>\n",
       "      <td>545.559990</td>\n",
       "      <td>538.689980</td>\n",
       "      <td>543.459969</td>\n",
       "      <td>64632400</td>\n",
       "      <td>75.083151</td>\n",
       "    </tr>\n",
       "  </tbody>\n",
       "</table>\n",
       "</div>"
      ],
      "text/plain": [
       "                          Open        High         Low       Close     Volume  \\\n",
       "symbols Date                                                                    \n",
       "AAPL    2014-01-02  555.680008  557.029945  552.020004  553.129990   58671200   \n",
       "        2014-01-03  552.860023  553.699989  540.430046  540.980019   98116900   \n",
       "        2014-01-06  537.450005  546.800018  533.599983  543.930046  103152700   \n",
       "        2014-01-07  544.320015  545.960052  537.919975  540.039970   79302300   \n",
       "        2014-01-08  538.810036  545.559990  538.689980  543.459969   64632400   \n",
       "\n",
       "                    Adj Close  \n",
       "symbols Date                   \n",
       "AAPL    2014-01-02  76.419139  \n",
       "        2014-01-03  74.740527  \n",
       "        2014-01-06  75.148096  \n",
       "        2014-01-07  74.610653  \n",
       "        2014-01-08  75.083151  "
      ]
     },
     "execution_count": 28,
     "metadata": {},
     "output_type": "execute_result"
    }
   ],
   "source": [
    "# Obteniendo datos de multiples empresas\n",
    "def all_stocks(symbols, start, end):\n",
    "       def data(symbols):\n",
    "           return pd.io.data.DataReader(symbols, 'yahoo', start, end)\n",
    "       datas = map(data, symbols)\n",
    "       return pd.concat(datas, keys=symbols, names=['symbols','Date'])\n",
    "\n",
    "simbolos = ['AAPL','MSFT','GOOG','IBM']\n",
    "\n",
    "all_data = all_stocks(simbolos, inicio, fin)\n",
    "all_data.head()"
   ]
  },
  {
   "cell_type": "code",
   "execution_count": 29,
   "metadata": {
    "collapsed": false
   },
   "outputs": [
    {
     "data": {
      "text/html": [
       "<div style=\"max-height:1000px;max-width:1500px;overflow:auto;\">\n",
       "<table border=\"1\" class=\"dataframe\">\n",
       "  <thead>\n",
       "    <tr style=\"text-align: right;\">\n",
       "      <th></th>\n",
       "      <th>Open</th>\n",
       "      <th>High</th>\n",
       "      <th>Low</th>\n",
       "      <th>Close</th>\n",
       "      <th>Volume</th>\n",
       "      <th>Adj Close</th>\n",
       "    </tr>\n",
       "    <tr>\n",
       "      <th>Date</th>\n",
       "      <th></th>\n",
       "      <th></th>\n",
       "      <th></th>\n",
       "      <th></th>\n",
       "      <th></th>\n",
       "      <th></th>\n",
       "    </tr>\n",
       "  </thead>\n",
       "  <tbody>\n",
       "    <tr>\n",
       "      <th>2014-03-27</th>\n",
       "      <td>568.002570</td>\n",
       "      <td>568.002570</td>\n",
       "      <td>552.922516</td>\n",
       "      <td>558.462551</td>\n",
       "      <td>13100</td>\n",
       "      <td>558.462551</td>\n",
       "    </tr>\n",
       "    <tr>\n",
       "      <th>2014-03-28</th>\n",
       "      <td>561.202549</td>\n",
       "      <td>566.432590</td>\n",
       "      <td>558.672477</td>\n",
       "      <td>559.992504</td>\n",
       "      <td>41200</td>\n",
       "      <td>559.992504</td>\n",
       "    </tr>\n",
       "    <tr>\n",
       "      <th>2014-03-31</th>\n",
       "      <td>566.892592</td>\n",
       "      <td>567.002574</td>\n",
       "      <td>556.932537</td>\n",
       "      <td>556.972503</td>\n",
       "      <td>10800</td>\n",
       "      <td>556.972503</td>\n",
       "    </tr>\n",
       "    <tr>\n",
       "      <th>2014-04-01</th>\n",
       "      <td>558.712565</td>\n",
       "      <td>568.452595</td>\n",
       "      <td>558.712565</td>\n",
       "      <td>567.162558</td>\n",
       "      <td>7900</td>\n",
       "      <td>567.162558</td>\n",
       "    </tr>\n",
       "    <tr>\n",
       "      <th>2014-04-02</th>\n",
       "      <td>599.992707</td>\n",
       "      <td>604.832763</td>\n",
       "      <td>562.192568</td>\n",
       "      <td>567.002574</td>\n",
       "      <td>147100</td>\n",
       "      <td>567.002574</td>\n",
       "    </tr>\n",
       "  </tbody>\n",
       "</table>\n",
       "</div>"
      ],
      "text/plain": [
       "                  Open        High         Low       Close  Volume   Adj Close\n",
       "Date                                                                          \n",
       "2014-03-27  568.002570  568.002570  552.922516  558.462551   13100  558.462551\n",
       "2014-03-28  561.202549  566.432590  558.672477  559.992504   41200  559.992504\n",
       "2014-03-31  566.892592  567.002574  556.932537  556.972503   10800  556.972503\n",
       "2014-04-01  558.712565  568.452595  558.712565  567.162558    7900  567.162558\n",
       "2014-04-02  599.992707  604.832763  562.192568  567.002574  147100  567.002574"
      ]
     },
     "execution_count": 29,
     "metadata": {},
     "output_type": "execute_result"
    }
   ],
   "source": [
    "all_data.ix['GOOG'].head()  # información de google"
   ]
  },
  {
   "cell_type": "code",
   "execution_count": 30,
   "metadata": {
    "collapsed": false
   },
   "outputs": [
    {
     "data": {
      "text/html": [
       "<div style=\"max-height:1000px;max-width:1500px;overflow:auto;\">\n",
       "<table border=\"1\" class=\"dataframe\">\n",
       "  <thead>\n",
       "    <tr style=\"text-align: right;\">\n",
       "      <th>symbols</th>\n",
       "      <th>AAPL</th>\n",
       "      <th>GOOG</th>\n",
       "      <th>IBM</th>\n",
       "      <th>MSFT</th>\n",
       "    </tr>\n",
       "    <tr>\n",
       "      <th>Date</th>\n",
       "      <th></th>\n",
       "      <th></th>\n",
       "      <th></th>\n",
       "      <th></th>\n",
       "    </tr>\n",
       "  </thead>\n",
       "  <tbody>\n",
       "    <tr>\n",
       "      <th>2014-01-02</th>\n",
       "      <td>76.419139</td>\n",
       "      <td>NaN</td>\n",
       "      <td>177.049572</td>\n",
       "      <td>35.448341</td>\n",
       "    </tr>\n",
       "    <tr>\n",
       "      <th>2014-01-03</th>\n",
       "      <td>74.740527</td>\n",
       "      <td>NaN</td>\n",
       "      <td>178.108836</td>\n",
       "      <td>35.209856</td>\n",
       "    </tr>\n",
       "    <tr>\n",
       "      <th>2014-01-06</th>\n",
       "      <td>75.148096</td>\n",
       "      <td>NaN</td>\n",
       "      <td>177.498090</td>\n",
       "      <td>34.465786</td>\n",
       "    </tr>\n",
       "    <tr>\n",
       "      <th>2014-01-07</th>\n",
       "      <td>74.610653</td>\n",
       "      <td>NaN</td>\n",
       "      <td>181.038515</td>\n",
       "      <td>34.732887</td>\n",
       "    </tr>\n",
       "    <tr>\n",
       "      <th>2014-01-08</th>\n",
       "      <td>75.083151</td>\n",
       "      <td>NaN</td>\n",
       "      <td>179.378044</td>\n",
       "      <td>34.112826</td>\n",
       "    </tr>\n",
       "  </tbody>\n",
       "</table>\n",
       "</div>"
      ],
      "text/plain": [
       "symbols          AAPL  GOOG         IBM       MSFT\n",
       "Date                                              \n",
       "2014-01-02  76.419139   NaN  177.049572  35.448341\n",
       "2014-01-03  74.740527   NaN  178.108836  35.209856\n",
       "2014-01-06  75.148096   NaN  177.498090  34.465786\n",
       "2014-01-07  74.610653   NaN  181.038515  34.732887\n",
       "2014-01-08  75.083151   NaN  179.378044  34.112826"
      ]
     },
     "execution_count": 30,
     "metadata": {},
     "output_type": "execute_result"
    }
   ],
   "source": [
    "# Graficando los datos.\n",
    "solo_cierre = all_data[['Adj Close']].reset_index()\n",
    "pivot_cierre = solo_cierre.pivot('Date', 'symbols', 'Adj Close')\n",
    "\n",
    "pivot_cierre.head()"
   ]
  },
  {
   "cell_type": "code",
   "execution_count": 31,
   "metadata": {
    "collapsed": false
   },
   "outputs": [
    {
     "data": {
      "text/plain": [
       "<matplotlib.axes._subplots.AxesSubplot at 0x7f5445826080>"
      ]
     },
     "execution_count": 31,
     "metadata": {},
     "output_type": "execute_result"
    },
    {
     "data": {
      "image/png": "[encoded data removed]",
      "text/plain": [
       "<matplotlib.figure.Figure at 0x7f54457f9e48>"
      ]
     },
     "metadata": {},
     "output_type": "display_data"
    }
   ],
   "source": [
    "# Graficando la información de Apple\n",
    "pivot_cierre['AAPL'].plot(figsize=(12,8))  "
   ]
  },
  {
   "cell_type": "code",
   "execution_count": 32,
   "metadata": {
    "collapsed": false
   },
   "outputs": [
    {
     "data": {
      "text/plain": [
       "<matplotlib.axes._subplots.AxesSubplot at 0x7f54457194e0>"
      ]
     },
     "execution_count": 32,
     "metadata": {},
     "output_type": "execute_result"
    },
    {
     "data": {
      "image/png": "[encoded data removed]",
      "text/plain": [
       "<matplotlib.figure.Figure at 0x7f54457dd9e8>"
      ]
     },
     "metadata": {},
     "output_type": "display_data"
    }
   ],
   "source": [
    "# Graficando todos\n",
    "pivot_cierre.plot(figsize=(12,8)) "
   ]
  },
  {
   "cell_type": "markdown",
   "metadata": {},
   "source": [
    "Como podemos ver [Pandas](http://pandas.pydata.org/) es una librería muy versátil, con ella podemos hacer todo tipo de manipulaciones de datos, desde obtener los datos desde la web hasta realizar concatenaciones, tablas pivot o incluso realizar gráficos. \n",
    "\n",
    "Con esto termino esta introducción a finanzas con [Python](https://www.python.org/); los dejo para que se entretengan con sus propios ejemplos, a prácticar!"
   ]
  },
  {
   "cell_type": "markdown",
   "metadata": {},
   "source": [
    "Saludos!\n",
    "\n",
    "*Este post fue escrito utilizando IPython notebook. Pueden descargar este [notebook](https://github.com/relopezbriega/relopezbriega.github.io/blob/master/downloads/pyFinance.ipynb) o ver su version estática en [nbviewer](http://nbviewer.ipython.org/github/relopezbriega/relopezbriega.github.io/blob/master/downloads/pyFinance.ipynb).*"
   ]
  }
 ],
 "metadata": {
  "kernelspec": {
   "display_name": "Python 3",
   "language": "python",
   "name": "python3"
  },
  "language_info": {
   "codemirror_mode": {
    "name": "ipython",
    "version": 3
   },
   "file_extension": ".py",
   "mimetype": "text/x-python",
   "name": "python",
   "nbconvert_exporter": "python",
   "pygments_lexer": "ipython3",
   "version": "3.4.3"
  }
 },
 "nbformat": 4,
 "nbformat_minor": 0
}
